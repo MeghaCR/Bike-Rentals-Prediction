{
  "nbformat": 4,
  "nbformat_minor": 0,
  "metadata": {
    "colab": {
      "provenance": [],
      "collapsed_sections": []
    },
    "kernelspec": {
      "name": "python3",
      "display_name": "Python 3"
    },
    "language_info": {
      "name": "python"
    }
  },
  "cells": [
    {
      "cell_type": "markdown",
      "source": [
        "# **Problem Statement**\n",
        "\n",
        "A bike-sharing system is a service in which bikes are made available for shared use to individuals on a short term basis for a price or free. Many bike share systems allow people to borrow a bike from a \"dock\" which is usually computer-controlled wherein the user enters the payment information, and the system unlocks it. This bike can then be returned to another dock belonging to the same system.\n",
        "\n",
        "\n",
        "A US bike-sharing provider BoomBikes has recently suffered considerable dips in their revenues due to the ongoing Corona pandemic. The company is finding it very difficult to sustain in the current market scenario. So, it has decided to come up with a mindful business plan to be able to accelerate its revenue as soon as the ongoing lockdown comes to an end, and the economy restores to a healthy state. \n",
        "\n",
        "\n",
        "In such an attempt, BoomBikes aspires to understand the demand for shared bikes among the people after this ongoing quarantine situation ends across the nation due to Covid-19. They have planned this to prepare themselves to cater to the people's needs once the situation gets better all around and stand out from other service providers and make huge profits.\n",
        "\n",
        "\n",
        "They have contracted a consulting company to understand the factors on which the demand for these shared bikes depends. Specifically, they want to understand the factors affecting the demand for these shared bikes in the American market. The company wants to know:\n",
        "\n",
        "* Which variables are significant in predicting the demand for shared bikes.\n",
        "* How well those variables describe the bike demands\n",
        "\n",
        "Based on various meteorological surveys and people's styles, the service provider firm has gathered a large dataset on daily bike demands across the American market based on some factors. \n",
        "\n",
        "\n",
        "\n",
        "\n"
      ],
      "metadata": {
        "id": "KCxsSGdOgKii"
      }
    },
    {
      "cell_type": "markdown",
      "source": [
        "# **Business Objective**\n",
        "\n",
        "To model the demand for shared bikes with the available independent variables. It will be used by the management to understand how exactly the demands vary with different features. They can accordingly manipulate the business strategy to meet the demand levels and meet the customer's expectations. Further, the model will be a good way for management to understand the demand dynamics of a new market. "
      ],
      "metadata": {
        "id": "fbV0Bo_JhU-y"
      }
    },
    {
      "cell_type": "markdown",
      "source": [
        "# **Step 1: Reading and Understanding the data**"
      ],
      "metadata": {
        "id": "KDyXhk77gmO0"
      }
    },
    {
      "cell_type": "code",
      "execution_count": 486,
      "metadata": {
        "id": "p4Jo56w1f9TE"
      },
      "outputs": [],
      "source": [
        "#import libraries\n",
        "import pandas as pd\n",
        "import numpy as np\n",
        "\n",
        "#ignore warnings\n",
        "import warnings\n",
        "warnings.filterwarnings('ignore')"
      ]
    },
    {
      "cell_type": "code",
      "source": [
        "#read the csv file\n",
        "dayDF = pd.read_csv('day.csv')\n",
        "dayDF.head()"
      ],
      "metadata": {
        "colab": {
          "base_uri": "https://localhost:8080/",
          "height": 250
        },
        "id": "ZjGYYCaPie6r",
        "outputId": "ecfc92cc-6734-468e-c309-d6d93610982b"
      },
      "execution_count": 487,
      "outputs": [
        {
          "output_type": "execute_result",
          "data": {
            "text/plain": [
              "   instant      dteday  season  yr  mnth  holiday  weekday  workingday  \\\n",
              "0        1  01-01-2018       1   0     1        0        6           0   \n",
              "1        2  02-01-2018       1   0     1        0        0           0   \n",
              "2        3  03-01-2018       1   0     1        0        1           1   \n",
              "3        4  04-01-2018       1   0     1        0        2           1   \n",
              "4        5  05-01-2018       1   0     1        0        3           1   \n",
              "\n",
              "   weathersit       temp     atemp      hum  windspeed  casual  registered  \\\n",
              "0           2  14.110847  18.18125  80.5833  10.749882     331         654   \n",
              "1           2  14.902598  17.68695  69.6087  16.652113     131         670   \n",
              "2           1   8.050924   9.47025  43.7273  16.636703     120        1229   \n",
              "3           1   8.200000  10.60610  59.0435  10.739832     108        1454   \n",
              "4           1   9.305237  11.46350  43.6957  12.522300      82        1518   \n",
              "\n",
              "    cnt  \n",
              "0   985  \n",
              "1   801  \n",
              "2  1349  \n",
              "3  1562  \n",
              "4  1600  "
            ],
            "text/html": [
              "\n",
              "  <div id=\"df-df9afeb5-3e56-47a5-aa75-3bce01c96dd6\">\n",
              "    <div class=\"colab-df-container\">\n",
              "      <div>\n",
              "<style scoped>\n",
              "    .dataframe tbody tr th:only-of-type {\n",
              "        vertical-align: middle;\n",
              "    }\n",
              "\n",
              "    .dataframe tbody tr th {\n",
              "        vertical-align: top;\n",
              "    }\n",
              "\n",
              "    .dataframe thead th {\n",
              "        text-align: right;\n",
              "    }\n",
              "</style>\n",
              "<table border=\"1\" class=\"dataframe\">\n",
              "  <thead>\n",
              "    <tr style=\"text-align: right;\">\n",
              "      <th></th>\n",
              "      <th>instant</th>\n",
              "      <th>dteday</th>\n",
              "      <th>season</th>\n",
              "      <th>yr</th>\n",
              "      <th>mnth</th>\n",
              "      <th>holiday</th>\n",
              "      <th>weekday</th>\n",
              "      <th>workingday</th>\n",
              "      <th>weathersit</th>\n",
              "      <th>temp</th>\n",
              "      <th>atemp</th>\n",
              "      <th>hum</th>\n",
              "      <th>windspeed</th>\n",
              "      <th>casual</th>\n",
              "      <th>registered</th>\n",
              "      <th>cnt</th>\n",
              "    </tr>\n",
              "  </thead>\n",
              "  <tbody>\n",
              "    <tr>\n",
              "      <th>0</th>\n",
              "      <td>1</td>\n",
              "      <td>01-01-2018</td>\n",
              "      <td>1</td>\n",
              "      <td>0</td>\n",
              "      <td>1</td>\n",
              "      <td>0</td>\n",
              "      <td>6</td>\n",
              "      <td>0</td>\n",
              "      <td>2</td>\n",
              "      <td>14.110847</td>\n",
              "      <td>18.18125</td>\n",
              "      <td>80.5833</td>\n",
              "      <td>10.749882</td>\n",
              "      <td>331</td>\n",
              "      <td>654</td>\n",
              "      <td>985</td>\n",
              "    </tr>\n",
              "    <tr>\n",
              "      <th>1</th>\n",
              "      <td>2</td>\n",
              "      <td>02-01-2018</td>\n",
              "      <td>1</td>\n",
              "      <td>0</td>\n",
              "      <td>1</td>\n",
              "      <td>0</td>\n",
              "      <td>0</td>\n",
              "      <td>0</td>\n",
              "      <td>2</td>\n",
              "      <td>14.902598</td>\n",
              "      <td>17.68695</td>\n",
              "      <td>69.6087</td>\n",
              "      <td>16.652113</td>\n",
              "      <td>131</td>\n",
              "      <td>670</td>\n",
              "      <td>801</td>\n",
              "    </tr>\n",
              "    <tr>\n",
              "      <th>2</th>\n",
              "      <td>3</td>\n",
              "      <td>03-01-2018</td>\n",
              "      <td>1</td>\n",
              "      <td>0</td>\n",
              "      <td>1</td>\n",
              "      <td>0</td>\n",
              "      <td>1</td>\n",
              "      <td>1</td>\n",
              "      <td>1</td>\n",
              "      <td>8.050924</td>\n",
              "      <td>9.47025</td>\n",
              "      <td>43.7273</td>\n",
              "      <td>16.636703</td>\n",
              "      <td>120</td>\n",
              "      <td>1229</td>\n",
              "      <td>1349</td>\n",
              "    </tr>\n",
              "    <tr>\n",
              "      <th>3</th>\n",
              "      <td>4</td>\n",
              "      <td>04-01-2018</td>\n",
              "      <td>1</td>\n",
              "      <td>0</td>\n",
              "      <td>1</td>\n",
              "      <td>0</td>\n",
              "      <td>2</td>\n",
              "      <td>1</td>\n",
              "      <td>1</td>\n",
              "      <td>8.200000</td>\n",
              "      <td>10.60610</td>\n",
              "      <td>59.0435</td>\n",
              "      <td>10.739832</td>\n",
              "      <td>108</td>\n",
              "      <td>1454</td>\n",
              "      <td>1562</td>\n",
              "    </tr>\n",
              "    <tr>\n",
              "      <th>4</th>\n",
              "      <td>5</td>\n",
              "      <td>05-01-2018</td>\n",
              "      <td>1</td>\n",
              "      <td>0</td>\n",
              "      <td>1</td>\n",
              "      <td>0</td>\n",
              "      <td>3</td>\n",
              "      <td>1</td>\n",
              "      <td>1</td>\n",
              "      <td>9.305237</td>\n",
              "      <td>11.46350</td>\n",
              "      <td>43.6957</td>\n",
              "      <td>12.522300</td>\n",
              "      <td>82</td>\n",
              "      <td>1518</td>\n",
              "      <td>1600</td>\n",
              "    </tr>\n",
              "  </tbody>\n",
              "</table>\n",
              "</div>\n",
              "      <button class=\"colab-df-convert\" onclick=\"convertToInteractive('df-df9afeb5-3e56-47a5-aa75-3bce01c96dd6')\"\n",
              "              title=\"Convert this dataframe to an interactive table.\"\n",
              "              style=\"display:none;\">\n",
              "        \n",
              "  <svg xmlns=\"http://www.w3.org/2000/svg\" height=\"24px\"viewBox=\"0 0 24 24\"\n",
              "       width=\"24px\">\n",
              "    <path d=\"M0 0h24v24H0V0z\" fill=\"none\"/>\n",
              "    <path d=\"M18.56 5.44l.94 2.06.94-2.06 2.06-.94-2.06-.94-.94-2.06-.94 2.06-2.06.94zm-11 1L8.5 8.5l.94-2.06 2.06-.94-2.06-.94L8.5 2.5l-.94 2.06-2.06.94zm10 10l.94 2.06.94-2.06 2.06-.94-2.06-.94-.94-2.06-.94 2.06-2.06.94z\"/><path d=\"M17.41 7.96l-1.37-1.37c-.4-.4-.92-.59-1.43-.59-.52 0-1.04.2-1.43.59L10.3 9.45l-7.72 7.72c-.78.78-.78 2.05 0 2.83L4 21.41c.39.39.9.59 1.41.59.51 0 1.02-.2 1.41-.59l7.78-7.78 2.81-2.81c.8-.78.8-2.07 0-2.86zM5.41 20L4 18.59l7.72-7.72 1.47 1.35L5.41 20z\"/>\n",
              "  </svg>\n",
              "      </button>\n",
              "      \n",
              "  <style>\n",
              "    .colab-df-container {\n",
              "      display:flex;\n",
              "      flex-wrap:wrap;\n",
              "      gap: 12px;\n",
              "    }\n",
              "\n",
              "    .colab-df-convert {\n",
              "      background-color: #E8F0FE;\n",
              "      border: none;\n",
              "      border-radius: 50%;\n",
              "      cursor: pointer;\n",
              "      display: none;\n",
              "      fill: #1967D2;\n",
              "      height: 32px;\n",
              "      padding: 0 0 0 0;\n",
              "      width: 32px;\n",
              "    }\n",
              "\n",
              "    .colab-df-convert:hover {\n",
              "      background-color: #E2EBFA;\n",
              "      box-shadow: 0px 1px 2px rgba(60, 64, 67, 0.3), 0px 1px 3px 1px rgba(60, 64, 67, 0.15);\n",
              "      fill: #174EA6;\n",
              "    }\n",
              "\n",
              "    [theme=dark] .colab-df-convert {\n",
              "      background-color: #3B4455;\n",
              "      fill: #D2E3FC;\n",
              "    }\n",
              "\n",
              "    [theme=dark] .colab-df-convert:hover {\n",
              "      background-color: #434B5C;\n",
              "      box-shadow: 0px 1px 3px 1px rgba(0, 0, 0, 0.15);\n",
              "      filter: drop-shadow(0px 1px 2px rgba(0, 0, 0, 0.3));\n",
              "      fill: #FFFFFF;\n",
              "    }\n",
              "  </style>\n",
              "\n",
              "      <script>\n",
              "        const buttonEl =\n",
              "          document.querySelector('#df-df9afeb5-3e56-47a5-aa75-3bce01c96dd6 button.colab-df-convert');\n",
              "        buttonEl.style.display =\n",
              "          google.colab.kernel.accessAllowed ? 'block' : 'none';\n",
              "\n",
              "        async function convertToInteractive(key) {\n",
              "          const element = document.querySelector('#df-df9afeb5-3e56-47a5-aa75-3bce01c96dd6');\n",
              "          const dataTable =\n",
              "            await google.colab.kernel.invokeFunction('convertToInteractive',\n",
              "                                                     [key], {});\n",
              "          if (!dataTable) return;\n",
              "\n",
              "          const docLinkHtml = 'Like what you see? Visit the ' +\n",
              "            '<a target=\"_blank\" href=https://colab.research.google.com/notebooks/data_table.ipynb>data table notebook</a>'\n",
              "            + ' to learn more about interactive tables.';\n",
              "          element.innerHTML = '';\n",
              "          dataTable['output_type'] = 'display_data';\n",
              "          await google.colab.output.renderOutput(dataTable, element);\n",
              "          const docLink = document.createElement('div');\n",
              "          docLink.innerHTML = docLinkHtml;\n",
              "          element.appendChild(docLink);\n",
              "        }\n",
              "      </script>\n",
              "    </div>\n",
              "  </div>\n",
              "  "
            ]
          },
          "metadata": {},
          "execution_count": 487
        }
      ]
    },
    {
      "cell_type": "code",
      "source": [
        "#check the structure of the dataset\n",
        "dayDF.shape"
      ],
      "metadata": {
        "colab": {
          "base_uri": "https://localhost:8080/"
        },
        "id": "iPXk6bJXirW-",
        "outputId": "415603a0-a27a-47a5-b6de-1939dda942f6"
      },
      "execution_count": 488,
      "outputs": [
        {
          "output_type": "execute_result",
          "data": {
            "text/plain": [
              "(730, 16)"
            ]
          },
          "metadata": {},
          "execution_count": 488
        }
      ]
    },
    {
      "cell_type": "code",
      "source": [
        "#check for null values and datatypes\n",
        "dayDF.info()"
      ],
      "metadata": {
        "colab": {
          "base_uri": "https://localhost:8080/"
        },
        "id": "9R5rUGSsjJIv",
        "outputId": "cf354ae4-3ef1-4ae2-8e0b-99a57927f814"
      },
      "execution_count": 489,
      "outputs": [
        {
          "output_type": "stream",
          "name": "stdout",
          "text": [
            "<class 'pandas.core.frame.DataFrame'>\n",
            "RangeIndex: 730 entries, 0 to 729\n",
            "Data columns (total 16 columns):\n",
            " #   Column      Non-Null Count  Dtype  \n",
            "---  ------      --------------  -----  \n",
            " 0   instant     730 non-null    int64  \n",
            " 1   dteday      730 non-null    object \n",
            " 2   season      730 non-null    int64  \n",
            " 3   yr          730 non-null    int64  \n",
            " 4   mnth        730 non-null    int64  \n",
            " 5   holiday     730 non-null    int64  \n",
            " 6   weekday     730 non-null    int64  \n",
            " 7   workingday  730 non-null    int64  \n",
            " 8   weathersit  730 non-null    int64  \n",
            " 9   temp        730 non-null    float64\n",
            " 10  atemp       730 non-null    float64\n",
            " 11  hum         730 non-null    float64\n",
            " 12  windspeed   730 non-null    float64\n",
            " 13  casual      730 non-null    int64  \n",
            " 14  registered  730 non-null    int64  \n",
            " 15  cnt         730 non-null    int64  \n",
            "dtypes: float64(4), int64(11), object(1)\n",
            "memory usage: 91.4+ KB\n"
          ]
        }
      ]
    },
    {
      "cell_type": "markdown",
      "source": [
        "-> There are no null values in the dataset.\n",
        "\n",
        "-> The date column is of type object, we need to convert this."
      ],
      "metadata": {
        "id": "i1nQ3CoNqn2D"
      }
    },
    {
      "cell_type": "code",
      "source": [
        "#check basic statistics of the numerical columns\n",
        "dayDF.describe()"
      ],
      "metadata": {
        "colab": {
          "base_uri": "https://localhost:8080/",
          "height": 364
        },
        "id": "CMLHxYjGrFxd",
        "outputId": "1a45d7b9-df8f-4efd-9b44-b08fc19db9dc"
      },
      "execution_count": 490,
      "outputs": [
        {
          "output_type": "execute_result",
          "data": {
            "text/plain": [
              "          instant      season          yr        mnth     holiday     weekday  \\\n",
              "count  730.000000  730.000000  730.000000  730.000000  730.000000  730.000000   \n",
              "mean   365.500000    2.498630    0.500000    6.526027    0.028767    2.997260   \n",
              "std    210.877136    1.110184    0.500343    3.450215    0.167266    2.006161   \n",
              "min      1.000000    1.000000    0.000000    1.000000    0.000000    0.000000   \n",
              "25%    183.250000    2.000000    0.000000    4.000000    0.000000    1.000000   \n",
              "50%    365.500000    3.000000    0.500000    7.000000    0.000000    3.000000   \n",
              "75%    547.750000    3.000000    1.000000   10.000000    0.000000    5.000000   \n",
              "max    730.000000    4.000000    1.000000   12.000000    1.000000    6.000000   \n",
              "\n",
              "       workingday  weathersit        temp       atemp         hum   windspeed  \\\n",
              "count  730.000000  730.000000  730.000000  730.000000  730.000000  730.000000   \n",
              "mean     0.683562    1.394521   20.319259   23.726322   62.765175   12.763620   \n",
              "std      0.465405    0.544807    7.506729    8.150308   14.237589    5.195841   \n",
              "min      0.000000    1.000000    2.424346    3.953480    0.000000    1.500244   \n",
              "25%      0.000000    1.000000   13.811885   16.889713   52.000000    9.041650   \n",
              "50%      1.000000    1.000000   20.465826   24.368225   62.625000   12.125325   \n",
              "75%      1.000000    2.000000   26.880615   30.445775   72.989575   15.625589   \n",
              "max      1.000000    3.000000   35.328347   42.044800   97.250000   34.000021   \n",
              "\n",
              "            casual   registered          cnt  \n",
              "count   730.000000   730.000000   730.000000  \n",
              "mean    849.249315  3658.757534  4508.006849  \n",
              "std     686.479875  1559.758728  1936.011647  \n",
              "min       2.000000    20.000000    22.000000  \n",
              "25%     316.250000  2502.250000  3169.750000  \n",
              "50%     717.000000  3664.500000  4548.500000  \n",
              "75%    1096.500000  4783.250000  5966.000000  \n",
              "max    3410.000000  6946.000000  8714.000000  "
            ],
            "text/html": [
              "\n",
              "  <div id=\"df-5452e626-6ad5-4ad4-b6f9-cfff74cc58a7\">\n",
              "    <div class=\"colab-df-container\">\n",
              "      <div>\n",
              "<style scoped>\n",
              "    .dataframe tbody tr th:only-of-type {\n",
              "        vertical-align: middle;\n",
              "    }\n",
              "\n",
              "    .dataframe tbody tr th {\n",
              "        vertical-align: top;\n",
              "    }\n",
              "\n",
              "    .dataframe thead th {\n",
              "        text-align: right;\n",
              "    }\n",
              "</style>\n",
              "<table border=\"1\" class=\"dataframe\">\n",
              "  <thead>\n",
              "    <tr style=\"text-align: right;\">\n",
              "      <th></th>\n",
              "      <th>instant</th>\n",
              "      <th>season</th>\n",
              "      <th>yr</th>\n",
              "      <th>mnth</th>\n",
              "      <th>holiday</th>\n",
              "      <th>weekday</th>\n",
              "      <th>workingday</th>\n",
              "      <th>weathersit</th>\n",
              "      <th>temp</th>\n",
              "      <th>atemp</th>\n",
              "      <th>hum</th>\n",
              "      <th>windspeed</th>\n",
              "      <th>casual</th>\n",
              "      <th>registered</th>\n",
              "      <th>cnt</th>\n",
              "    </tr>\n",
              "  </thead>\n",
              "  <tbody>\n",
              "    <tr>\n",
              "      <th>count</th>\n",
              "      <td>730.000000</td>\n",
              "      <td>730.000000</td>\n",
              "      <td>730.000000</td>\n",
              "      <td>730.000000</td>\n",
              "      <td>730.000000</td>\n",
              "      <td>730.000000</td>\n",
              "      <td>730.000000</td>\n",
              "      <td>730.000000</td>\n",
              "      <td>730.000000</td>\n",
              "      <td>730.000000</td>\n",
              "      <td>730.000000</td>\n",
              "      <td>730.000000</td>\n",
              "      <td>730.000000</td>\n",
              "      <td>730.000000</td>\n",
              "      <td>730.000000</td>\n",
              "    </tr>\n",
              "    <tr>\n",
              "      <th>mean</th>\n",
              "      <td>365.500000</td>\n",
              "      <td>2.498630</td>\n",
              "      <td>0.500000</td>\n",
              "      <td>6.526027</td>\n",
              "      <td>0.028767</td>\n",
              "      <td>2.997260</td>\n",
              "      <td>0.683562</td>\n",
              "      <td>1.394521</td>\n",
              "      <td>20.319259</td>\n",
              "      <td>23.726322</td>\n",
              "      <td>62.765175</td>\n",
              "      <td>12.763620</td>\n",
              "      <td>849.249315</td>\n",
              "      <td>3658.757534</td>\n",
              "      <td>4508.006849</td>\n",
              "    </tr>\n",
              "    <tr>\n",
              "      <th>std</th>\n",
              "      <td>210.877136</td>\n",
              "      <td>1.110184</td>\n",
              "      <td>0.500343</td>\n",
              "      <td>3.450215</td>\n",
              "      <td>0.167266</td>\n",
              "      <td>2.006161</td>\n",
              "      <td>0.465405</td>\n",
              "      <td>0.544807</td>\n",
              "      <td>7.506729</td>\n",
              "      <td>8.150308</td>\n",
              "      <td>14.237589</td>\n",
              "      <td>5.195841</td>\n",
              "      <td>686.479875</td>\n",
              "      <td>1559.758728</td>\n",
              "      <td>1936.011647</td>\n",
              "    </tr>\n",
              "    <tr>\n",
              "      <th>min</th>\n",
              "      <td>1.000000</td>\n",
              "      <td>1.000000</td>\n",
              "      <td>0.000000</td>\n",
              "      <td>1.000000</td>\n",
              "      <td>0.000000</td>\n",
              "      <td>0.000000</td>\n",
              "      <td>0.000000</td>\n",
              "      <td>1.000000</td>\n",
              "      <td>2.424346</td>\n",
              "      <td>3.953480</td>\n",
              "      <td>0.000000</td>\n",
              "      <td>1.500244</td>\n",
              "      <td>2.000000</td>\n",
              "      <td>20.000000</td>\n",
              "      <td>22.000000</td>\n",
              "    </tr>\n",
              "    <tr>\n",
              "      <th>25%</th>\n",
              "      <td>183.250000</td>\n",
              "      <td>2.000000</td>\n",
              "      <td>0.000000</td>\n",
              "      <td>4.000000</td>\n",
              "      <td>0.000000</td>\n",
              "      <td>1.000000</td>\n",
              "      <td>0.000000</td>\n",
              "      <td>1.000000</td>\n",
              "      <td>13.811885</td>\n",
              "      <td>16.889713</td>\n",
              "      <td>52.000000</td>\n",
              "      <td>9.041650</td>\n",
              "      <td>316.250000</td>\n",
              "      <td>2502.250000</td>\n",
              "      <td>3169.750000</td>\n",
              "    </tr>\n",
              "    <tr>\n",
              "      <th>50%</th>\n",
              "      <td>365.500000</td>\n",
              "      <td>3.000000</td>\n",
              "      <td>0.500000</td>\n",
              "      <td>7.000000</td>\n",
              "      <td>0.000000</td>\n",
              "      <td>3.000000</td>\n",
              "      <td>1.000000</td>\n",
              "      <td>1.000000</td>\n",
              "      <td>20.465826</td>\n",
              "      <td>24.368225</td>\n",
              "      <td>62.625000</td>\n",
              "      <td>12.125325</td>\n",
              "      <td>717.000000</td>\n",
              "      <td>3664.500000</td>\n",
              "      <td>4548.500000</td>\n",
              "    </tr>\n",
              "    <tr>\n",
              "      <th>75%</th>\n",
              "      <td>547.750000</td>\n",
              "      <td>3.000000</td>\n",
              "      <td>1.000000</td>\n",
              "      <td>10.000000</td>\n",
              "      <td>0.000000</td>\n",
              "      <td>5.000000</td>\n",
              "      <td>1.000000</td>\n",
              "      <td>2.000000</td>\n",
              "      <td>26.880615</td>\n",
              "      <td>30.445775</td>\n",
              "      <td>72.989575</td>\n",
              "      <td>15.625589</td>\n",
              "      <td>1096.500000</td>\n",
              "      <td>4783.250000</td>\n",
              "      <td>5966.000000</td>\n",
              "    </tr>\n",
              "    <tr>\n",
              "      <th>max</th>\n",
              "      <td>730.000000</td>\n",
              "      <td>4.000000</td>\n",
              "      <td>1.000000</td>\n",
              "      <td>12.000000</td>\n",
              "      <td>1.000000</td>\n",
              "      <td>6.000000</td>\n",
              "      <td>1.000000</td>\n",
              "      <td>3.000000</td>\n",
              "      <td>35.328347</td>\n",
              "      <td>42.044800</td>\n",
              "      <td>97.250000</td>\n",
              "      <td>34.000021</td>\n",
              "      <td>3410.000000</td>\n",
              "      <td>6946.000000</td>\n",
              "      <td>8714.000000</td>\n",
              "    </tr>\n",
              "  </tbody>\n",
              "</table>\n",
              "</div>\n",
              "      <button class=\"colab-df-convert\" onclick=\"convertToInteractive('df-5452e626-6ad5-4ad4-b6f9-cfff74cc58a7')\"\n",
              "              title=\"Convert this dataframe to an interactive table.\"\n",
              "              style=\"display:none;\">\n",
              "        \n",
              "  <svg xmlns=\"http://www.w3.org/2000/svg\" height=\"24px\"viewBox=\"0 0 24 24\"\n",
              "       width=\"24px\">\n",
              "    <path d=\"M0 0h24v24H0V0z\" fill=\"none\"/>\n",
              "    <path d=\"M18.56 5.44l.94 2.06.94-2.06 2.06-.94-2.06-.94-.94-2.06-.94 2.06-2.06.94zm-11 1L8.5 8.5l.94-2.06 2.06-.94-2.06-.94L8.5 2.5l-.94 2.06-2.06.94zm10 10l.94 2.06.94-2.06 2.06-.94-2.06-.94-.94-2.06-.94 2.06-2.06.94z\"/><path d=\"M17.41 7.96l-1.37-1.37c-.4-.4-.92-.59-1.43-.59-.52 0-1.04.2-1.43.59L10.3 9.45l-7.72 7.72c-.78.78-.78 2.05 0 2.83L4 21.41c.39.39.9.59 1.41.59.51 0 1.02-.2 1.41-.59l7.78-7.78 2.81-2.81c.8-.78.8-2.07 0-2.86zM5.41 20L4 18.59l7.72-7.72 1.47 1.35L5.41 20z\"/>\n",
              "  </svg>\n",
              "      </button>\n",
              "      \n",
              "  <style>\n",
              "    .colab-df-container {\n",
              "      display:flex;\n",
              "      flex-wrap:wrap;\n",
              "      gap: 12px;\n",
              "    }\n",
              "\n",
              "    .colab-df-convert {\n",
              "      background-color: #E8F0FE;\n",
              "      border: none;\n",
              "      border-radius: 50%;\n",
              "      cursor: pointer;\n",
              "      display: none;\n",
              "      fill: #1967D2;\n",
              "      height: 32px;\n",
              "      padding: 0 0 0 0;\n",
              "      width: 32px;\n",
              "    }\n",
              "\n",
              "    .colab-df-convert:hover {\n",
              "      background-color: #E2EBFA;\n",
              "      box-shadow: 0px 1px 2px rgba(60, 64, 67, 0.3), 0px 1px 3px 1px rgba(60, 64, 67, 0.15);\n",
              "      fill: #174EA6;\n",
              "    }\n",
              "\n",
              "    [theme=dark] .colab-df-convert {\n",
              "      background-color: #3B4455;\n",
              "      fill: #D2E3FC;\n",
              "    }\n",
              "\n",
              "    [theme=dark] .colab-df-convert:hover {\n",
              "      background-color: #434B5C;\n",
              "      box-shadow: 0px 1px 3px 1px rgba(0, 0, 0, 0.15);\n",
              "      filter: drop-shadow(0px 1px 2px rgba(0, 0, 0, 0.3));\n",
              "      fill: #FFFFFF;\n",
              "    }\n",
              "  </style>\n",
              "\n",
              "      <script>\n",
              "        const buttonEl =\n",
              "          document.querySelector('#df-5452e626-6ad5-4ad4-b6f9-cfff74cc58a7 button.colab-df-convert');\n",
              "        buttonEl.style.display =\n",
              "          google.colab.kernel.accessAllowed ? 'block' : 'none';\n",
              "\n",
              "        async function convertToInteractive(key) {\n",
              "          const element = document.querySelector('#df-5452e626-6ad5-4ad4-b6f9-cfff74cc58a7');\n",
              "          const dataTable =\n",
              "            await google.colab.kernel.invokeFunction('convertToInteractive',\n",
              "                                                     [key], {});\n",
              "          if (!dataTable) return;\n",
              "\n",
              "          const docLinkHtml = 'Like what you see? Visit the ' +\n",
              "            '<a target=\"_blank\" href=https://colab.research.google.com/notebooks/data_table.ipynb>data table notebook</a>'\n",
              "            + ' to learn more about interactive tables.';\n",
              "          element.innerHTML = '';\n",
              "          dataTable['output_type'] = 'display_data';\n",
              "          await google.colab.output.renderOutput(dataTable, element);\n",
              "          const docLink = document.createElement('div');\n",
              "          docLink.innerHTML = docLinkHtml;\n",
              "          element.appendChild(docLink);\n",
              "        }\n",
              "      </script>\n",
              "    </div>\n",
              "  </div>\n",
              "  "
            ]
          },
          "metadata": {},
          "execution_count": 490
        }
      ]
    },
    {
      "cell_type": "markdown",
      "source": [
        "# **Step 2: Visualizing the data and understanding correlations**"
      ],
      "metadata": {
        "id": "UAtiEslNrsKG"
      }
    },
    {
      "cell_type": "code",
      "source": [
        "#import visualization libraries\n",
        "import matplotlib.pyplot as plt\n",
        "import seaborn as sns"
      ],
      "metadata": {
        "id": "RN7RLTO1ry0x"
      },
      "execution_count": 491,
      "outputs": []
    },
    {
      "cell_type": "code",
      "source": [
        "dayDF.columns"
      ],
      "metadata": {
        "colab": {
          "base_uri": "https://localhost:8080/"
        },
        "id": "C7BEaZCj9wfk",
        "outputId": "e82770e3-954b-4023-eaea-e39e887eb1cb"
      },
      "execution_count": 492,
      "outputs": [
        {
          "output_type": "execute_result",
          "data": {
            "text/plain": [
              "Index(['instant', 'dteday', 'season', 'yr', 'mnth', 'holiday', 'weekday',\n",
              "       'workingday', 'weathersit', 'temp', 'atemp', 'hum', 'windspeed',\n",
              "       'casual', 'registered', 'cnt'],\n",
              "      dtype='object')"
            ]
          },
          "metadata": {},
          "execution_count": 492
        }
      ]
    },
    {
      "cell_type": "code",
      "source": [
        "#derving new variable\n",
        "dayDF['day'] = pd.DatetimeIndex(dayDF['dteday']).day\n",
        "dayDF['day'].head()"
      ],
      "metadata": {
        "colab": {
          "base_uri": "https://localhost:8080/"
        },
        "id": "exJ6FQK1-9z5",
        "outputId": "0418051e-2309-4f62-a686-5febc471fe61"
      },
      "execution_count": 493,
      "outputs": [
        {
          "output_type": "execute_result",
          "data": {
            "text/plain": [
              "0    1\n",
              "1    1\n",
              "2    1\n",
              "3    1\n",
              "4    1\n",
              "Name: day, dtype: int64"
            ]
          },
          "metadata": {},
          "execution_count": 493
        }
      ]
    },
    {
      "cell_type": "code",
      "source": [
        "#columns to drop\n",
        "irr_col = ['instant','dteday','casual','registered']"
      ],
      "metadata": {
        "id": "zLZik-DL9kre"
      },
      "execution_count": 494,
      "outputs": []
    },
    {
      "cell_type": "markdown",
      "source": [
        "Dropping these columns as,\n",
        "\n",
        "-> instant column is a record index.\n",
        "\n",
        "-> dteday column has all the information dervied from it through other columns. \n",
        "\n",
        "-> causual and registered columns are added up to get cnt variable, which is our target variable. \n"
      ],
      "metadata": {
        "id": "Bbdbf6kUFyHf"
      }
    },
    {
      "cell_type": "code",
      "source": [
        "dayDF.drop(irr_col,axis=1,inplace=True)"
      ],
      "metadata": {
        "id": "4FFkUvrfIYea"
      },
      "execution_count": 495,
      "outputs": []
    },
    {
      "cell_type": "code",
      "source": [
        "#let's look at the quantitative correlation\n",
        "plt.figure(figsize=(16,10))\n",
        "sns.heatmap(dayDF.corr(), cmap='YlGnBu', annot=True)\n",
        "plt.show()"
      ],
      "metadata": {
        "colab": {
          "base_uri": "https://localhost:8080/",
          "height": 644
        },
        "id": "FY-sA2BRs_Yt",
        "outputId": "5656d82f-8da0-4781-cbb2-66e666209570"
      },
      "execution_count": 496,
      "outputs": [
        {
          "output_type": "display_data",
          "data": {
            "text/plain": [
              "<Figure size 1152x720 with 2 Axes>"
            ],
            "image/png": "[encoded data removed]"
          },
          "metadata": {
            "needs_background": "light"
          }
        }
      ]
    },
    {
      "cell_type": "code",
      "source": [
        "#dropping column atemp as it has high correlation of 99% with temp column\n",
        "dayDF.drop(['atemp'], axis=1, inplace=True)"
      ],
      "metadata": {
        "id": "9KkV1rdqKIhX"
      },
      "execution_count": 497,
      "outputs": []
    },
    {
      "cell_type": "code",
      "source": [
        "sns.pairplot(data=dayDF, y_vars=['cnt'], x_vars=['season', 'mnth', 'yr', 'holiday', 'weekday', 'workingday',\n",
        "       'weathersit', 'temp', 'hum', 'windspeed','day'])\n"
      ],
      "metadata": {
        "colab": {
          "base_uri": "https://localhost:8080/",
          "height": 142
        },
        "id": "q_aRxw9-sEj8",
        "outputId": "65c7c97e-8a77-418b-9721-bb70f80b8d14"
      },
      "execution_count": 498,
      "outputs": [
        {
          "output_type": "execute_result",
          "data": {
            "text/plain": [
              "<seaborn.axisgrid.PairGrid at 0x7fb17e00f810>"
            ]
          },
          "metadata": {},
          "execution_count": 498
        },
        {
          "output_type": "display_data",
          "data": {
            "text/plain": [
              "<Figure size 1980x180 with 11 Axes>"
            ],
            "image/png": "[encoded data removed]"
          },
          "metadata": {
            "needs_background": "light"
          }
        }
      ]
    },
    {
      "cell_type": "markdown",
      "source": [
        "-> Our target variable is cnt. And there seems to be linear correlation with temp variable amongst the continuous variables."
      ],
      "metadata": {
        "id": "uw4zrAFethlq"
      }
    },
    {
      "cell_type": "markdown",
      "source": [
        "### **Univariate and Bivariate Analysis**"
      ],
      "metadata": {
        "id": "GUtOyd55LlAo"
      }
    },
    {
      "cell_type": "code",
      "source": [
        "dayDF['season'].unique()"
      ],
      "metadata": {
        "colab": {
          "base_uri": "https://localhost:8080/"
        },
        "id": "jPz1EBJaNK0n",
        "outputId": "51dcb20c-938b-48d2-9069-eca255bfd46e"
      },
      "execution_count": 499,
      "outputs": [
        {
          "output_type": "execute_result",
          "data": {
            "text/plain": [
              "array([1, 2, 3, 4])"
            ]
          },
          "metadata": {},
          "execution_count": 499
        }
      ]
    },
    {
      "cell_type": "code",
      "source": [
        "dayDF['season'] = dayDF['season'].map({1:\"spring\", 2:\"summer\", 3:\"fall\", 4:\"winter\"})"
      ],
      "metadata": {
        "id": "2PFwwFnBL0w4"
      },
      "execution_count": 500,
      "outputs": []
    },
    {
      "cell_type": "code",
      "source": [
        "sns.boxplot(x='season',y='cnt',data=dayDF)"
      ],
      "metadata": {
        "colab": {
          "base_uri": "https://localhost:8080/",
          "height": 296
        },
        "id": "k8psSDIoN-8U",
        "outputId": "cf5d7dbc-86fa-425c-9219-d0e45b88cebc"
      },
      "execution_count": 501,
      "outputs": [
        {
          "output_type": "execute_result",
          "data": {
            "text/plain": [
              "<matplotlib.axes._subplots.AxesSubplot at 0x7fb17dafdb50>"
            ]
          },
          "metadata": {},
          "execution_count": 501
        },
        {
          "output_type": "display_data",
          "data": {
            "text/plain": [
              "<Figure size 432x288 with 1 Axes>"
            ],
            "image/png": "[encoded data removed]"
          },
          "metadata": {
            "needs_background": "light"
          }
        }
      ]
    },
    {
      "cell_type": "markdown",
      "source": [
        "* Demand for bikes have been clearly low in spring compared to other seasons."
      ],
      "metadata": {
        "id": "ToSVvRpQOdox"
      }
    },
    {
      "cell_type": "code",
      "source": [
        "dayDF['mnth'] = dayDF['mnth'].map({1:\"January\", 2:\"February\", 3:\"March\", 4:\"April\", 5:\"May\", 6:\"June\",\n",
        "                                   7:\"July\", 8:\"August\", 9:\"September\", 10:\"October\", 11:\"November\", 12:\"December\"})"
      ],
      "metadata": {
        "id": "vm7vnbQToQiH"
      },
      "execution_count": 502,
      "outputs": []
    },
    {
      "cell_type": "code",
      "source": [
        "sns.boxplot(x='mnth',y='cnt',data=dayDF)\n",
        "plt.xticks(rotation=90)\n",
        "plt.show()"
      ],
      "metadata": {
        "colab": {
          "base_uri": "https://localhost:8080/",
          "height": 324
        },
        "id": "FItDGKiQOoYW",
        "outputId": "facab26a-cf4b-4d07-d3f1-46e63f8897e7"
      },
      "execution_count": 503,
      "outputs": [
        {
          "output_type": "display_data",
          "data": {
            "text/plain": [
              "<Figure size 432x288 with 1 Axes>"
            ],
            "image/png": "[encoded data removed]"
          },
          "metadata": {
            "needs_background": "light"
          }
        }
      ]
    },
    {
      "cell_type": "markdown",
      "source": [
        "* More bikes have been rented out in mid months and fewer in the month of Jan, Feb and relatively Nov and Dec."
      ],
      "metadata": {
        "id": "k98ZdYE4PPyV"
      }
    },
    {
      "cell_type": "code",
      "source": [
        "sns.boxplot(x='yr',y='cnt',data=dayDF)"
      ],
      "metadata": {
        "colab": {
          "base_uri": "https://localhost:8080/",
          "height": 296
        },
        "id": "BJLJREdz4wt6",
        "outputId": "7b3cce3e-15f2-44ec-e62c-a4725e6a819f"
      },
      "execution_count": 504,
      "outputs": [
        {
          "output_type": "execute_result",
          "data": {
            "text/plain": [
              "<matplotlib.axes._subplots.AxesSubplot at 0x7fb17d897b90>"
            ]
          },
          "metadata": {},
          "execution_count": 504
        },
        {
          "output_type": "display_data",
          "data": {
            "text/plain": [
              "<Figure size 432x288 with 1 Axes>"
            ],
            "image/png": "[encoded data removed]"
          },
          "metadata": {
            "needs_background": "light"
          }
        }
      ]
    },
    {
      "cell_type": "markdown",
      "source": [
        "* Clearly, the demand for bike rentals have increased from year 2018 to 2019."
      ],
      "metadata": {
        "id": "63lfEPmh465d"
      }
    },
    {
      "cell_type": "code",
      "source": [
        "data = dayDF['holiday'].value_counts()/len(dayDF) * 100\n",
        "print(data)\n",
        "labels = ['No','Yes']"
      ],
      "metadata": {
        "colab": {
          "base_uri": "https://localhost:8080/"
        },
        "id": "pal0WIAsUdNY",
        "outputId": "2940379f-cff5-4c40-f5d1-17dd2b57c566"
      },
      "execution_count": 505,
      "outputs": [
        {
          "output_type": "stream",
          "name": "stdout",
          "text": [
            "0    97.123288\n",
            "1     2.876712\n",
            "Name: holiday, dtype: float64\n"
          ]
        }
      ]
    },
    {
      "cell_type": "code",
      "source": [
        "plt.pie(data, labels=labels, autopct='%.2f%%')\n",
        "plt.show()"
      ],
      "metadata": {
        "colab": {
          "base_uri": "https://localhost:8080/",
          "height": 248
        },
        "id": "a8_be1iBSWnr",
        "outputId": "fc71644d-3c19-42ae-a221-966b504eeaa9"
      },
      "execution_count": 506,
      "outputs": [
        {
          "output_type": "display_data",
          "data": {
            "text/plain": [
              "<Figure size 432x288 with 1 Axes>"
            ],
            "image/png": "[encoded data removed]"
          },
          "metadata": {}
        }
      ]
    },
    {
      "cell_type": "markdown",
      "source": [
        "* Less than 3% of the total sample rented out bikes on holidays."
      ],
      "metadata": {
        "id": "h_vIHX7dVWEm"
      }
    },
    {
      "cell_type": "code",
      "source": [
        "dayDF['weekday'] = dayDF['weekday'].map({0:\"Tuesday\", 1:\"Wednesday\", 2:\"Thursday\", 3:\"Friday\", 4:\"Saturday\", \n",
        "                                         5:\"Sunday\", 6:\"Monday\"})"
      ],
      "metadata": {
        "id": "2OZVSR1Tnzoj"
      },
      "execution_count": 507,
      "outputs": []
    },
    {
      "cell_type": "code",
      "source": [
        "sns.boxplot(x='weekday',y='cnt',data=dayDF)\n",
        "plt.xticks(rotation=90)\n",
        "plt.show()"
      ],
      "metadata": {
        "colab": {
          "base_uri": "https://localhost:8080/",
          "height": 327
        },
        "id": "HaTJZw-uQck3",
        "outputId": "9b663abf-52ca-4a41-cb71-ef23b0e71962"
      },
      "execution_count": 508,
      "outputs": [
        {
          "output_type": "display_data",
          "data": {
            "text/plain": [
              "<Figure size 432x288 with 1 Axes>"
            ],
            "image/png": "[encoded data removed]"
          },
          "metadata": {
            "needs_background": "light"
          }
        }
      ]
    },
    {
      "cell_type": "markdown",
      "source": [
        "* No much tell from the weekday column. Average bikes rented out seems to be more or so the same for all days."
      ],
      "metadata": {
        "id": "iRx0pXjlRETL"
      }
    },
    {
      "cell_type": "code",
      "source": [
        "sns.boxplot(x='workingday',y='cnt',data=dayDF)"
      ],
      "metadata": {
        "colab": {
          "base_uri": "https://localhost:8080/",
          "height": 296
        },
        "id": "DSJegkBO5I3C",
        "outputId": "e665c412-2612-48fa-ffd7-4c7b64ce0d3b"
      },
      "execution_count": 509,
      "outputs": [
        {
          "output_type": "execute_result",
          "data": {
            "text/plain": [
              "<matplotlib.axes._subplots.AxesSubplot at 0x7fb17d7eaf50>"
            ]
          },
          "metadata": {},
          "execution_count": 509
        },
        {
          "output_type": "display_data",
          "data": {
            "text/plain": [
              "<Figure size 432x288 with 1 Axes>"
            ],
            "image/png": "[encoded data removed]"
          },
          "metadata": {
            "needs_background": "light"
          }
        }
      ]
    },
    {
      "cell_type": "code",
      "source": [
        "plt.figure(figsize=(14,6))\n",
        "sns.boxplot(x='day',y='cnt',data=dayDF)\n",
        "plt.show()"
      ],
      "metadata": {
        "colab": {
          "base_uri": "https://localhost:8080/",
          "height": 388
        },
        "id": "qLQSvpRPpmWF",
        "outputId": "1d0bc8d1-d7c8-40eb-ab81-3552e8b28ded"
      },
      "execution_count": 510,
      "outputs": [
        {
          "output_type": "display_data",
          "data": {
            "text/plain": [
              "<Figure size 1008x432 with 1 Axes>"
            ],
            "image/png": "[encoded data removed]"
          },
          "metadata": {
            "needs_background": "light"
          }
        }
      ]
    },
    {
      "cell_type": "markdown",
      "source": [
        "* Not much tell from the day variable as well, but beginning of the month has seen relatively less bike rentals."
      ],
      "metadata": {
        "id": "jDLng8DNqLQg"
      }
    },
    {
      "cell_type": "code",
      "source": [
        "dayDF['weathersit'] = dayDF['weathersit'].map({1:\"cloudy\", 2:\"misty\", 3:\"lightrain\", 4:\"heavyrain\"})"
      ],
      "metadata": {
        "id": "6q7OcW-IRPQq"
      },
      "execution_count": 511,
      "outputs": []
    },
    {
      "cell_type": "code",
      "source": [
        "sns.boxplot(x='weathersit',y='cnt',data=dayDF)"
      ],
      "metadata": {
        "colab": {
          "base_uri": "https://localhost:8080/",
          "height": 296
        },
        "id": "zpIKWOr5RqZy",
        "outputId": "840adea8-3e0f-43e4-8ea0-d80603b1229b"
      },
      "execution_count": 512,
      "outputs": [
        {
          "output_type": "execute_result",
          "data": {
            "text/plain": [
              "<matplotlib.axes._subplots.AxesSubplot at 0x7fb17d7a1850>"
            ]
          },
          "metadata": {},
          "execution_count": 512
        },
        {
          "output_type": "display_data",
          "data": {
            "text/plain": [
              "<Figure size 432x288 with 1 Axes>"
            ],
            "image/png": "[encoded data removed]"
          },
          "metadata": {
            "needs_background": "light"
          }
        }
      ]
    },
    {
      "cell_type": "markdown",
      "source": [
        "* No rentals in heavy rain which is pretty intuitive. Less demand during light rain or snow. "
      ],
      "metadata": {
        "id": "0xVgy2mqRwsq"
      }
    },
    {
      "cell_type": "code",
      "source": [
        "sns.regplot(x='temp',y='cnt',data=dayDF)"
      ],
      "metadata": {
        "colab": {
          "base_uri": "https://localhost:8080/",
          "height": 296
        },
        "id": "veaPlUekV_mC",
        "outputId": "b9135845-3ece-448e-cd37-f77eec327e04"
      },
      "execution_count": 513,
      "outputs": [
        {
          "output_type": "execute_result",
          "data": {
            "text/plain": [
              "<matplotlib.axes._subplots.AxesSubplot at 0x7fb17da37890>"
            ]
          },
          "metadata": {},
          "execution_count": 513
        },
        {
          "output_type": "display_data",
          "data": {
            "text/plain": [
              "<Figure size 432x288 with 1 Axes>"
            ],
            "image/png": "[encoded data removed]"
          },
          "metadata": {
            "needs_background": "light"
          }
        }
      ]
    },
    {
      "cell_type": "markdown",
      "source": [
        "* temp variable displays a positive linear correlation with the target variable"
      ],
      "metadata": {
        "id": "OT3HHnEqf7VN"
      }
    },
    {
      "cell_type": "code",
      "source": [
        "sns.regplot(x='hum',y='cnt',data=dayDF)"
      ],
      "metadata": {
        "colab": {
          "base_uri": "https://localhost:8080/",
          "height": 296
        },
        "id": "bnaBU1FwjIgO",
        "outputId": "cdccba3c-d134-49fb-9433-45571164a249"
      },
      "execution_count": 514,
      "outputs": [
        {
          "output_type": "execute_result",
          "data": {
            "text/plain": [
              "<matplotlib.axes._subplots.AxesSubplot at 0x7fb17e0fae10>"
            ]
          },
          "metadata": {},
          "execution_count": 514
        },
        {
          "output_type": "display_data",
          "data": {
            "text/plain": [
              "<Figure size 432x288 with 1 Axes>"
            ],
            "image/png": "[encoded data removed]"
          },
          "metadata": {
            "needs_background": "light"
          }
        }
      ]
    },
    {
      "cell_type": "markdown",
      "source": [
        "* There seems to be outliers in humidity feature. Ideal humidity levels are between 30-75 percent. So let's remove the outliers whose value is less than 30 and greater than 75."
      ],
      "metadata": {
        "id": "QfFI-VHq02qC"
      }
    },
    {
      "cell_type": "code",
      "source": [
        "dayDF[(dayDF['hum']<30) | (dayDF['hum']>75)]"
      ],
      "metadata": {
        "colab": {
          "base_uri": "https://localhost:8080/",
          "height": 424
        },
        "id": "IS1_7yFz1dMI",
        "outputId": "8ad8f743-d4ca-4a99-9a4f-c3a7b8613f2b"
      },
      "execution_count": 515,
      "outputs": [
        {
          "output_type": "execute_result",
          "data": {
            "text/plain": [
              "     season  yr      mnth  holiday    weekday  workingday weathersit  \\\n",
              "0    spring   0   January        0     Monday           0      misty   \n",
              "17   spring   0   January        0   Thursday           1      misty   \n",
              "25   spring   0   January        0     Friday           1  lightrain   \n",
              "27   spring   0   January        0     Sunday           1      misty   \n",
              "31   spring   0  February        0   Thursday           1      misty   \n",
              "..      ...  ..       ...      ...        ...         ...        ...   \n",
              "714  winter   1  December        0    Tuesday           0      misty   \n",
              "715  winter   1  December        0  Wednesday           1      misty   \n",
              "722  spring   1  December        0  Wednesday           1      misty   \n",
              "724  spring   1  December        0     Friday           1  lightrain   \n",
              "727  spring   1  December        0     Monday           0      misty   \n",
              "\n",
              "          temp      hum  windspeed   cnt  day  \n",
              "0    14.110847  80.5833  10.749882   985    1  \n",
              "17    8.883347  86.1667   9.833925   683   18  \n",
              "25    8.917500  86.2500  19.687950   506   26  \n",
              "27    8.342598  79.3043   8.261100  1167   28  \n",
              "31    7.879134  82.9565   3.565271  1360    2  \n",
              "..         ...      ...        ...   ...  ...  \n",
              "714  14.862500  83.8750   6.749714  3786   16  \n",
              "715  16.126653  90.7083   6.583306  4585   17  \n",
              "722   9.483464  79.1304   5.174437   920   24  \n",
              "724   9.976653  82.3333  21.208582   441   26  \n",
              "727  10.386653  75.2917   8.333661  1341   29  \n",
              "\n",
              "[152 rows x 12 columns]"
            ],
            "text/html": [
              "\n",
              "  <div id=\"df-6d2c3575-7b9d-4bf3-8bfb-114bd2cb9366\">\n",
              "    <div class=\"colab-df-container\">\n",
              "      <div>\n",
              "<style scoped>\n",
              "    .dataframe tbody tr th:only-of-type {\n",
              "        vertical-align: middle;\n",
              "    }\n",
              "\n",
              "    .dataframe tbody tr th {\n",
              "        vertical-align: top;\n",
              "    }\n",
              "\n",
              "    .dataframe thead th {\n",
              "        text-align: right;\n",
              "    }\n",
              "</style>\n",
              "<table border=\"1\" class=\"dataframe\">\n",
              "  <thead>\n",
              "    <tr style=\"text-align: right;\">\n",
              "      <th></th>\n",
              "      <th>season</th>\n",
              "      <th>yr</th>\n",
              "      <th>mnth</th>\n",
              "      <th>holiday</th>\n",
              "      <th>weekday</th>\n",
              "      <th>workingday</th>\n",
              "      <th>weathersit</th>\n",
              "      <th>temp</th>\n",
              "      <th>hum</th>\n",
              "      <th>windspeed</th>\n",
              "      <th>cnt</th>\n",
              "      <th>day</th>\n",
              "    </tr>\n",
              "  </thead>\n",
              "  <tbody>\n",
              "    <tr>\n",
              "      <th>0</th>\n",
              "      <td>spring</td>\n",
              "      <td>0</td>\n",
              "      <td>January</td>\n",
              "      <td>0</td>\n",
              "      <td>Monday</td>\n",
              "      <td>0</td>\n",
              "      <td>misty</td>\n",
              "      <td>14.110847</td>\n",
              "      <td>80.5833</td>\n",
              "      <td>10.749882</td>\n",
              "      <td>985</td>\n",
              "      <td>1</td>\n",
              "    </tr>\n",
              "    <tr>\n",
              "      <th>17</th>\n",
              "      <td>spring</td>\n",
              "      <td>0</td>\n",
              "      <td>January</td>\n",
              "      <td>0</td>\n",
              "      <td>Thursday</td>\n",
              "      <td>1</td>\n",
              "      <td>misty</td>\n",
              "      <td>8.883347</td>\n",
              "      <td>86.1667</td>\n",
              "      <td>9.833925</td>\n",
              "      <td>683</td>\n",
              "      <td>18</td>\n",
              "    </tr>\n",
              "    <tr>\n",
              "      <th>25</th>\n",
              "      <td>spring</td>\n",
              "      <td>0</td>\n",
              "      <td>January</td>\n",
              "      <td>0</td>\n",
              "      <td>Friday</td>\n",
              "      <td>1</td>\n",
              "      <td>lightrain</td>\n",
              "      <td>8.917500</td>\n",
              "      <td>86.2500</td>\n",
              "      <td>19.687950</td>\n",
              "      <td>506</td>\n",
              "      <td>26</td>\n",
              "    </tr>\n",
              "    <tr>\n",
              "      <th>27</th>\n",
              "      <td>spring</td>\n",
              "      <td>0</td>\n",
              "      <td>January</td>\n",
              "      <td>0</td>\n",
              "      <td>Sunday</td>\n",
              "      <td>1</td>\n",
              "      <td>misty</td>\n",
              "      <td>8.342598</td>\n",
              "      <td>79.3043</td>\n",
              "      <td>8.261100</td>\n",
              "      <td>1167</td>\n",
              "      <td>28</td>\n",
              "    </tr>\n",
              "    <tr>\n",
              "      <th>31</th>\n",
              "      <td>spring</td>\n",
              "      <td>0</td>\n",
              "      <td>February</td>\n",
              "      <td>0</td>\n",
              "      <td>Thursday</td>\n",
              "      <td>1</td>\n",
              "      <td>misty</td>\n",
              "      <td>7.879134</td>\n",
              "      <td>82.9565</td>\n",
              "      <td>3.565271</td>\n",
              "      <td>1360</td>\n",
              "      <td>2</td>\n",
              "    </tr>\n",
              "    <tr>\n",
              "      <th>...</th>\n",
              "      <td>...</td>\n",
              "      <td>...</td>\n",
              "      <td>...</td>\n",
              "      <td>...</td>\n",
              "      <td>...</td>\n",
              "      <td>...</td>\n",
              "      <td>...</td>\n",
              "      <td>...</td>\n",
              "      <td>...</td>\n",
              "      <td>...</td>\n",
              "      <td>...</td>\n",
              "      <td>...</td>\n",
              "    </tr>\n",
              "    <tr>\n",
              "      <th>714</th>\n",
              "      <td>winter</td>\n",
              "      <td>1</td>\n",
              "      <td>December</td>\n",
              "      <td>0</td>\n",
              "      <td>Tuesday</td>\n",
              "      <td>0</td>\n",
              "      <td>misty</td>\n",
              "      <td>14.862500</td>\n",
              "      <td>83.8750</td>\n",
              "      <td>6.749714</td>\n",
              "      <td>3786</td>\n",
              "      <td>16</td>\n",
              "    </tr>\n",
              "    <tr>\n",
              "      <th>715</th>\n",
              "      <td>winter</td>\n",
              "      <td>1</td>\n",
              "      <td>December</td>\n",
              "      <td>0</td>\n",
              "      <td>Wednesday</td>\n",
              "      <td>1</td>\n",
              "      <td>misty</td>\n",
              "      <td>16.126653</td>\n",
              "      <td>90.7083</td>\n",
              "      <td>6.583306</td>\n",
              "      <td>4585</td>\n",
              "      <td>17</td>\n",
              "    </tr>\n",
              "    <tr>\n",
              "      <th>722</th>\n",
              "      <td>spring</td>\n",
              "      <td>1</td>\n",
              "      <td>December</td>\n",
              "      <td>0</td>\n",
              "      <td>Wednesday</td>\n",
              "      <td>1</td>\n",
              "      <td>misty</td>\n",
              "      <td>9.483464</td>\n",
              "      <td>79.1304</td>\n",
              "      <td>5.174437</td>\n",
              "      <td>920</td>\n",
              "      <td>24</td>\n",
              "    </tr>\n",
              "    <tr>\n",
              "      <th>724</th>\n",
              "      <td>spring</td>\n",
              "      <td>1</td>\n",
              "      <td>December</td>\n",
              "      <td>0</td>\n",
              "      <td>Friday</td>\n",
              "      <td>1</td>\n",
              "      <td>lightrain</td>\n",
              "      <td>9.976653</td>\n",
              "      <td>82.3333</td>\n",
              "      <td>21.208582</td>\n",
              "      <td>441</td>\n",
              "      <td>26</td>\n",
              "    </tr>\n",
              "    <tr>\n",
              "      <th>727</th>\n",
              "      <td>spring</td>\n",
              "      <td>1</td>\n",
              "      <td>December</td>\n",
              "      <td>0</td>\n",
              "      <td>Monday</td>\n",
              "      <td>0</td>\n",
              "      <td>misty</td>\n",
              "      <td>10.386653</td>\n",
              "      <td>75.2917</td>\n",
              "      <td>8.333661</td>\n",
              "      <td>1341</td>\n",
              "      <td>29</td>\n",
              "    </tr>\n",
              "  </tbody>\n",
              "</table>\n",
              "<p>152 rows × 12 columns</p>\n",
              "</div>\n",
              "      <button class=\"colab-df-convert\" onclick=\"convertToInteractive('df-6d2c3575-7b9d-4bf3-8bfb-114bd2cb9366')\"\n",
              "              title=\"Convert this dataframe to an interactive table.\"\n",
              "              style=\"display:none;\">\n",
              "        \n",
              "  <svg xmlns=\"http://www.w3.org/2000/svg\" height=\"24px\"viewBox=\"0 0 24 24\"\n",
              "       width=\"24px\">\n",
              "    <path d=\"M0 0h24v24H0V0z\" fill=\"none\"/>\n",
              "    <path d=\"M18.56 5.44l.94 2.06.94-2.06 2.06-.94-2.06-.94-.94-2.06-.94 2.06-2.06.94zm-11 1L8.5 8.5l.94-2.06 2.06-.94-2.06-.94L8.5 2.5l-.94 2.06-2.06.94zm10 10l.94 2.06.94-2.06 2.06-.94-2.06-.94-.94-2.06-.94 2.06-2.06.94z\"/><path d=\"M17.41 7.96l-1.37-1.37c-.4-.4-.92-.59-1.43-.59-.52 0-1.04.2-1.43.59L10.3 9.45l-7.72 7.72c-.78.78-.78 2.05 0 2.83L4 21.41c.39.39.9.59 1.41.59.51 0 1.02-.2 1.41-.59l7.78-7.78 2.81-2.81c.8-.78.8-2.07 0-2.86zM5.41 20L4 18.59l7.72-7.72 1.47 1.35L5.41 20z\"/>\n",
              "  </svg>\n",
              "      </button>\n",
              "      \n",
              "  <style>\n",
              "    .colab-df-container {\n",
              "      display:flex;\n",
              "      flex-wrap:wrap;\n",
              "      gap: 12px;\n",
              "    }\n",
              "\n",
              "    .colab-df-convert {\n",
              "      background-color: #E8F0FE;\n",
              "      border: none;\n",
              "      border-radius: 50%;\n",
              "      cursor: pointer;\n",
              "      display: none;\n",
              "      fill: #1967D2;\n",
              "      height: 32px;\n",
              "      padding: 0 0 0 0;\n",
              "      width: 32px;\n",
              "    }\n",
              "\n",
              "    .colab-df-convert:hover {\n",
              "      background-color: #E2EBFA;\n",
              "      box-shadow: 0px 1px 2px rgba(60, 64, 67, 0.3), 0px 1px 3px 1px rgba(60, 64, 67, 0.15);\n",
              "      fill: #174EA6;\n",
              "    }\n",
              "\n",
              "    [theme=dark] .colab-df-convert {\n",
              "      background-color: #3B4455;\n",
              "      fill: #D2E3FC;\n",
              "    }\n",
              "\n",
              "    [theme=dark] .colab-df-convert:hover {\n",
              "      background-color: #434B5C;\n",
              "      box-shadow: 0px 1px 3px 1px rgba(0, 0, 0, 0.15);\n",
              "      filter: drop-shadow(0px 1px 2px rgba(0, 0, 0, 0.3));\n",
              "      fill: #FFFFFF;\n",
              "    }\n",
              "  </style>\n",
              "\n",
              "      <script>\n",
              "        const buttonEl =\n",
              "          document.querySelector('#df-6d2c3575-7b9d-4bf3-8bfb-114bd2cb9366 button.colab-df-convert');\n",
              "        buttonEl.style.display =\n",
              "          google.colab.kernel.accessAllowed ? 'block' : 'none';\n",
              "\n",
              "        async function convertToInteractive(key) {\n",
              "          const element = document.querySelector('#df-6d2c3575-7b9d-4bf3-8bfb-114bd2cb9366');\n",
              "          const dataTable =\n",
              "            await google.colab.kernel.invokeFunction('convertToInteractive',\n",
              "                                                     [key], {});\n",
              "          if (!dataTable) return;\n",
              "\n",
              "          const docLinkHtml = 'Like what you see? Visit the ' +\n",
              "            '<a target=\"_blank\" href=https://colab.research.google.com/notebooks/data_table.ipynb>data table notebook</a>'\n",
              "            + ' to learn more about interactive tables.';\n",
              "          element.innerHTML = '';\n",
              "          dataTable['output_type'] = 'display_data';\n",
              "          await google.colab.output.renderOutput(dataTable, element);\n",
              "          const docLink = document.createElement('div');\n",
              "          docLink.innerHTML = docLinkHtml;\n",
              "          element.appendChild(docLink);\n",
              "        }\n",
              "      </script>\n",
              "    </div>\n",
              "  </div>\n",
              "  "
            ]
          },
          "metadata": {},
          "execution_count": 515
        }
      ]
    },
    {
      "cell_type": "code",
      "source": [
        "dayDF = dayDF[(dayDF['hum']>=30) | (dayDF['hum']<=75)]"
      ],
      "metadata": {
        "id": "bR7CdOD-2CiP"
      },
      "execution_count": 516,
      "outputs": []
    },
    {
      "cell_type": "code",
      "source": [
        "sns.regplot(x='windspeed',y='cnt',data=dayDF)"
      ],
      "metadata": {
        "colab": {
          "base_uri": "https://localhost:8080/",
          "height": 296
        },
        "id": "1JYlbej5jWMM",
        "outputId": "b869605a-66c1-420d-d121-c094479b4705"
      },
      "execution_count": 517,
      "outputs": [
        {
          "output_type": "execute_result",
          "data": {
            "text/plain": [
              "<matplotlib.axes._subplots.AxesSubplot at 0x7fb17e56be50>"
            ]
          },
          "metadata": {},
          "execution_count": 517
        },
        {
          "output_type": "display_data",
          "data": {
            "text/plain": [
              "<Figure size 432x288 with 1 Axes>"
            ],
            "image/png": "[encoded data removed]"
          },
          "metadata": {
            "needs_background": "light"
          }
        }
      ]
    },
    {
      "cell_type": "markdown",
      "source": [
        "* windspeed displays a negative correlation with target variable cnt. So as the windspeed increases, the number of bikes rented out decreases."
      ],
      "metadata": {
        "id": "3DvSBDjcjd9G"
      }
    },
    {
      "cell_type": "markdown",
      "source": [
        "# **Step 3: Preparing the data**\n",
        "##### As part of this step, we will handle the categorical variables by creating dummy/indicator variables so that it can used in the model."
      ],
      "metadata": {
        "id": "5WP8PL56ZLZK"
      }
    },
    {
      "cell_type": "code",
      "source": [
        "dayDF.info()"
      ],
      "metadata": {
        "colab": {
          "base_uri": "https://localhost:8080/"
        },
        "id": "yg3_CXtwZRXN",
        "outputId": "176a540a-5eb3-4fa2-99c1-a23ddcaf5144"
      },
      "execution_count": 518,
      "outputs": [
        {
          "output_type": "stream",
          "name": "stdout",
          "text": [
            "<class 'pandas.core.frame.DataFrame'>\n",
            "Int64Index: 730 entries, 0 to 729\n",
            "Data columns (total 12 columns):\n",
            " #   Column      Non-Null Count  Dtype  \n",
            "---  ------      --------------  -----  \n",
            " 0   season      730 non-null    object \n",
            " 1   yr          730 non-null    int64  \n",
            " 2   mnth        730 non-null    object \n",
            " 3   holiday     730 non-null    int64  \n",
            " 4   weekday     730 non-null    object \n",
            " 5   workingday  730 non-null    int64  \n",
            " 6   weathersit  730 non-null    object \n",
            " 7   temp        730 non-null    float64\n",
            " 8   hum         730 non-null    float64\n",
            " 9   windspeed   730 non-null    float64\n",
            " 10  cnt         730 non-null    int64  \n",
            " 11  day         730 non-null    int64  \n",
            "dtypes: float64(3), int64(5), object(4)\n",
            "memory usage: 74.1+ KB\n"
          ]
        }
      ]
    },
    {
      "cell_type": "code",
      "source": [
        "#creating dummies for season variale\n",
        "#drop_first is used as we don't need 4 variables to explain 4 levels, n-1 would be enough.\n",
        "season_dummies = pd.get_dummies(dayDF['season'], drop_first = True)\n",
        "print(dayDF['season'].head())\n",
        "season_dummies.head()"
      ],
      "metadata": {
        "colab": {
          "base_uri": "https://localhost:8080/",
          "height": 310
        },
        "id": "Sd9akUuYaaE6",
        "outputId": "e88a070d-7505-4054-e523-b53aaaacfe1e"
      },
      "execution_count": 519,
      "outputs": [
        {
          "output_type": "stream",
          "name": "stdout",
          "text": [
            "0    spring\n",
            "1    spring\n",
            "2    spring\n",
            "3    spring\n",
            "4    spring\n",
            "Name: season, dtype: object\n"
          ]
        },
        {
          "output_type": "execute_result",
          "data": {
            "text/plain": [
              "   spring  summer  winter\n",
              "0       1       0       0\n",
              "1       1       0       0\n",
              "2       1       0       0\n",
              "3       1       0       0\n",
              "4       1       0       0"
            ],
            "text/html": [
              "\n",
              "  <div id=\"df-1463c96a-698b-41da-8052-4f0409b72776\">\n",
              "    <div class=\"colab-df-container\">\n",
              "      <div>\n",
              "<style scoped>\n",
              "    .dataframe tbody tr th:only-of-type {\n",
              "        vertical-align: middle;\n",
              "    }\n",
              "\n",
              "    .dataframe tbody tr th {\n",
              "        vertical-align: top;\n",
              "    }\n",
              "\n",
              "    .dataframe thead th {\n",
              "        text-align: right;\n",
              "    }\n",
              "</style>\n",
              "<table border=\"1\" class=\"dataframe\">\n",
              "  <thead>\n",
              "    <tr style=\"text-align: right;\">\n",
              "      <th></th>\n",
              "      <th>spring</th>\n",
              "      <th>summer</th>\n",
              "      <th>winter</th>\n",
              "    </tr>\n",
              "  </thead>\n",
              "  <tbody>\n",
              "    <tr>\n",
              "      <th>0</th>\n",
              "      <td>1</td>\n",
              "      <td>0</td>\n",
              "      <td>0</td>\n",
              "    </tr>\n",
              "    <tr>\n",
              "      <th>1</th>\n",
              "      <td>1</td>\n",
              "      <td>0</td>\n",
              "      <td>0</td>\n",
              "    </tr>\n",
              "    <tr>\n",
              "      <th>2</th>\n",
              "      <td>1</td>\n",
              "      <td>0</td>\n",
              "      <td>0</td>\n",
              "    </tr>\n",
              "    <tr>\n",
              "      <th>3</th>\n",
              "      <td>1</td>\n",
              "      <td>0</td>\n",
              "      <td>0</td>\n",
              "    </tr>\n",
              "    <tr>\n",
              "      <th>4</th>\n",
              "      <td>1</td>\n",
              "      <td>0</td>\n",
              "      <td>0</td>\n",
              "    </tr>\n",
              "  </tbody>\n",
              "</table>\n",
              "</div>\n",
              "      <button class=\"colab-df-convert\" onclick=\"convertToInteractive('df-1463c96a-698b-41da-8052-4f0409b72776')\"\n",
              "              title=\"Convert this dataframe to an interactive table.\"\n",
              "              style=\"display:none;\">\n",
              "        \n",
              "  <svg xmlns=\"http://www.w3.org/2000/svg\" height=\"24px\"viewBox=\"0 0 24 24\"\n",
              "       width=\"24px\">\n",
              "    <path d=\"M0 0h24v24H0V0z\" fill=\"none\"/>\n",
              "    <path d=\"M18.56 5.44l.94 2.06.94-2.06 2.06-.94-2.06-.94-.94-2.06-.94 2.06-2.06.94zm-11 1L8.5 8.5l.94-2.06 2.06-.94-2.06-.94L8.5 2.5l-.94 2.06-2.06.94zm10 10l.94 2.06.94-2.06 2.06-.94-2.06-.94-.94-2.06-.94 2.06-2.06.94z\"/><path d=\"M17.41 7.96l-1.37-1.37c-.4-.4-.92-.59-1.43-.59-.52 0-1.04.2-1.43.59L10.3 9.45l-7.72 7.72c-.78.78-.78 2.05 0 2.83L4 21.41c.39.39.9.59 1.41.59.51 0 1.02-.2 1.41-.59l7.78-7.78 2.81-2.81c.8-.78.8-2.07 0-2.86zM5.41 20L4 18.59l7.72-7.72 1.47 1.35L5.41 20z\"/>\n",
              "  </svg>\n",
              "      </button>\n",
              "      \n",
              "  <style>\n",
              "    .colab-df-container {\n",
              "      display:flex;\n",
              "      flex-wrap:wrap;\n",
              "      gap: 12px;\n",
              "    }\n",
              "\n",
              "    .colab-df-convert {\n",
              "      background-color: #E8F0FE;\n",
              "      border: none;\n",
              "      border-radius: 50%;\n",
              "      cursor: pointer;\n",
              "      display: none;\n",
              "      fill: #1967D2;\n",
              "      height: 32px;\n",
              "      padding: 0 0 0 0;\n",
              "      width: 32px;\n",
              "    }\n",
              "\n",
              "    .colab-df-convert:hover {\n",
              "      background-color: #E2EBFA;\n",
              "      box-shadow: 0px 1px 2px rgba(60, 64, 67, 0.3), 0px 1px 3px 1px rgba(60, 64, 67, 0.15);\n",
              "      fill: #174EA6;\n",
              "    }\n",
              "\n",
              "    [theme=dark] .colab-df-convert {\n",
              "      background-color: #3B4455;\n",
              "      fill: #D2E3FC;\n",
              "    }\n",
              "\n",
              "    [theme=dark] .colab-df-convert:hover {\n",
              "      background-color: #434B5C;\n",
              "      box-shadow: 0px 1px 3px 1px rgba(0, 0, 0, 0.15);\n",
              "      filter: drop-shadow(0px 1px 2px rgba(0, 0, 0, 0.3));\n",
              "      fill: #FFFFFF;\n",
              "    }\n",
              "  </style>\n",
              "\n",
              "      <script>\n",
              "        const buttonEl =\n",
              "          document.querySelector('#df-1463c96a-698b-41da-8052-4f0409b72776 button.colab-df-convert');\n",
              "        buttonEl.style.display =\n",
              "          google.colab.kernel.accessAllowed ? 'block' : 'none';\n",
              "\n",
              "        async function convertToInteractive(key) {\n",
              "          const element = document.querySelector('#df-1463c96a-698b-41da-8052-4f0409b72776');\n",
              "          const dataTable =\n",
              "            await google.colab.kernel.invokeFunction('convertToInteractive',\n",
              "                                                     [key], {});\n",
              "          if (!dataTable) return;\n",
              "\n",
              "          const docLinkHtml = 'Like what you see? Visit the ' +\n",
              "            '<a target=\"_blank\" href=https://colab.research.google.com/notebooks/data_table.ipynb>data table notebook</a>'\n",
              "            + ' to learn more about interactive tables.';\n",
              "          element.innerHTML = '';\n",
              "          dataTable['output_type'] = 'display_data';\n",
              "          await google.colab.output.renderOutput(dataTable, element);\n",
              "          const docLink = document.createElement('div');\n",
              "          docLink.innerHTML = docLinkHtml;\n",
              "          element.appendChild(docLink);\n",
              "        }\n",
              "      </script>\n",
              "    </div>\n",
              "  </div>\n",
              "  "
            ]
          },
          "metadata": {},
          "execution_count": 519
        }
      ]
    },
    {
      "cell_type": "code",
      "source": [
        "#creating dummies for weathersit variale\n",
        "weathersit_dummies = pd.get_dummies(dayDF['weathersit'], drop_first = True)\n",
        "print(dayDF['weathersit'].head())\n",
        "weathersit_dummies.head()"
      ],
      "metadata": {
        "colab": {
          "base_uri": "https://localhost:8080/",
          "height": 310
        },
        "id": "i4oz3xQIeO41",
        "outputId": "cd341355-2173-4991-9717-a69711fda2bf"
      },
      "execution_count": 520,
      "outputs": [
        {
          "output_type": "stream",
          "name": "stdout",
          "text": [
            "0     misty\n",
            "1     misty\n",
            "2    cloudy\n",
            "3    cloudy\n",
            "4    cloudy\n",
            "Name: weathersit, dtype: object\n"
          ]
        },
        {
          "output_type": "execute_result",
          "data": {
            "text/plain": [
              "   lightrain  misty\n",
              "0          0      1\n",
              "1          0      1\n",
              "2          0      0\n",
              "3          0      0\n",
              "4          0      0"
            ],
            "text/html": [
              "\n",
              "  <div id=\"df-b03710a2-5e94-48b7-b747-a8832be24129\">\n",
              "    <div class=\"colab-df-container\">\n",
              "      <div>\n",
              "<style scoped>\n",
              "    .dataframe tbody tr th:only-of-type {\n",
              "        vertical-align: middle;\n",
              "    }\n",
              "\n",
              "    .dataframe tbody tr th {\n",
              "        vertical-align: top;\n",
              "    }\n",
              "\n",
              "    .dataframe thead th {\n",
              "        text-align: right;\n",
              "    }\n",
              "</style>\n",
              "<table border=\"1\" class=\"dataframe\">\n",
              "  <thead>\n",
              "    <tr style=\"text-align: right;\">\n",
              "      <th></th>\n",
              "      <th>lightrain</th>\n",
              "      <th>misty</th>\n",
              "    </tr>\n",
              "  </thead>\n",
              "  <tbody>\n",
              "    <tr>\n",
              "      <th>0</th>\n",
              "      <td>0</td>\n",
              "      <td>1</td>\n",
              "    </tr>\n",
              "    <tr>\n",
              "      <th>1</th>\n",
              "      <td>0</td>\n",
              "      <td>1</td>\n",
              "    </tr>\n",
              "    <tr>\n",
              "      <th>2</th>\n",
              "      <td>0</td>\n",
              "      <td>0</td>\n",
              "    </tr>\n",
              "    <tr>\n",
              "      <th>3</th>\n",
              "      <td>0</td>\n",
              "      <td>0</td>\n",
              "    </tr>\n",
              "    <tr>\n",
              "      <th>4</th>\n",
              "      <td>0</td>\n",
              "      <td>0</td>\n",
              "    </tr>\n",
              "  </tbody>\n",
              "</table>\n",
              "</div>\n",
              "      <button class=\"colab-df-convert\" onclick=\"convertToInteractive('df-b03710a2-5e94-48b7-b747-a8832be24129')\"\n",
              "              title=\"Convert this dataframe to an interactive table.\"\n",
              "              style=\"display:none;\">\n",
              "        \n",
              "  <svg xmlns=\"http://www.w3.org/2000/svg\" height=\"24px\"viewBox=\"0 0 24 24\"\n",
              "       width=\"24px\">\n",
              "    <path d=\"M0 0h24v24H0V0z\" fill=\"none\"/>\n",
              "    <path d=\"M18.56 5.44l.94 2.06.94-2.06 2.06-.94-2.06-.94-.94-2.06-.94 2.06-2.06.94zm-11 1L8.5 8.5l.94-2.06 2.06-.94-2.06-.94L8.5 2.5l-.94 2.06-2.06.94zm10 10l.94 2.06.94-2.06 2.06-.94-2.06-.94-.94-2.06-.94 2.06-2.06.94z\"/><path d=\"M17.41 7.96l-1.37-1.37c-.4-.4-.92-.59-1.43-.59-.52 0-1.04.2-1.43.59L10.3 9.45l-7.72 7.72c-.78.78-.78 2.05 0 2.83L4 21.41c.39.39.9.59 1.41.59.51 0 1.02-.2 1.41-.59l7.78-7.78 2.81-2.81c.8-.78.8-2.07 0-2.86zM5.41 20L4 18.59l7.72-7.72 1.47 1.35L5.41 20z\"/>\n",
              "  </svg>\n",
              "      </button>\n",
              "      \n",
              "  <style>\n",
              "    .colab-df-container {\n",
              "      display:flex;\n",
              "      flex-wrap:wrap;\n",
              "      gap: 12px;\n",
              "    }\n",
              "\n",
              "    .colab-df-convert {\n",
              "      background-color: #E8F0FE;\n",
              "      border: none;\n",
              "      border-radius: 50%;\n",
              "      cursor: pointer;\n",
              "      display: none;\n",
              "      fill: #1967D2;\n",
              "      height: 32px;\n",
              "      padding: 0 0 0 0;\n",
              "      width: 32px;\n",
              "    }\n",
              "\n",
              "    .colab-df-convert:hover {\n",
              "      background-color: #E2EBFA;\n",
              "      box-shadow: 0px 1px 2px rgba(60, 64, 67, 0.3), 0px 1px 3px 1px rgba(60, 64, 67, 0.15);\n",
              "      fill: #174EA6;\n",
              "    }\n",
              "\n",
              "    [theme=dark] .colab-df-convert {\n",
              "      background-color: #3B4455;\n",
              "      fill: #D2E3FC;\n",
              "    }\n",
              "\n",
              "    [theme=dark] .colab-df-convert:hover {\n",
              "      background-color: #434B5C;\n",
              "      box-shadow: 0px 1px 3px 1px rgba(0, 0, 0, 0.15);\n",
              "      filter: drop-shadow(0px 1px 2px rgba(0, 0, 0, 0.3));\n",
              "      fill: #FFFFFF;\n",
              "    }\n",
              "  </style>\n",
              "\n",
              "      <script>\n",
              "        const buttonEl =\n",
              "          document.querySelector('#df-b03710a2-5e94-48b7-b747-a8832be24129 button.colab-df-convert');\n",
              "        buttonEl.style.display =\n",
              "          google.colab.kernel.accessAllowed ? 'block' : 'none';\n",
              "\n",
              "        async function convertToInteractive(key) {\n",
              "          const element = document.querySelector('#df-b03710a2-5e94-48b7-b747-a8832be24129');\n",
              "          const dataTable =\n",
              "            await google.colab.kernel.invokeFunction('convertToInteractive',\n",
              "                                                     [key], {});\n",
              "          if (!dataTable) return;\n",
              "\n",
              "          const docLinkHtml = 'Like what you see? Visit the ' +\n",
              "            '<a target=\"_blank\" href=https://colab.research.google.com/notebooks/data_table.ipynb>data table notebook</a>'\n",
              "            + ' to learn more about interactive tables.';\n",
              "          element.innerHTML = '';\n",
              "          dataTable['output_type'] = 'display_data';\n",
              "          await google.colab.output.renderOutput(dataTable, element);\n",
              "          const docLink = document.createElement('div');\n",
              "          docLink.innerHTML = docLinkHtml;\n",
              "          element.appendChild(docLink);\n",
              "        }\n",
              "      </script>\n",
              "    </div>\n",
              "  </div>\n",
              "  "
            ]
          },
          "metadata": {},
          "execution_count": 520
        }
      ]
    },
    {
      "cell_type": "code",
      "source": [
        "#creating dummies for mnth variale\n",
        "month_dummies = pd.get_dummies(dayDF['mnth'], drop_first = True)\n",
        "print(dayDF['mnth'].head())\n",
        "month_dummies.head()"
      ],
      "metadata": {
        "colab": {
          "base_uri": "https://localhost:8080/",
          "height": 310
        },
        "id": "RRRN78mYqNCA",
        "outputId": "7c31b964-6d4d-45b1-8ed1-45685f8fca98"
      },
      "execution_count": 521,
      "outputs": [
        {
          "output_type": "stream",
          "name": "stdout",
          "text": [
            "0    January\n",
            "1    January\n",
            "2    January\n",
            "3    January\n",
            "4    January\n",
            "Name: mnth, dtype: object\n"
          ]
        },
        {
          "output_type": "execute_result",
          "data": {
            "text/plain": [
              "   August  December  February  January  July  June  March  May  November  \\\n",
              "0       0         0         0        1     0     0      0    0         0   \n",
              "1       0         0         0        1     0     0      0    0         0   \n",
              "2       0         0         0        1     0     0      0    0         0   \n",
              "3       0         0         0        1     0     0      0    0         0   \n",
              "4       0         0         0        1     0     0      0    0         0   \n",
              "\n",
              "   October  September  \n",
              "0        0          0  \n",
              "1        0          0  \n",
              "2        0          0  \n",
              "3        0          0  \n",
              "4        0          0  "
            ],
            "text/html": [
              "\n",
              "  <div id=\"df-bec14166-a177-4602-ba88-b74fd634b6e8\">\n",
              "    <div class=\"colab-df-container\">\n",
              "      <div>\n",
              "<style scoped>\n",
              "    .dataframe tbody tr th:only-of-type {\n",
              "        vertical-align: middle;\n",
              "    }\n",
              "\n",
              "    .dataframe tbody tr th {\n",
              "        vertical-align: top;\n",
              "    }\n",
              "\n",
              "    .dataframe thead th {\n",
              "        text-align: right;\n",
              "    }\n",
              "</style>\n",
              "<table border=\"1\" class=\"dataframe\">\n",
              "  <thead>\n",
              "    <tr style=\"text-align: right;\">\n",
              "      <th></th>\n",
              "      <th>August</th>\n",
              "      <th>December</th>\n",
              "      <th>February</th>\n",
              "      <th>January</th>\n",
              "      <th>July</th>\n",
              "      <th>June</th>\n",
              "      <th>March</th>\n",
              "      <th>May</th>\n",
              "      <th>November</th>\n",
              "      <th>October</th>\n",
              "      <th>September</th>\n",
              "    </tr>\n",
              "  </thead>\n",
              "  <tbody>\n",
              "    <tr>\n",
              "      <th>0</th>\n",
              "      <td>0</td>\n",
              "      <td>0</td>\n",
              "      <td>0</td>\n",
              "      <td>1</td>\n",
              "      <td>0</td>\n",
              "      <td>0</td>\n",
              "      <td>0</td>\n",
              "      <td>0</td>\n",
              "      <td>0</td>\n",
              "      <td>0</td>\n",
              "      <td>0</td>\n",
              "    </tr>\n",
              "    <tr>\n",
              "      <th>1</th>\n",
              "      <td>0</td>\n",
              "      <td>0</td>\n",
              "      <td>0</td>\n",
              "      <td>1</td>\n",
              "      <td>0</td>\n",
              "      <td>0</td>\n",
              "      <td>0</td>\n",
              "      <td>0</td>\n",
              "      <td>0</td>\n",
              "      <td>0</td>\n",
              "      <td>0</td>\n",
              "    </tr>\n",
              "    <tr>\n",
              "      <th>2</th>\n",
              "      <td>0</td>\n",
              "      <td>0</td>\n",
              "      <td>0</td>\n",
              "      <td>1</td>\n",
              "      <td>0</td>\n",
              "      <td>0</td>\n",
              "      <td>0</td>\n",
              "      <td>0</td>\n",
              "      <td>0</td>\n",
              "      <td>0</td>\n",
              "      <td>0</td>\n",
              "    </tr>\n",
              "    <tr>\n",
              "      <th>3</th>\n",
              "      <td>0</td>\n",
              "      <td>0</td>\n",
              "      <td>0</td>\n",
              "      <td>1</td>\n",
              "      <td>0</td>\n",
              "      <td>0</td>\n",
              "      <td>0</td>\n",
              "      <td>0</td>\n",
              "      <td>0</td>\n",
              "      <td>0</td>\n",
              "      <td>0</td>\n",
              "    </tr>\n",
              "    <tr>\n",
              "      <th>4</th>\n",
              "      <td>0</td>\n",
              "      <td>0</td>\n",
              "      <td>0</td>\n",
              "      <td>1</td>\n",
              "      <td>0</td>\n",
              "      <td>0</td>\n",
              "      <td>0</td>\n",
              "      <td>0</td>\n",
              "      <td>0</td>\n",
              "      <td>0</td>\n",
              "      <td>0</td>\n",
              "    </tr>\n",
              "  </tbody>\n",
              "</table>\n",
              "</div>\n",
              "      <button class=\"colab-df-convert\" onclick=\"convertToInteractive('df-bec14166-a177-4602-ba88-b74fd634b6e8')\"\n",
              "              title=\"Convert this dataframe to an interactive table.\"\n",
              "              style=\"display:none;\">\n",
              "        \n",
              "  <svg xmlns=\"http://www.w3.org/2000/svg\" height=\"24px\"viewBox=\"0 0 24 24\"\n",
              "       width=\"24px\">\n",
              "    <path d=\"M0 0h24v24H0V0z\" fill=\"none\"/>\n",
              "    <path d=\"M18.56 5.44l.94 2.06.94-2.06 2.06-.94-2.06-.94-.94-2.06-.94 2.06-2.06.94zm-11 1L8.5 8.5l.94-2.06 2.06-.94-2.06-.94L8.5 2.5l-.94 2.06-2.06.94zm10 10l.94 2.06.94-2.06 2.06-.94-2.06-.94-.94-2.06-.94 2.06-2.06.94z\"/><path d=\"M17.41 7.96l-1.37-1.37c-.4-.4-.92-.59-1.43-.59-.52 0-1.04.2-1.43.59L10.3 9.45l-7.72 7.72c-.78.78-.78 2.05 0 2.83L4 21.41c.39.39.9.59 1.41.59.51 0 1.02-.2 1.41-.59l7.78-7.78 2.81-2.81c.8-.78.8-2.07 0-2.86zM5.41 20L4 18.59l7.72-7.72 1.47 1.35L5.41 20z\"/>\n",
              "  </svg>\n",
              "      </button>\n",
              "      \n",
              "  <style>\n",
              "    .colab-df-container {\n",
              "      display:flex;\n",
              "      flex-wrap:wrap;\n",
              "      gap: 12px;\n",
              "    }\n",
              "\n",
              "    .colab-df-convert {\n",
              "      background-color: #E8F0FE;\n",
              "      border: none;\n",
              "      border-radius: 50%;\n",
              "      cursor: pointer;\n",
              "      display: none;\n",
              "      fill: #1967D2;\n",
              "      height: 32px;\n",
              "      padding: 0 0 0 0;\n",
              "      width: 32px;\n",
              "    }\n",
              "\n",
              "    .colab-df-convert:hover {\n",
              "      background-color: #E2EBFA;\n",
              "      box-shadow: 0px 1px 2px rgba(60, 64, 67, 0.3), 0px 1px 3px 1px rgba(60, 64, 67, 0.15);\n",
              "      fill: #174EA6;\n",
              "    }\n",
              "\n",
              "    [theme=dark] .colab-df-convert {\n",
              "      background-color: #3B4455;\n",
              "      fill: #D2E3FC;\n",
              "    }\n",
              "\n",
              "    [theme=dark] .colab-df-convert:hover {\n",
              "      background-color: #434B5C;\n",
              "      box-shadow: 0px 1px 3px 1px rgba(0, 0, 0, 0.15);\n",
              "      filter: drop-shadow(0px 1px 2px rgba(0, 0, 0, 0.3));\n",
              "      fill: #FFFFFF;\n",
              "    }\n",
              "  </style>\n",
              "\n",
              "      <script>\n",
              "        const buttonEl =\n",
              "          document.querySelector('#df-bec14166-a177-4602-ba88-b74fd634b6e8 button.colab-df-convert');\n",
              "        buttonEl.style.display =\n",
              "          google.colab.kernel.accessAllowed ? 'block' : 'none';\n",
              "\n",
              "        async function convertToInteractive(key) {\n",
              "          const element = document.querySelector('#df-bec14166-a177-4602-ba88-b74fd634b6e8');\n",
              "          const dataTable =\n",
              "            await google.colab.kernel.invokeFunction('convertToInteractive',\n",
              "                                                     [key], {});\n",
              "          if (!dataTable) return;\n",
              "\n",
              "          const docLinkHtml = 'Like what you see? Visit the ' +\n",
              "            '<a target=\"_blank\" href=https://colab.research.google.com/notebooks/data_table.ipynb>data table notebook</a>'\n",
              "            + ' to learn more about interactive tables.';\n",
              "          element.innerHTML = '';\n",
              "          dataTable['output_type'] = 'display_data';\n",
              "          await google.colab.output.renderOutput(dataTable, element);\n",
              "          const docLink = document.createElement('div');\n",
              "          docLink.innerHTML = docLinkHtml;\n",
              "          element.appendChild(docLink);\n",
              "        }\n",
              "      </script>\n",
              "    </div>\n",
              "  </div>\n",
              "  "
            ]
          },
          "metadata": {},
          "execution_count": 521
        }
      ]
    },
    {
      "cell_type": "code",
      "source": [
        "#creating dummies for weekday variale\n",
        "weekday_dummies = pd.get_dummies(dayDF['weekday'], drop_first = True)\n",
        "print(dayDF['weekday'].head())\n",
        "weekday_dummies.head()"
      ],
      "metadata": {
        "colab": {
          "base_uri": "https://localhost:8080/",
          "height": 310
        },
        "id": "3on3itorqhbE",
        "outputId": "3d2b4ed6-f64b-46ca-83ed-5156dc6d6def"
      },
      "execution_count": 522,
      "outputs": [
        {
          "output_type": "stream",
          "name": "stdout",
          "text": [
            "0       Monday\n",
            "1      Tuesday\n",
            "2    Wednesday\n",
            "3     Thursday\n",
            "4       Friday\n",
            "Name: weekday, dtype: object\n"
          ]
        },
        {
          "output_type": "execute_result",
          "data": {
            "text/plain": [
              "   Monday  Saturday  Sunday  Thursday  Tuesday  Wednesday\n",
              "0       1         0       0         0        0          0\n",
              "1       0         0       0         0        1          0\n",
              "2       0         0       0         0        0          1\n",
              "3       0         0       0         1        0          0\n",
              "4       0         0       0         0        0          0"
            ],
            "text/html": [
              "\n",
              "  <div id=\"df-a669a2dd-3b42-4447-b642-479c1d32fcad\">\n",
              "    <div class=\"colab-df-container\">\n",
              "      <div>\n",
              "<style scoped>\n",
              "    .dataframe tbody tr th:only-of-type {\n",
              "        vertical-align: middle;\n",
              "    }\n",
              "\n",
              "    .dataframe tbody tr th {\n",
              "        vertical-align: top;\n",
              "    }\n",
              "\n",
              "    .dataframe thead th {\n",
              "        text-align: right;\n",
              "    }\n",
              "</style>\n",
              "<table border=\"1\" class=\"dataframe\">\n",
              "  <thead>\n",
              "    <tr style=\"text-align: right;\">\n",
              "      <th></th>\n",
              "      <th>Monday</th>\n",
              "      <th>Saturday</th>\n",
              "      <th>Sunday</th>\n",
              "      <th>Thursday</th>\n",
              "      <th>Tuesday</th>\n",
              "      <th>Wednesday</th>\n",
              "    </tr>\n",
              "  </thead>\n",
              "  <tbody>\n",
              "    <tr>\n",
              "      <th>0</th>\n",
              "      <td>1</td>\n",
              "      <td>0</td>\n",
              "      <td>0</td>\n",
              "      <td>0</td>\n",
              "      <td>0</td>\n",
              "      <td>0</td>\n",
              "    </tr>\n",
              "    <tr>\n",
              "      <th>1</th>\n",
              "      <td>0</td>\n",
              "      <td>0</td>\n",
              "      <td>0</td>\n",
              "      <td>0</td>\n",
              "      <td>1</td>\n",
              "      <td>0</td>\n",
              "    </tr>\n",
              "    <tr>\n",
              "      <th>2</th>\n",
              "      <td>0</td>\n",
              "      <td>0</td>\n",
              "      <td>0</td>\n",
              "      <td>0</td>\n",
              "      <td>0</td>\n",
              "      <td>1</td>\n",
              "    </tr>\n",
              "    <tr>\n",
              "      <th>3</th>\n",
              "      <td>0</td>\n",
              "      <td>0</td>\n",
              "      <td>0</td>\n",
              "      <td>1</td>\n",
              "      <td>0</td>\n",
              "      <td>0</td>\n",
              "    </tr>\n",
              "    <tr>\n",
              "      <th>4</th>\n",
              "      <td>0</td>\n",
              "      <td>0</td>\n",
              "      <td>0</td>\n",
              "      <td>0</td>\n",
              "      <td>0</td>\n",
              "      <td>0</td>\n",
              "    </tr>\n",
              "  </tbody>\n",
              "</table>\n",
              "</div>\n",
              "      <button class=\"colab-df-convert\" onclick=\"convertToInteractive('df-a669a2dd-3b42-4447-b642-479c1d32fcad')\"\n",
              "              title=\"Convert this dataframe to an interactive table.\"\n",
              "              style=\"display:none;\">\n",
              "        \n",
              "  <svg xmlns=\"http://www.w3.org/2000/svg\" height=\"24px\"viewBox=\"0 0 24 24\"\n",
              "       width=\"24px\">\n",
              "    <path d=\"M0 0h24v24H0V0z\" fill=\"none\"/>\n",
              "    <path d=\"M18.56 5.44l.94 2.06.94-2.06 2.06-.94-2.06-.94-.94-2.06-.94 2.06-2.06.94zm-11 1L8.5 8.5l.94-2.06 2.06-.94-2.06-.94L8.5 2.5l-.94 2.06-2.06.94zm10 10l.94 2.06.94-2.06 2.06-.94-2.06-.94-.94-2.06-.94 2.06-2.06.94z\"/><path d=\"M17.41 7.96l-1.37-1.37c-.4-.4-.92-.59-1.43-.59-.52 0-1.04.2-1.43.59L10.3 9.45l-7.72 7.72c-.78.78-.78 2.05 0 2.83L4 21.41c.39.39.9.59 1.41.59.51 0 1.02-.2 1.41-.59l7.78-7.78 2.81-2.81c.8-.78.8-2.07 0-2.86zM5.41 20L4 18.59l7.72-7.72 1.47 1.35L5.41 20z\"/>\n",
              "  </svg>\n",
              "      </button>\n",
              "      \n",
              "  <style>\n",
              "    .colab-df-container {\n",
              "      display:flex;\n",
              "      flex-wrap:wrap;\n",
              "      gap: 12px;\n",
              "    }\n",
              "\n",
              "    .colab-df-convert {\n",
              "      background-color: #E8F0FE;\n",
              "      border: none;\n",
              "      border-radius: 50%;\n",
              "      cursor: pointer;\n",
              "      display: none;\n",
              "      fill: #1967D2;\n",
              "      height: 32px;\n",
              "      padding: 0 0 0 0;\n",
              "      width: 32px;\n",
              "    }\n",
              "\n",
              "    .colab-df-convert:hover {\n",
              "      background-color: #E2EBFA;\n",
              "      box-shadow: 0px 1px 2px rgba(60, 64, 67, 0.3), 0px 1px 3px 1px rgba(60, 64, 67, 0.15);\n",
              "      fill: #174EA6;\n",
              "    }\n",
              "\n",
              "    [theme=dark] .colab-df-convert {\n",
              "      background-color: #3B4455;\n",
              "      fill: #D2E3FC;\n",
              "    }\n",
              "\n",
              "    [theme=dark] .colab-df-convert:hover {\n",
              "      background-color: #434B5C;\n",
              "      box-shadow: 0px 1px 3px 1px rgba(0, 0, 0, 0.15);\n",
              "      filter: drop-shadow(0px 1px 2px rgba(0, 0, 0, 0.3));\n",
              "      fill: #FFFFFF;\n",
              "    }\n",
              "  </style>\n",
              "\n",
              "      <script>\n",
              "        const buttonEl =\n",
              "          document.querySelector('#df-a669a2dd-3b42-4447-b642-479c1d32fcad button.colab-df-convert');\n",
              "        buttonEl.style.display =\n",
              "          google.colab.kernel.accessAllowed ? 'block' : 'none';\n",
              "\n",
              "        async function convertToInteractive(key) {\n",
              "          const element = document.querySelector('#df-a669a2dd-3b42-4447-b642-479c1d32fcad');\n",
              "          const dataTable =\n",
              "            await google.colab.kernel.invokeFunction('convertToInteractive',\n",
              "                                                     [key], {});\n",
              "          if (!dataTable) return;\n",
              "\n",
              "          const docLinkHtml = 'Like what you see? Visit the ' +\n",
              "            '<a target=\"_blank\" href=https://colab.research.google.com/notebooks/data_table.ipynb>data table notebook</a>'\n",
              "            + ' to learn more about interactive tables.';\n",
              "          element.innerHTML = '';\n",
              "          dataTable['output_type'] = 'display_data';\n",
              "          await google.colab.output.renderOutput(dataTable, element);\n",
              "          const docLink = document.createElement('div');\n",
              "          docLink.innerHTML = docLinkHtml;\n",
              "          element.appendChild(docLink);\n",
              "        }\n",
              "      </script>\n",
              "    </div>\n",
              "  </div>\n",
              "  "
            ]
          },
          "metadata": {},
          "execution_count": 522
        }
      ]
    },
    {
      "cell_type": "code",
      "source": [
        "#concatenating all dummy dataframes to original dataframe\n",
        "dayDF = pd.concat([dayDF,season_dummies,weathersit_dummies,month_dummies,weekday_dummies],axis=1)"
      ],
      "metadata": {
        "id": "GF3iVfkSex5X"
      },
      "execution_count": 523,
      "outputs": []
    },
    {
      "cell_type": "code",
      "source": [
        "#let's drop the original categorical variables season,weathersit,mnth and weekday\n",
        "dayDF.drop(['season','weathersit','mnth','weekday'],axis=1,inplace=True)"
      ],
      "metadata": {
        "id": "PN1ki5h1f57j"
      },
      "execution_count": 524,
      "outputs": []
    },
    {
      "cell_type": "code",
      "source": [
        "#let's drop day column since it doesn't give much insight\n",
        "dayDF.drop(['day'],axis=1,inplace=True)"
      ],
      "metadata": {
        "id": "kKfEdQBrpQHK"
      },
      "execution_count": 525,
      "outputs": []
    },
    {
      "cell_type": "code",
      "source": [
        "dayDF.head()"
      ],
      "metadata": {
        "colab": {
          "base_uri": "https://localhost:8080/",
          "height": 299
        },
        "id": "uuBJQk7vgOlG",
        "outputId": "b1ca9785-59da-4384-8aa8-1666ff5d1eed"
      },
      "execution_count": 526,
      "outputs": [
        {
          "output_type": "execute_result",
          "data": {
            "text/plain": [
              "   yr  holiday  workingday       temp      hum  windspeed   cnt  spring  \\\n",
              "0   0        0           0  14.110847  80.5833  10.749882   985       1   \n",
              "1   0        0           0  14.902598  69.6087  16.652113   801       1   \n",
              "2   0        0           1   8.050924  43.7273  16.636703  1349       1   \n",
              "3   0        0           1   8.200000  59.0435  10.739832  1562       1   \n",
              "4   0        0           1   9.305237  43.6957  12.522300  1600       1   \n",
              "\n",
              "   summer  winter  ...  May  November  October  September  Monday  Saturday  \\\n",
              "0       0       0  ...    0         0        0          0       1         0   \n",
              "1       0       0  ...    0         0        0          0       0         0   \n",
              "2       0       0  ...    0         0        0          0       0         0   \n",
              "3       0       0  ...    0         0        0          0       0         0   \n",
              "4       0       0  ...    0         0        0          0       0         0   \n",
              "\n",
              "   Sunday  Thursday  Tuesday  Wednesday  \n",
              "0       0         0        0          0  \n",
              "1       0         0        1          0  \n",
              "2       0         0        0          1  \n",
              "3       0         1        0          0  \n",
              "4       0         0        0          0  \n",
              "\n",
              "[5 rows x 29 columns]"
            ],
            "text/html": [
              "\n",
              "  <div id=\"df-d83827c8-1901-4e51-b9e7-70a9bb348cf1\">\n",
              "    <div class=\"colab-df-container\">\n",
              "      <div>\n",
              "<style scoped>\n",
              "    .dataframe tbody tr th:only-of-type {\n",
              "        vertical-align: middle;\n",
              "    }\n",
              "\n",
              "    .dataframe tbody tr th {\n",
              "        vertical-align: top;\n",
              "    }\n",
              "\n",
              "    .dataframe thead th {\n",
              "        text-align: right;\n",
              "    }\n",
              "</style>\n",
              "<table border=\"1\" class=\"dataframe\">\n",
              "  <thead>\n",
              "    <tr style=\"text-align: right;\">\n",
              "      <th></th>\n",
              "      <th>yr</th>\n",
              "      <th>holiday</th>\n",
              "      <th>workingday</th>\n",
              "      <th>temp</th>\n",
              "      <th>hum</th>\n",
              "      <th>windspeed</th>\n",
              "      <th>cnt</th>\n",
              "      <th>spring</th>\n",
              "      <th>summer</th>\n",
              "      <th>winter</th>\n",
              "      <th>...</th>\n",
              "      <th>May</th>\n",
              "      <th>November</th>\n",
              "      <th>October</th>\n",
              "      <th>September</th>\n",
              "      <th>Monday</th>\n",
              "      <th>Saturday</th>\n",
              "      <th>Sunday</th>\n",
              "      <th>Thursday</th>\n",
              "      <th>Tuesday</th>\n",
              "      <th>Wednesday</th>\n",
              "    </tr>\n",
              "  </thead>\n",
              "  <tbody>\n",
              "    <tr>\n",
              "      <th>0</th>\n",
              "      <td>0</td>\n",
              "      <td>0</td>\n",
              "      <td>0</td>\n",
              "      <td>14.110847</td>\n",
              "      <td>80.5833</td>\n",
              "      <td>10.749882</td>\n",
              "      <td>985</td>\n",
              "      <td>1</td>\n",
              "      <td>0</td>\n",
              "      <td>0</td>\n",
              "      <td>...</td>\n",
              "      <td>0</td>\n",
              "      <td>0</td>\n",
              "      <td>0</td>\n",
              "      <td>0</td>\n",
              "      <td>1</td>\n",
              "      <td>0</td>\n",
              "      <td>0</td>\n",
              "      <td>0</td>\n",
              "      <td>0</td>\n",
              "      <td>0</td>\n",
              "    </tr>\n",
              "    <tr>\n",
              "      <th>1</th>\n",
              "      <td>0</td>\n",
              "      <td>0</td>\n",
              "      <td>0</td>\n",
              "      <td>14.902598</td>\n",
              "      <td>69.6087</td>\n",
              "      <td>16.652113</td>\n",
              "      <td>801</td>\n",
              "      <td>1</td>\n",
              "      <td>0</td>\n",
              "      <td>0</td>\n",
              "      <td>...</td>\n",
              "      <td>0</td>\n",
              "      <td>0</td>\n",
              "      <td>0</td>\n",
              "      <td>0</td>\n",
              "      <td>0</td>\n",
              "      <td>0</td>\n",
              "      <td>0</td>\n",
              "      <td>0</td>\n",
              "      <td>1</td>\n",
              "      <td>0</td>\n",
              "    </tr>\n",
              "    <tr>\n",
              "      <th>2</th>\n",
              "      <td>0</td>\n",
              "      <td>0</td>\n",
              "      <td>1</td>\n",
              "      <td>8.050924</td>\n",
              "      <td>43.7273</td>\n",
              "      <td>16.636703</td>\n",
              "      <td>1349</td>\n",
              "      <td>1</td>\n",
              "      <td>0</td>\n",
              "      <td>0</td>\n",
              "      <td>...</td>\n",
              "      <td>0</td>\n",
              "      <td>0</td>\n",
              "      <td>0</td>\n",
              "      <td>0</td>\n",
              "      <td>0</td>\n",
              "      <td>0</td>\n",
              "      <td>0</td>\n",
              "      <td>0</td>\n",
              "      <td>0</td>\n",
              "      <td>1</td>\n",
              "    </tr>\n",
              "    <tr>\n",
              "      <th>3</th>\n",
              "      <td>0</td>\n",
              "      <td>0</td>\n",
              "      <td>1</td>\n",
              "      <td>8.200000</td>\n",
              "      <td>59.0435</td>\n",
              "      <td>10.739832</td>\n",
              "      <td>1562</td>\n",
              "      <td>1</td>\n",
              "      <td>0</td>\n",
              "      <td>0</td>\n",
              "      <td>...</td>\n",
              "      <td>0</td>\n",
              "      <td>0</td>\n",
              "      <td>0</td>\n",
              "      <td>0</td>\n",
              "      <td>0</td>\n",
              "      <td>0</td>\n",
              "      <td>0</td>\n",
              "      <td>1</td>\n",
              "      <td>0</td>\n",
              "      <td>0</td>\n",
              "    </tr>\n",
              "    <tr>\n",
              "      <th>4</th>\n",
              "      <td>0</td>\n",
              "      <td>0</td>\n",
              "      <td>1</td>\n",
              "      <td>9.305237</td>\n",
              "      <td>43.6957</td>\n",
              "      <td>12.522300</td>\n",
              "      <td>1600</td>\n",
              "      <td>1</td>\n",
              "      <td>0</td>\n",
              "      <td>0</td>\n",
              "      <td>...</td>\n",
              "      <td>0</td>\n",
              "      <td>0</td>\n",
              "      <td>0</td>\n",
              "      <td>0</td>\n",
              "      <td>0</td>\n",
              "      <td>0</td>\n",
              "      <td>0</td>\n",
              "      <td>0</td>\n",
              "      <td>0</td>\n",
              "      <td>0</td>\n",
              "    </tr>\n",
              "  </tbody>\n",
              "</table>\n",
              "<p>5 rows × 29 columns</p>\n",
              "</div>\n",
              "      <button class=\"colab-df-convert\" onclick=\"convertToInteractive('df-d83827c8-1901-4e51-b9e7-70a9bb348cf1')\"\n",
              "              title=\"Convert this dataframe to an interactive table.\"\n",
              "              style=\"display:none;\">\n",
              "        \n",
              "  <svg xmlns=\"http://www.w3.org/2000/svg\" height=\"24px\"viewBox=\"0 0 24 24\"\n",
              "       width=\"24px\">\n",
              "    <path d=\"M0 0h24v24H0V0z\" fill=\"none\"/>\n",
              "    <path d=\"M18.56 5.44l.94 2.06.94-2.06 2.06-.94-2.06-.94-.94-2.06-.94 2.06-2.06.94zm-11 1L8.5 8.5l.94-2.06 2.06-.94-2.06-.94L8.5 2.5l-.94 2.06-2.06.94zm10 10l.94 2.06.94-2.06 2.06-.94-2.06-.94-.94-2.06-.94 2.06-2.06.94z\"/><path d=\"M17.41 7.96l-1.37-1.37c-.4-.4-.92-.59-1.43-.59-.52 0-1.04.2-1.43.59L10.3 9.45l-7.72 7.72c-.78.78-.78 2.05 0 2.83L4 21.41c.39.39.9.59 1.41.59.51 0 1.02-.2 1.41-.59l7.78-7.78 2.81-2.81c.8-.78.8-2.07 0-2.86zM5.41 20L4 18.59l7.72-7.72 1.47 1.35L5.41 20z\"/>\n",
              "  </svg>\n",
              "      </button>\n",
              "      \n",
              "  <style>\n",
              "    .colab-df-container {\n",
              "      display:flex;\n",
              "      flex-wrap:wrap;\n",
              "      gap: 12px;\n",
              "    }\n",
              "\n",
              "    .colab-df-convert {\n",
              "      background-color: #E8F0FE;\n",
              "      border: none;\n",
              "      border-radius: 50%;\n",
              "      cursor: pointer;\n",
              "      display: none;\n",
              "      fill: #1967D2;\n",
              "      height: 32px;\n",
              "      padding: 0 0 0 0;\n",
              "      width: 32px;\n",
              "    }\n",
              "\n",
              "    .colab-df-convert:hover {\n",
              "      background-color: #E2EBFA;\n",
              "      box-shadow: 0px 1px 2px rgba(60, 64, 67, 0.3), 0px 1px 3px 1px rgba(60, 64, 67, 0.15);\n",
              "      fill: #174EA6;\n",
              "    }\n",
              "\n",
              "    [theme=dark] .colab-df-convert {\n",
              "      background-color: #3B4455;\n",
              "      fill: #D2E3FC;\n",
              "    }\n",
              "\n",
              "    [theme=dark] .colab-df-convert:hover {\n",
              "      background-color: #434B5C;\n",
              "      box-shadow: 0px 1px 3px 1px rgba(0, 0, 0, 0.15);\n",
              "      filter: drop-shadow(0px 1px 2px rgba(0, 0, 0, 0.3));\n",
              "      fill: #FFFFFF;\n",
              "    }\n",
              "  </style>\n",
              "\n",
              "      <script>\n",
              "        const buttonEl =\n",
              "          document.querySelector('#df-d83827c8-1901-4e51-b9e7-70a9bb348cf1 button.colab-df-convert');\n",
              "        buttonEl.style.display =\n",
              "          google.colab.kernel.accessAllowed ? 'block' : 'none';\n",
              "\n",
              "        async function convertToInteractive(key) {\n",
              "          const element = document.querySelector('#df-d83827c8-1901-4e51-b9e7-70a9bb348cf1');\n",
              "          const dataTable =\n",
              "            await google.colab.kernel.invokeFunction('convertToInteractive',\n",
              "                                                     [key], {});\n",
              "          if (!dataTable) return;\n",
              "\n",
              "          const docLinkHtml = 'Like what you see? Visit the ' +\n",
              "            '<a target=\"_blank\" href=https://colab.research.google.com/notebooks/data_table.ipynb>data table notebook</a>'\n",
              "            + ' to learn more about interactive tables.';\n",
              "          element.innerHTML = '';\n",
              "          dataTable['output_type'] = 'display_data';\n",
              "          await google.colab.output.renderOutput(dataTable, element);\n",
              "          const docLink = document.createElement('div');\n",
              "          docLink.innerHTML = docLinkHtml;\n",
              "          element.appendChild(docLink);\n",
              "        }\n",
              "      </script>\n",
              "    </div>\n",
              "  </div>\n",
              "  "
            ]
          },
          "metadata": {},
          "execution_count": 526
        }
      ]
    },
    {
      "cell_type": "markdown",
      "source": [
        "# **Step 4: Splitting the data and performing Feature Scaling**"
      ],
      "metadata": {
        "id": "YEhBs5pkq4AD"
      }
    },
    {
      "cell_type": "code",
      "source": [
        "#import libraries\n",
        "\n",
        "import sklearn\n",
        "from sklearn.model_selection import train_test_split\n",
        "\n",
        "from sklearn.preprocessing import MinMaxScaler"
      ],
      "metadata": {
        "id": "vJWbY0ioroSD"
      },
      "execution_count": 527,
      "outputs": []
    },
    {
      "cell_type": "code",
      "source": [
        "df_train,df_test = train_test_split(dayDF, train_size=0.7, random_state=100)\n",
        "print(df_train.shape)\n",
        "print(df_test.shape)"
      ],
      "metadata": {
        "colab": {
          "base_uri": "https://localhost:8080/"
        },
        "id": "rsVNH3cIW_wM",
        "outputId": "1dc5dd2c-71cb-4e88-a8c1-645a2b84a1cc"
      },
      "execution_count": 528,
      "outputs": [
        {
          "output_type": "stream",
          "name": "stdout",
          "text": [
            "(510, 29)\n",
            "(220, 29)\n"
          ]
        }
      ]
    },
    {
      "cell_type": "markdown",
      "source": [
        "* Our train dataset has 510 datapoints and test dataset has 220 datapoints, with 29 variables."
      ],
      "metadata": {
        "id": "98NwQ5zqXtfE"
      }
    },
    {
      "cell_type": "code",
      "source": [
        "scaler = MinMaxScaler()\n",
        "\n",
        "dayDF.nunique()"
      ],
      "metadata": {
        "colab": {
          "base_uri": "https://localhost:8080/"
        },
        "id": "xpoCgtgRYFb8",
        "outputId": "230c6250-a8b0-4379-d94a-98acaa29fc01"
      },
      "execution_count": 529,
      "outputs": [
        {
          "output_type": "execute_result",
          "data": {
            "text/plain": [
              "yr              2\n",
              "holiday         2\n",
              "workingday      2\n",
              "temp          498\n",
              "hum           594\n",
              "windspeed     649\n",
              "cnt           695\n",
              "spring          2\n",
              "summer          2\n",
              "winter          2\n",
              "lightrain       2\n",
              "misty           2\n",
              "August          2\n",
              "December        2\n",
              "February        2\n",
              "January         2\n",
              "July            2\n",
              "June            2\n",
              "March           2\n",
              "May             2\n",
              "November        2\n",
              "October         2\n",
              "September       2\n",
              "Monday          2\n",
              "Saturday        2\n",
              "Sunday          2\n",
              "Thursday        2\n",
              "Tuesday         2\n",
              "Wednesday       2\n",
              "dtype: int64"
            ]
          },
          "metadata": {},
          "execution_count": 529
        }
      ]
    },
    {
      "cell_type": "code",
      "source": [
        "#consider variables whose values doesn't fall under fixed range of [0,1] for MinMaxScaler\n",
        "scaled_col = ['temp','hum','windspeed','cnt']\n",
        "\n",
        "df_train[scaled_col] = scaler.fit_transform(df_train[scaled_col])"
      ],
      "metadata": {
        "id": "1g8nAPklhWdi"
      },
      "execution_count": 530,
      "outputs": []
    },
    {
      "cell_type": "code",
      "source": [
        "df_train.describe()"
      ],
      "metadata": {
        "colab": {
          "base_uri": "https://localhost:8080/",
          "height": 394
        },
        "id": "GuR3TeN5iWRS",
        "outputId": "c6d6b380-e5c1-42c9-d194-b9fb38e4e2b4"
      },
      "execution_count": 531,
      "outputs": [
        {
          "output_type": "execute_result",
          "data": {
            "text/plain": [
              "               yr     holiday  workingday        temp         hum   windspeed  \\\n",
              "count  510.000000  510.000000  510.000000  510.000000  510.000000  510.000000   \n",
              "mean     0.507843    0.025490    0.676471    0.537440    0.650480    0.320883   \n",
              "std      0.500429    0.157763    0.468282    0.225858    0.145846    0.169803   \n",
              "min      0.000000    0.000000    0.000000    0.000000    0.000000    0.000000   \n",
              "25%      0.000000    0.000000    0.000000    0.339853    0.538643    0.199179   \n",
              "50%      1.000000    0.000000    1.000000    0.542596    0.653714    0.296763   \n",
              "75%      1.000000    0.000000    1.000000    0.735215    0.754830    0.414447   \n",
              "max      1.000000    1.000000    1.000000    1.000000    1.000000    1.000000   \n",
              "\n",
              "              cnt      spring      summer      winter  ...         May  \\\n",
              "count  510.000000  510.000000  510.000000  510.000000  ...  510.000000   \n",
              "mean     0.513499    0.243137    0.247059    0.247059  ...    0.084314   \n",
              "std      0.224421    0.429398    0.431725    0.431725  ...    0.278131   \n",
              "min      0.000000    0.000000    0.000000    0.000000  ...    0.000000   \n",
              "25%      0.356420    0.000000    0.000000    0.000000  ...    0.000000   \n",
              "50%      0.518638    0.000000    0.000000    0.000000  ...    0.000000   \n",
              "75%      0.684710    0.000000    0.000000    0.000000  ...    0.000000   \n",
              "max      1.000000    1.000000    1.000000    1.000000  ...    1.000000   \n",
              "\n",
              "         November     October   September      Monday    Saturday      Sunday  \\\n",
              "count  510.000000  510.000000  510.000000  510.000000  510.000000  510.000000   \n",
              "mean     0.086275    0.084314    0.080392    0.154902    0.133333    0.127451   \n",
              "std      0.281045    0.278131    0.272166    0.362166    0.340268    0.333805   \n",
              "min      0.000000    0.000000    0.000000    0.000000    0.000000    0.000000   \n",
              "25%      0.000000    0.000000    0.000000    0.000000    0.000000    0.000000   \n",
              "50%      0.000000    0.000000    0.000000    0.000000    0.000000    0.000000   \n",
              "75%      0.000000    0.000000    0.000000    0.000000    0.000000    0.000000   \n",
              "max      1.000000    1.000000    1.000000    1.000000    1.000000    1.000000   \n",
              "\n",
              "         Thursday     Tuesday   Wednesday  \n",
              "count  510.000000  510.000000  510.000000  \n",
              "mean     0.131373    0.143137    0.150980  \n",
              "std      0.338139    0.350557    0.358381  \n",
              "min      0.000000    0.000000    0.000000  \n",
              "25%      0.000000    0.000000    0.000000  \n",
              "50%      0.000000    0.000000    0.000000  \n",
              "75%      0.000000    0.000000    0.000000  \n",
              "max      1.000000    1.000000    1.000000  \n",
              "\n",
              "[8 rows x 29 columns]"
            ],
            "text/html": [
              "\n",
              "  <div id=\"df-6f5a0952-e2dc-4637-bd7f-c9d8730e114e\">\n",
              "    <div class=\"colab-df-container\">\n",
              "      <div>\n",
              "<style scoped>\n",
              "    .dataframe tbody tr th:only-of-type {\n",
              "        vertical-align: middle;\n",
              "    }\n",
              "\n",
              "    .dataframe tbody tr th {\n",
              "        vertical-align: top;\n",
              "    }\n",
              "\n",
              "    .dataframe thead th {\n",
              "        text-align: right;\n",
              "    }\n",
              "</style>\n",
              "<table border=\"1\" class=\"dataframe\">\n",
              "  <thead>\n",
              "    <tr style=\"text-align: right;\">\n",
              "      <th></th>\n",
              "      <th>yr</th>\n",
              "      <th>holiday</th>\n",
              "      <th>workingday</th>\n",
              "      <th>temp</th>\n",
              "      <th>hum</th>\n",
              "      <th>windspeed</th>\n",
              "      <th>cnt</th>\n",
              "      <th>spring</th>\n",
              "      <th>summer</th>\n",
              "      <th>winter</th>\n",
              "      <th>...</th>\n",
              "      <th>May</th>\n",
              "      <th>November</th>\n",
              "      <th>October</th>\n",
              "      <th>September</th>\n",
              "      <th>Monday</th>\n",
              "      <th>Saturday</th>\n",
              "      <th>Sunday</th>\n",
              "      <th>Thursday</th>\n",
              "      <th>Tuesday</th>\n",
              "      <th>Wednesday</th>\n",
              "    </tr>\n",
              "  </thead>\n",
              "  <tbody>\n",
              "    <tr>\n",
              "      <th>count</th>\n",
              "      <td>510.000000</td>\n",
              "      <td>510.000000</td>\n",
              "      <td>510.000000</td>\n",
              "      <td>510.000000</td>\n",
              "      <td>510.000000</td>\n",
              "      <td>510.000000</td>\n",
              "      <td>510.000000</td>\n",
              "      <td>510.000000</td>\n",
              "      <td>510.000000</td>\n",
              "      <td>510.000000</td>\n",
              "      <td>...</td>\n",
              "      <td>510.000000</td>\n",
              "      <td>510.000000</td>\n",
              "      <td>510.000000</td>\n",
              "      <td>510.000000</td>\n",
              "      <td>510.000000</td>\n",
              "      <td>510.000000</td>\n",
              "      <td>510.000000</td>\n",
              "      <td>510.000000</td>\n",
              "      <td>510.000000</td>\n",
              "      <td>510.000000</td>\n",
              "    </tr>\n",
              "    <tr>\n",
              "      <th>mean</th>\n",
              "      <td>0.507843</td>\n",
              "      <td>0.025490</td>\n",
              "      <td>0.676471</td>\n",
              "      <td>0.537440</td>\n",
              "      <td>0.650480</td>\n",
              "      <td>0.320883</td>\n",
              "      <td>0.513499</td>\n",
              "      <td>0.243137</td>\n",
              "      <td>0.247059</td>\n",
              "      <td>0.247059</td>\n",
              "      <td>...</td>\n",
              "      <td>0.084314</td>\n",
              "      <td>0.086275</td>\n",
              "      <td>0.084314</td>\n",
              "      <td>0.080392</td>\n",
              "      <td>0.154902</td>\n",
              "      <td>0.133333</td>\n",
              "      <td>0.127451</td>\n",
              "      <td>0.131373</td>\n",
              "      <td>0.143137</td>\n",
              "      <td>0.150980</td>\n",
              "    </tr>\n",
              "    <tr>\n",
              "      <th>std</th>\n",
              "      <td>0.500429</td>\n",
              "      <td>0.157763</td>\n",
              "      <td>0.468282</td>\n",
              "      <td>0.225858</td>\n",
              "      <td>0.145846</td>\n",
              "      <td>0.169803</td>\n",
              "      <td>0.224421</td>\n",
              "      <td>0.429398</td>\n",
              "      <td>0.431725</td>\n",
              "      <td>0.431725</td>\n",
              "      <td>...</td>\n",
              "      <td>0.278131</td>\n",
              "      <td>0.281045</td>\n",
              "      <td>0.278131</td>\n",
              "      <td>0.272166</td>\n",
              "      <td>0.362166</td>\n",
              "      <td>0.340268</td>\n",
              "      <td>0.333805</td>\n",
              "      <td>0.338139</td>\n",
              "      <td>0.350557</td>\n",
              "      <td>0.358381</td>\n",
              "    </tr>\n",
              "    <tr>\n",
              "      <th>min</th>\n",
              "      <td>0.000000</td>\n",
              "      <td>0.000000</td>\n",
              "      <td>0.000000</td>\n",
              "      <td>0.000000</td>\n",
              "      <td>0.000000</td>\n",
              "      <td>0.000000</td>\n",
              "      <td>0.000000</td>\n",
              "      <td>0.000000</td>\n",
              "      <td>0.000000</td>\n",
              "      <td>0.000000</td>\n",
              "      <td>...</td>\n",
              "      <td>0.000000</td>\n",
              "      <td>0.000000</td>\n",
              "      <td>0.000000</td>\n",
              "      <td>0.000000</td>\n",
              "      <td>0.000000</td>\n",
              "      <td>0.000000</td>\n",
              "      <td>0.000000</td>\n",
              "      <td>0.000000</td>\n",
              "      <td>0.000000</td>\n",
              "      <td>0.000000</td>\n",
              "    </tr>\n",
              "    <tr>\n",
              "      <th>25%</th>\n",
              "      <td>0.000000</td>\n",
              "      <td>0.000000</td>\n",
              "      <td>0.000000</td>\n",
              "      <td>0.339853</td>\n",
              "      <td>0.538643</td>\n",
              "      <td>0.199179</td>\n",
              "      <td>0.356420</td>\n",
              "      <td>0.000000</td>\n",
              "      <td>0.000000</td>\n",
              "      <td>0.000000</td>\n",
              "      <td>...</td>\n",
              "      <td>0.000000</td>\n",
              "      <td>0.000000</td>\n",
              "      <td>0.000000</td>\n",
              "      <td>0.000000</td>\n",
              "      <td>0.000000</td>\n",
              "      <td>0.000000</td>\n",
              "      <td>0.000000</td>\n",
              "      <td>0.000000</td>\n",
              "      <td>0.000000</td>\n",
              "      <td>0.000000</td>\n",
              "    </tr>\n",
              "    <tr>\n",
              "      <th>50%</th>\n",
              "      <td>1.000000</td>\n",
              "      <td>0.000000</td>\n",
              "      <td>1.000000</td>\n",
              "      <td>0.542596</td>\n",
              "      <td>0.653714</td>\n",
              "      <td>0.296763</td>\n",
              "      <td>0.518638</td>\n",
              "      <td>0.000000</td>\n",
              "      <td>0.000000</td>\n",
              "      <td>0.000000</td>\n",
              "      <td>...</td>\n",
              "      <td>0.000000</td>\n",
              "      <td>0.000000</td>\n",
              "      <td>0.000000</td>\n",
              "      <td>0.000000</td>\n",
              "      <td>0.000000</td>\n",
              "      <td>0.000000</td>\n",
              "      <td>0.000000</td>\n",
              "      <td>0.000000</td>\n",
              "      <td>0.000000</td>\n",
              "      <td>0.000000</td>\n",
              "    </tr>\n",
              "    <tr>\n",
              "      <th>75%</th>\n",
              "      <td>1.000000</td>\n",
              "      <td>0.000000</td>\n",
              "      <td>1.000000</td>\n",
              "      <td>0.735215</td>\n",
              "      <td>0.754830</td>\n",
              "      <td>0.414447</td>\n",
              "      <td>0.684710</td>\n",
              "      <td>0.000000</td>\n",
              "      <td>0.000000</td>\n",
              "      <td>0.000000</td>\n",
              "      <td>...</td>\n",
              "      <td>0.000000</td>\n",
              "      <td>0.000000</td>\n",
              "      <td>0.000000</td>\n",
              "      <td>0.000000</td>\n",
              "      <td>0.000000</td>\n",
              "      <td>0.000000</td>\n",
              "      <td>0.000000</td>\n",
              "      <td>0.000000</td>\n",
              "      <td>0.000000</td>\n",
              "      <td>0.000000</td>\n",
              "    </tr>\n",
              "    <tr>\n",
              "      <th>max</th>\n",
              "      <td>1.000000</td>\n",
              "      <td>1.000000</td>\n",
              "      <td>1.000000</td>\n",
              "      <td>1.000000</td>\n",
              "      <td>1.000000</td>\n",
              "      <td>1.000000</td>\n",
              "      <td>1.000000</td>\n",
              "      <td>1.000000</td>\n",
              "      <td>1.000000</td>\n",
              "      <td>1.000000</td>\n",
              "      <td>...</td>\n",
              "      <td>1.000000</td>\n",
              "      <td>1.000000</td>\n",
              "      <td>1.000000</td>\n",
              "      <td>1.000000</td>\n",
              "      <td>1.000000</td>\n",
              "      <td>1.000000</td>\n",
              "      <td>1.000000</td>\n",
              "      <td>1.000000</td>\n",
              "      <td>1.000000</td>\n",
              "      <td>1.000000</td>\n",
              "    </tr>\n",
              "  </tbody>\n",
              "</table>\n",
              "<p>8 rows × 29 columns</p>\n",
              "</div>\n",
              "      <button class=\"colab-df-convert\" onclick=\"convertToInteractive('df-6f5a0952-e2dc-4637-bd7f-c9d8730e114e')\"\n",
              "              title=\"Convert this dataframe to an interactive table.\"\n",
              "              style=\"display:none;\">\n",
              "        \n",
              "  <svg xmlns=\"http://www.w3.org/2000/svg\" height=\"24px\"viewBox=\"0 0 24 24\"\n",
              "       width=\"24px\">\n",
              "    <path d=\"M0 0h24v24H0V0z\" fill=\"none\"/>\n",
              "    <path d=\"M18.56 5.44l.94 2.06.94-2.06 2.06-.94-2.06-.94-.94-2.06-.94 2.06-2.06.94zm-11 1L8.5 8.5l.94-2.06 2.06-.94-2.06-.94L8.5 2.5l-.94 2.06-2.06.94zm10 10l.94 2.06.94-2.06 2.06-.94-2.06-.94-.94-2.06-.94 2.06-2.06.94z\"/><path d=\"M17.41 7.96l-1.37-1.37c-.4-.4-.92-.59-1.43-.59-.52 0-1.04.2-1.43.59L10.3 9.45l-7.72 7.72c-.78.78-.78 2.05 0 2.83L4 21.41c.39.39.9.59 1.41.59.51 0 1.02-.2 1.41-.59l7.78-7.78 2.81-2.81c.8-.78.8-2.07 0-2.86zM5.41 20L4 18.59l7.72-7.72 1.47 1.35L5.41 20z\"/>\n",
              "  </svg>\n",
              "      </button>\n",
              "      \n",
              "  <style>\n",
              "    .colab-df-container {\n",
              "      display:flex;\n",
              "      flex-wrap:wrap;\n",
              "      gap: 12px;\n",
              "    }\n",
              "\n",
              "    .colab-df-convert {\n",
              "      background-color: #E8F0FE;\n",
              "      border: none;\n",
              "      border-radius: 50%;\n",
              "      cursor: pointer;\n",
              "      display: none;\n",
              "      fill: #1967D2;\n",
              "      height: 32px;\n",
              "      padding: 0 0 0 0;\n",
              "      width: 32px;\n",
              "    }\n",
              "\n",
              "    .colab-df-convert:hover {\n",
              "      background-color: #E2EBFA;\n",
              "      box-shadow: 0px 1px 2px rgba(60, 64, 67, 0.3), 0px 1px 3px 1px rgba(60, 64, 67, 0.15);\n",
              "      fill: #174EA6;\n",
              "    }\n",
              "\n",
              "    [theme=dark] .colab-df-convert {\n",
              "      background-color: #3B4455;\n",
              "      fill: #D2E3FC;\n",
              "    }\n",
              "\n",
              "    [theme=dark] .colab-df-convert:hover {\n",
              "      background-color: #434B5C;\n",
              "      box-shadow: 0px 1px 3px 1px rgba(0, 0, 0, 0.15);\n",
              "      filter: drop-shadow(0px 1px 2px rgba(0, 0, 0, 0.3));\n",
              "      fill: #FFFFFF;\n",
              "    }\n",
              "  </style>\n",
              "\n",
              "      <script>\n",
              "        const buttonEl =\n",
              "          document.querySelector('#df-6f5a0952-e2dc-4637-bd7f-c9d8730e114e button.colab-df-convert');\n",
              "        buttonEl.style.display =\n",
              "          google.colab.kernel.accessAllowed ? 'block' : 'none';\n",
              "\n",
              "        async function convertToInteractive(key) {\n",
              "          const element = document.querySelector('#df-6f5a0952-e2dc-4637-bd7f-c9d8730e114e');\n",
              "          const dataTable =\n",
              "            await google.colab.kernel.invokeFunction('convertToInteractive',\n",
              "                                                     [key], {});\n",
              "          if (!dataTable) return;\n",
              "\n",
              "          const docLinkHtml = 'Like what you see? Visit the ' +\n",
              "            '<a target=\"_blank\" href=https://colab.research.google.com/notebooks/data_table.ipynb>data table notebook</a>'\n",
              "            + ' to learn more about interactive tables.';\n",
              "          element.innerHTML = '';\n",
              "          dataTable['output_type'] = 'display_data';\n",
              "          await google.colab.output.renderOutput(dataTable, element);\n",
              "          const docLink = document.createElement('div');\n",
              "          docLink.innerHTML = docLinkHtml;\n",
              "          element.appendChild(docLink);\n",
              "        }\n",
              "      </script>\n",
              "    </div>\n",
              "  </div>\n",
              "  "
            ]
          },
          "metadata": {},
          "execution_count": 531
        }
      ]
    },
    {
      "cell_type": "markdown",
      "source": [
        "* The range of all variable values are between [0,1]. "
      ],
      "metadata": {
        "id": "T_tKnnP6ip07"
      }
    },
    {
      "cell_type": "markdown",
      "source": [
        "#### **Dividing dataset into X and y sets**"
      ],
      "metadata": {
        "id": "RzZlpP5ajcz6"
      }
    },
    {
      "cell_type": "code",
      "source": [
        "#pop() method will remove the column from dataframe & return it, used for separating dependent variable from independent variables\n",
        "y_train = df_train.pop('cnt')\n",
        "X_train = df_train"
      ],
      "metadata": {
        "id": "rptCGPhTjlaQ"
      },
      "execution_count": 532,
      "outputs": []
    },
    {
      "cell_type": "markdown",
      "source": [
        "* So data is now clean and prepped to build the model."
      ],
      "metadata": {
        "id": "HXoHXFjvj45O"
      }
    },
    {
      "cell_type": "markdown",
      "source": [
        "# **Step 5: Building the model**"
      ],
      "metadata": {
        "id": "zz2uWshvjA5t"
      }
    },
    {
      "cell_type": "code",
      "source": [
        "#import libraries\n",
        "from sklearn.feature_selection import RFE\n",
        "from sklearn.linear_model import LinearRegression"
      ],
      "metadata": {
        "id": "Rbu0tocqjF_X"
      },
      "execution_count": 533,
      "outputs": []
    },
    {
      "cell_type": "code",
      "source": [
        "#insantiating and fitting the model\n",
        "lm = LinearRegression()\n",
        "lm.fit(X_train, y_train)\n",
        "\n",
        "#running RFE on the model for feature selection\n",
        "rfe = RFE(lm,n_features_to_select=20)\n",
        "rfe = rfe.fit(X_train, y_train)"
      ],
      "metadata": {
        "id": "W-h9YL7DmBaH"
      },
      "execution_count": 534,
      "outputs": []
    },
    {
      "cell_type": "code",
      "source": [
        "list(zip(X_train.columns, rfe.support_, rfe.ranking_))"
      ],
      "metadata": {
        "colab": {
          "base_uri": "https://localhost:8080/"
        },
        "id": "ur6v6YPEoZfX",
        "outputId": "e8487404-4002-49b7-fcb2-49434c75a293"
      },
      "execution_count": 535,
      "outputs": [
        {
          "output_type": "execute_result",
          "data": {
            "text/plain": [
              "[('yr', True, 1),\n",
              " ('holiday', True, 1),\n",
              " ('workingday', True, 1),\n",
              " ('temp', True, 1),\n",
              " ('hum', True, 1),\n",
              " ('windspeed', True, 1),\n",
              " ('spring', True, 1),\n",
              " ('summer', True, 1),\n",
              " ('winter', True, 1),\n",
              " ('lightrain', True, 1),\n",
              " ('misty', True, 1),\n",
              " ('August', False, 2),\n",
              " ('December', True, 1),\n",
              " ('February', True, 1),\n",
              " ('January', True, 1),\n",
              " ('July', True, 1),\n",
              " ('June', False, 7),\n",
              " ('March', False, 9),\n",
              " ('May', True, 1),\n",
              " ('November', True, 1),\n",
              " ('October', False, 5),\n",
              " ('September', True, 1),\n",
              " ('Monday', True, 1),\n",
              " ('Saturday', False, 8),\n",
              " ('Sunday', False, 6),\n",
              " ('Thursday', False, 4),\n",
              " ('Tuesday', True, 1),\n",
              " ('Wednesday', False, 3)]"
            ]
          },
          "metadata": {},
          "execution_count": 535
        }
      ]
    },
    {
      "cell_type": "code",
      "source": [
        "col_1 = X_train.columns[rfe.support_]\n",
        "col_1"
      ],
      "metadata": {
        "colab": {
          "base_uri": "https://localhost:8080/"
        },
        "id": "nTBELv7ppavO",
        "outputId": "f1201563-3951-49c2-bfe3-b1349222d895"
      },
      "execution_count": 536,
      "outputs": [
        {
          "output_type": "execute_result",
          "data": {
            "text/plain": [
              "Index(['yr', 'holiday', 'workingday', 'temp', 'hum', 'windspeed', 'spring',\n",
              "       'summer', 'winter', 'lightrain', 'misty', 'December', 'February',\n",
              "       'January', 'July', 'May', 'November', 'September', 'Monday', 'Tuesday'],\n",
              "      dtype='object')"
            ]
          },
          "metadata": {},
          "execution_count": 536
        }
      ]
    },
    {
      "cell_type": "markdown",
      "source": [
        "\n",
        "* Now that have our first set of features selected, let's build our model using statsmodels to get insight of detailed statistical parameters"
      ],
      "metadata": {
        "id": "zwlnFJytpvXy"
      }
    },
    {
      "cell_type": "markdown",
      "source": [
        "#### **Using statsmodels to build the model**"
      ],
      "metadata": {
        "id": "NOZJWc2jp-LI"
      }
    },
    {
      "cell_type": "code",
      "source": [
        "#import libraries\n",
        "import statsmodels.api as sm"
      ],
      "metadata": {
        "id": "cjNKusYMqKdy"
      },
      "execution_count": 537,
      "outputs": []
    },
    {
      "cell_type": "code",
      "source": [
        "#let's create our first model using RFE selected 10 features with rank 1\n",
        "X_train_sm1 = sm.add_constant(X_train[col_1])\n",
        "\n",
        "#create the model\n",
        "lr_model1 = sm.OLS(y_train,X_train_sm1)\n",
        "\n",
        "#fit the model\n",
        "lr1 = lr_model1.fit()"
      ],
      "metadata": {
        "id": "z8k2wiYcqrKf"
      },
      "execution_count": 538,
      "outputs": []
    },
    {
      "cell_type": "code",
      "source": [
        "lr1.summary()"
      ],
      "metadata": {
        "colab": {
          "base_uri": "https://localhost:8080/",
          "height": 892
        },
        "id": "KQeMBxUmrbTk",
        "outputId": "4b17eba0-786f-4a7d-8076-8d71182b077d"
      },
      "execution_count": 539,
      "outputs": [
        {
          "output_type": "execute_result",
          "data": {
            "text/plain": [
              "<class 'statsmodels.iolib.summary.Summary'>\n",
              "\"\"\"\n",
              "                            OLS Regression Results                            \n",
              "==============================================================================\n",
              "Dep. Variable:                    cnt   R-squared:                       0.852\n",
              "Model:                            OLS   Adj. R-squared:                  0.846\n",
              "Method:                 Least Squares   F-statistic:                     148.0\n",
              "Date:                Wed, 14 Sep 2022   Prob (F-statistic):          5.20e-189\n",
              "Time:                        16:11:04   Log-Likelihood:                 525.39\n",
              "No. Observations:                 510   AIC:                            -1011.\n",
              "Df Residuals:                     490   BIC:                            -926.1\n",
              "Df Model:                          19                                         \n",
              "Covariance Type:            nonrobust                                         \n",
              "==============================================================================\n",
              "                 coef    std err          t      P>|t|      [0.025      0.975]\n",
              "------------------------------------------------------------------------------\n",
              "const          0.2475      0.030      8.194      0.000       0.188       0.307\n",
              "yr             0.2318      0.008     29.103      0.000       0.216       0.247\n",
              "holiday        0.0003      0.022      0.016      0.987      -0.042       0.043\n",
              "workingday     0.0936      0.010      9.443      0.000       0.074       0.113\n",
              "temp           0.4527      0.038     11.846      0.000       0.378       0.528\n",
              "hum           -0.1538      0.038     -4.094      0.000      -0.228      -0.080\n",
              "windspeed     -0.1873      0.025     -7.371      0.000      -0.237      -0.137\n",
              "spring        -0.0553      0.022     -2.528      0.012      -0.098      -0.012\n",
              "summer         0.0295      0.017      1.747      0.081      -0.004       0.063\n",
              "winter         0.1001      0.018      5.618      0.000       0.065       0.135\n",
              "lightrain     -0.2549      0.026     -9.773      0.000      -0.306      -0.204\n",
              "misty         -0.0583      0.010     -5.655      0.000      -0.079      -0.038\n",
              "December      -0.0488      0.018     -2.692      0.007      -0.084      -0.013\n",
              "February      -0.0348      0.021     -1.626      0.105      -0.077       0.007\n",
              "January       -0.0650      0.021     -3.067      0.002      -0.107      -0.023\n",
              "July          -0.0510      0.018     -2.844      0.005      -0.086      -0.016\n",
              "May            0.0229      0.017      1.325      0.186      -0.011       0.057\n",
              "November      -0.0461      0.019     -2.456      0.014      -0.083      -0.009\n",
              "September      0.0723      0.017      4.349      0.000       0.040       0.105\n",
              "Monday         0.1040      0.012      8.744      0.000       0.081       0.127\n",
              "Tuesday        0.0495      0.012      4.002      0.000       0.025       0.074\n",
              "==============================================================================\n",
              "Omnibus:                       82.971   Durbin-Watson:                   2.043\n",
              "Prob(Omnibus):                  0.000   Jarque-Bera (JB):              233.033\n",
              "Skew:                          -0.787   Prob(JB):                     2.50e-51\n",
              "Kurtosis:                       5.914   Cond. No.                     9.12e+15\n",
              "==============================================================================\n",
              "\n",
              "Notes:\n",
              "[1] Standard Errors assume that the covariance matrix of the errors is correctly specified.\n",
              "[2] The smallest eigenvalue is 1.84e-29. This might indicate that there are\n",
              "strong multicollinearity problems or that the design matrix is singular.\n",
              "\"\"\""
            ],
            "text/html": [
              "<table class=\"simpletable\">\n",
              "<caption>OLS Regression Results</caption>\n",
              "<tr>\n",
              "  <th>Dep. Variable:</th>           <td>cnt</td>       <th>  R-squared:         </th> <td>   0.852</td> \n",
              "</tr>\n",
              "<tr>\n",
              "  <th>Model:</th>                   <td>OLS</td>       <th>  Adj. R-squared:    </th> <td>   0.846</td> \n",
              "</tr>\n",
              "<tr>\n",
              "  <th>Method:</th>             <td>Least Squares</td>  <th>  F-statistic:       </th> <td>   148.0</td> \n",
              "</tr>\n",
              "<tr>\n",
              "  <th>Date:</th>             <td>Wed, 14 Sep 2022</td> <th>  Prob (F-statistic):</th> <td>5.20e-189</td>\n",
              "</tr>\n",
              "<tr>\n",
              "  <th>Time:</th>                 <td>16:11:04</td>     <th>  Log-Likelihood:    </th> <td>  525.39</td> \n",
              "</tr>\n",
              "<tr>\n",
              "  <th>No. Observations:</th>      <td>   510</td>      <th>  AIC:               </th> <td>  -1011.</td> \n",
              "</tr>\n",
              "<tr>\n",
              "  <th>Df Residuals:</th>          <td>   490</td>      <th>  BIC:               </th> <td>  -926.1</td> \n",
              "</tr>\n",
              "<tr>\n",
              "  <th>Df Model:</th>              <td>    19</td>      <th>                     </th>     <td> </td>    \n",
              "</tr>\n",
              "<tr>\n",
              "  <th>Covariance Type:</th>      <td>nonrobust</td>    <th>                     </th>     <td> </td>    \n",
              "</tr>\n",
              "</table>\n",
              "<table class=\"simpletable\">\n",
              "<tr>\n",
              "       <td></td>         <th>coef</th>     <th>std err</th>      <th>t</th>      <th>P>|t|</th>  <th>[0.025</th>    <th>0.975]</th>  \n",
              "</tr>\n",
              "<tr>\n",
              "  <th>const</th>      <td>    0.2475</td> <td>    0.030</td> <td>    8.194</td> <td> 0.000</td> <td>    0.188</td> <td>    0.307</td>\n",
              "</tr>\n",
              "<tr>\n",
              "  <th>yr</th>         <td>    0.2318</td> <td>    0.008</td> <td>   29.103</td> <td> 0.000</td> <td>    0.216</td> <td>    0.247</td>\n",
              "</tr>\n",
              "<tr>\n",
              "  <th>holiday</th>    <td>    0.0003</td> <td>    0.022</td> <td>    0.016</td> <td> 0.987</td> <td>   -0.042</td> <td>    0.043</td>\n",
              "</tr>\n",
              "<tr>\n",
              "  <th>workingday</th> <td>    0.0936</td> <td>    0.010</td> <td>    9.443</td> <td> 0.000</td> <td>    0.074</td> <td>    0.113</td>\n",
              "</tr>\n",
              "<tr>\n",
              "  <th>temp</th>       <td>    0.4527</td> <td>    0.038</td> <td>   11.846</td> <td> 0.000</td> <td>    0.378</td> <td>    0.528</td>\n",
              "</tr>\n",
              "<tr>\n",
              "  <th>hum</th>        <td>   -0.1538</td> <td>    0.038</td> <td>   -4.094</td> <td> 0.000</td> <td>   -0.228</td> <td>   -0.080</td>\n",
              "</tr>\n",
              "<tr>\n",
              "  <th>windspeed</th>  <td>   -0.1873</td> <td>    0.025</td> <td>   -7.371</td> <td> 0.000</td> <td>   -0.237</td> <td>   -0.137</td>\n",
              "</tr>\n",
              "<tr>\n",
              "  <th>spring</th>     <td>   -0.0553</td> <td>    0.022</td> <td>   -2.528</td> <td> 0.012</td> <td>   -0.098</td> <td>   -0.012</td>\n",
              "</tr>\n",
              "<tr>\n",
              "  <th>summer</th>     <td>    0.0295</td> <td>    0.017</td> <td>    1.747</td> <td> 0.081</td> <td>   -0.004</td> <td>    0.063</td>\n",
              "</tr>\n",
              "<tr>\n",
              "  <th>winter</th>     <td>    0.1001</td> <td>    0.018</td> <td>    5.618</td> <td> 0.000</td> <td>    0.065</td> <td>    0.135</td>\n",
              "</tr>\n",
              "<tr>\n",
              "  <th>lightrain</th>  <td>   -0.2549</td> <td>    0.026</td> <td>   -9.773</td> <td> 0.000</td> <td>   -0.306</td> <td>   -0.204</td>\n",
              "</tr>\n",
              "<tr>\n",
              "  <th>misty</th>      <td>   -0.0583</td> <td>    0.010</td> <td>   -5.655</td> <td> 0.000</td> <td>   -0.079</td> <td>   -0.038</td>\n",
              "</tr>\n",
              "<tr>\n",
              "  <th>December</th>   <td>   -0.0488</td> <td>    0.018</td> <td>   -2.692</td> <td> 0.007</td> <td>   -0.084</td> <td>   -0.013</td>\n",
              "</tr>\n",
              "<tr>\n",
              "  <th>February</th>   <td>   -0.0348</td> <td>    0.021</td> <td>   -1.626</td> <td> 0.105</td> <td>   -0.077</td> <td>    0.007</td>\n",
              "</tr>\n",
              "<tr>\n",
              "  <th>January</th>    <td>   -0.0650</td> <td>    0.021</td> <td>   -3.067</td> <td> 0.002</td> <td>   -0.107</td> <td>   -0.023</td>\n",
              "</tr>\n",
              "<tr>\n",
              "  <th>July</th>       <td>   -0.0510</td> <td>    0.018</td> <td>   -2.844</td> <td> 0.005</td> <td>   -0.086</td> <td>   -0.016</td>\n",
              "</tr>\n",
              "<tr>\n",
              "  <th>May</th>        <td>    0.0229</td> <td>    0.017</td> <td>    1.325</td> <td> 0.186</td> <td>   -0.011</td> <td>    0.057</td>\n",
              "</tr>\n",
              "<tr>\n",
              "  <th>November</th>   <td>   -0.0461</td> <td>    0.019</td> <td>   -2.456</td> <td> 0.014</td> <td>   -0.083</td> <td>   -0.009</td>\n",
              "</tr>\n",
              "<tr>\n",
              "  <th>September</th>  <td>    0.0723</td> <td>    0.017</td> <td>    4.349</td> <td> 0.000</td> <td>    0.040</td> <td>    0.105</td>\n",
              "</tr>\n",
              "<tr>\n",
              "  <th>Monday</th>     <td>    0.1040</td> <td>    0.012</td> <td>    8.744</td> <td> 0.000</td> <td>    0.081</td> <td>    0.127</td>\n",
              "</tr>\n",
              "<tr>\n",
              "  <th>Tuesday</th>    <td>    0.0495</td> <td>    0.012</td> <td>    4.002</td> <td> 0.000</td> <td>    0.025</td> <td>    0.074</td>\n",
              "</tr>\n",
              "</table>\n",
              "<table class=\"simpletable\">\n",
              "<tr>\n",
              "  <th>Omnibus:</th>       <td>82.971</td> <th>  Durbin-Watson:     </th> <td>   2.043</td>\n",
              "</tr>\n",
              "<tr>\n",
              "  <th>Prob(Omnibus):</th> <td> 0.000</td> <th>  Jarque-Bera (JB):  </th> <td> 233.033</td>\n",
              "</tr>\n",
              "<tr>\n",
              "  <th>Skew:</th>          <td>-0.787</td> <th>  Prob(JB):          </th> <td>2.50e-51</td>\n",
              "</tr>\n",
              "<tr>\n",
              "  <th>Kurtosis:</th>      <td> 5.914</td> <th>  Cond. No.          </th> <td>9.12e+15</td>\n",
              "</tr>\n",
              "</table><br/><br/>Notes:<br/>[1] Standard Errors assume that the covariance matrix of the errors is correctly specified.<br/>[2] The smallest eigenvalue is 1.84e-29. This might indicate that there are<br/>strong multicollinearity problems or that the design matrix is singular."
            ]
          },
          "metadata": {},
          "execution_count": 539
        }
      ]
    },
    {
      "cell_type": "markdown",
      "source": [
        "* p_value for holiday is 0.987 which is high, so let's drop this variable and rebuild the model\n",
        "\n",
        "* R_squared value is 0.852, which means the model is able to explain 85.2% variance in the training data."
      ],
      "metadata": {
        "id": "iyrYrdzJr9I-"
      }
    },
    {
      "cell_type": "code",
      "source": [
        "#dropping variable 'holiday'\n",
        "col_2 = X_train[col_1].drop(['holiday'],axis=1).columns\n",
        "X_train_sm2 = sm.add_constant(X_train[col_2])\n",
        "\n",
        "#create the model\n",
        "lr_model2 = sm.OLS(y_train,X_train_sm2)\n",
        "\n",
        "#fit the model\n",
        "lr2 = lr_model2.fit()"
      ],
      "metadata": {
        "id": "G1AGqubLsn74"
      },
      "execution_count": 540,
      "outputs": []
    },
    {
      "cell_type": "code",
      "source": [
        "lr2.summary()"
      ],
      "metadata": {
        "colab": {
          "base_uri": "https://localhost:8080/",
          "height": 836
        },
        "id": "KOq8KpwttxiP",
        "outputId": "85631c6a-7c94-4208-d350-63a8aa287e66"
      },
      "execution_count": 541,
      "outputs": [
        {
          "output_type": "execute_result",
          "data": {
            "text/plain": [
              "<class 'statsmodels.iolib.summary.Summary'>\n",
              "\"\"\"\n",
              "                            OLS Regression Results                            \n",
              "==============================================================================\n",
              "Dep. Variable:                    cnt   R-squared:                       0.852\n",
              "Model:                            OLS   Adj. R-squared:                  0.846\n",
              "Method:                 Least Squares   F-statistic:                     148.0\n",
              "Date:                Wed, 14 Sep 2022   Prob (F-statistic):          5.20e-189\n",
              "Time:                        16:11:05   Log-Likelihood:                 525.39\n",
              "No. Observations:                 510   AIC:                            -1011.\n",
              "Df Residuals:                     490   BIC:                            -926.1\n",
              "Df Model:                          19                                         \n",
              "Covariance Type:            nonrobust                                         \n",
              "==============================================================================\n",
              "                 coef    std err          t      P>|t|      [0.025      0.975]\n",
              "------------------------------------------------------------------------------\n",
              "const          0.2478      0.045      5.472      0.000       0.159       0.337\n",
              "yr             0.2318      0.008     29.103      0.000       0.216       0.247\n",
              "workingday     0.0933      0.025      3.679      0.000       0.043       0.143\n",
              "temp           0.4527      0.038     11.846      0.000       0.378       0.528\n",
              "hum           -0.1538      0.038     -4.094      0.000      -0.228      -0.080\n",
              "windspeed     -0.1873      0.025     -7.371      0.000      -0.237      -0.137\n",
              "spring        -0.0553      0.022     -2.528      0.012      -0.098      -0.012\n",
              "summer         0.0295      0.017      1.747      0.081      -0.004       0.063\n",
              "winter         0.1001      0.018      5.618      0.000       0.065       0.135\n",
              "lightrain     -0.2549      0.026     -9.773      0.000      -0.306      -0.204\n",
              "misty         -0.0583      0.010     -5.655      0.000      -0.079      -0.038\n",
              "December      -0.0488      0.018     -2.692      0.007      -0.084      -0.013\n",
              "February      -0.0348      0.021     -1.626      0.105      -0.077       0.007\n",
              "January       -0.0650      0.021     -3.067      0.002      -0.107      -0.023\n",
              "July          -0.0510      0.018     -2.844      0.005      -0.086      -0.016\n",
              "May            0.0229      0.017      1.325      0.186      -0.011       0.057\n",
              "November      -0.0461      0.019     -2.456      0.014      -0.083      -0.009\n",
              "September      0.0723      0.017      4.349      0.000       0.040       0.105\n",
              "Monday         0.1036      0.027      3.864      0.000       0.051       0.156\n",
              "Tuesday        0.0492      0.027      1.827      0.068      -0.004       0.102\n",
              "==============================================================================\n",
              "Omnibus:                       82.971   Durbin-Watson:                   2.043\n",
              "Prob(Omnibus):                  0.000   Jarque-Bera (JB):              233.033\n",
              "Skew:                          -0.787   Prob(JB):                     2.50e-51\n",
              "Kurtosis:                       5.914   Cond. No.                         27.5\n",
              "==============================================================================\n",
              "\n",
              "Notes:\n",
              "[1] Standard Errors assume that the covariance matrix of the errors is correctly specified.\n",
              "\"\"\""
            ],
            "text/html": [
              "<table class=\"simpletable\">\n",
              "<caption>OLS Regression Results</caption>\n",
              "<tr>\n",
              "  <th>Dep. Variable:</th>           <td>cnt</td>       <th>  R-squared:         </th> <td>   0.852</td> \n",
              "</tr>\n",
              "<tr>\n",
              "  <th>Model:</th>                   <td>OLS</td>       <th>  Adj. R-squared:    </th> <td>   0.846</td> \n",
              "</tr>\n",
              "<tr>\n",
              "  <th>Method:</th>             <td>Least Squares</td>  <th>  F-statistic:       </th> <td>   148.0</td> \n",
              "</tr>\n",
              "<tr>\n",
              "  <th>Date:</th>             <td>Wed, 14 Sep 2022</td> <th>  Prob (F-statistic):</th> <td>5.20e-189</td>\n",
              "</tr>\n",
              "<tr>\n",
              "  <th>Time:</th>                 <td>16:11:05</td>     <th>  Log-Likelihood:    </th> <td>  525.39</td> \n",
              "</tr>\n",
              "<tr>\n",
              "  <th>No. Observations:</th>      <td>   510</td>      <th>  AIC:               </th> <td>  -1011.</td> \n",
              "</tr>\n",
              "<tr>\n",
              "  <th>Df Residuals:</th>          <td>   490</td>      <th>  BIC:               </th> <td>  -926.1</td> \n",
              "</tr>\n",
              "<tr>\n",
              "  <th>Df Model:</th>              <td>    19</td>      <th>                     </th>     <td> </td>    \n",
              "</tr>\n",
              "<tr>\n",
              "  <th>Covariance Type:</th>      <td>nonrobust</td>    <th>                     </th>     <td> </td>    \n",
              "</tr>\n",
              "</table>\n",
              "<table class=\"simpletable\">\n",
              "<tr>\n",
              "       <td></td>         <th>coef</th>     <th>std err</th>      <th>t</th>      <th>P>|t|</th>  <th>[0.025</th>    <th>0.975]</th>  \n",
              "</tr>\n",
              "<tr>\n",
              "  <th>const</th>      <td>    0.2478</td> <td>    0.045</td> <td>    5.472</td> <td> 0.000</td> <td>    0.159</td> <td>    0.337</td>\n",
              "</tr>\n",
              "<tr>\n",
              "  <th>yr</th>         <td>    0.2318</td> <td>    0.008</td> <td>   29.103</td> <td> 0.000</td> <td>    0.216</td> <td>    0.247</td>\n",
              "</tr>\n",
              "<tr>\n",
              "  <th>workingday</th> <td>    0.0933</td> <td>    0.025</td> <td>    3.679</td> <td> 0.000</td> <td>    0.043</td> <td>    0.143</td>\n",
              "</tr>\n",
              "<tr>\n",
              "  <th>temp</th>       <td>    0.4527</td> <td>    0.038</td> <td>   11.846</td> <td> 0.000</td> <td>    0.378</td> <td>    0.528</td>\n",
              "</tr>\n",
              "<tr>\n",
              "  <th>hum</th>        <td>   -0.1538</td> <td>    0.038</td> <td>   -4.094</td> <td> 0.000</td> <td>   -0.228</td> <td>   -0.080</td>\n",
              "</tr>\n",
              "<tr>\n",
              "  <th>windspeed</th>  <td>   -0.1873</td> <td>    0.025</td> <td>   -7.371</td> <td> 0.000</td> <td>   -0.237</td> <td>   -0.137</td>\n",
              "</tr>\n",
              "<tr>\n",
              "  <th>spring</th>     <td>   -0.0553</td> <td>    0.022</td> <td>   -2.528</td> <td> 0.012</td> <td>   -0.098</td> <td>   -0.012</td>\n",
              "</tr>\n",
              "<tr>\n",
              "  <th>summer</th>     <td>    0.0295</td> <td>    0.017</td> <td>    1.747</td> <td> 0.081</td> <td>   -0.004</td> <td>    0.063</td>\n",
              "</tr>\n",
              "<tr>\n",
              "  <th>winter</th>     <td>    0.1001</td> <td>    0.018</td> <td>    5.618</td> <td> 0.000</td> <td>    0.065</td> <td>    0.135</td>\n",
              "</tr>\n",
              "<tr>\n",
              "  <th>lightrain</th>  <td>   -0.2549</td> <td>    0.026</td> <td>   -9.773</td> <td> 0.000</td> <td>   -0.306</td> <td>   -0.204</td>\n",
              "</tr>\n",
              "<tr>\n",
              "  <th>misty</th>      <td>   -0.0583</td> <td>    0.010</td> <td>   -5.655</td> <td> 0.000</td> <td>   -0.079</td> <td>   -0.038</td>\n",
              "</tr>\n",
              "<tr>\n",
              "  <th>December</th>   <td>   -0.0488</td> <td>    0.018</td> <td>   -2.692</td> <td> 0.007</td> <td>   -0.084</td> <td>   -0.013</td>\n",
              "</tr>\n",
              "<tr>\n",
              "  <th>February</th>   <td>   -0.0348</td> <td>    0.021</td> <td>   -1.626</td> <td> 0.105</td> <td>   -0.077</td> <td>    0.007</td>\n",
              "</tr>\n",
              "<tr>\n",
              "  <th>January</th>    <td>   -0.0650</td> <td>    0.021</td> <td>   -3.067</td> <td> 0.002</td> <td>   -0.107</td> <td>   -0.023</td>\n",
              "</tr>\n",
              "<tr>\n",
              "  <th>July</th>       <td>   -0.0510</td> <td>    0.018</td> <td>   -2.844</td> <td> 0.005</td> <td>   -0.086</td> <td>   -0.016</td>\n",
              "</tr>\n",
              "<tr>\n",
              "  <th>May</th>        <td>    0.0229</td> <td>    0.017</td> <td>    1.325</td> <td> 0.186</td> <td>   -0.011</td> <td>    0.057</td>\n",
              "</tr>\n",
              "<tr>\n",
              "  <th>November</th>   <td>   -0.0461</td> <td>    0.019</td> <td>   -2.456</td> <td> 0.014</td> <td>   -0.083</td> <td>   -0.009</td>\n",
              "</tr>\n",
              "<tr>\n",
              "  <th>September</th>  <td>    0.0723</td> <td>    0.017</td> <td>    4.349</td> <td> 0.000</td> <td>    0.040</td> <td>    0.105</td>\n",
              "</tr>\n",
              "<tr>\n",
              "  <th>Monday</th>     <td>    0.1036</td> <td>    0.027</td> <td>    3.864</td> <td> 0.000</td> <td>    0.051</td> <td>    0.156</td>\n",
              "</tr>\n",
              "<tr>\n",
              "  <th>Tuesday</th>    <td>    0.0492</td> <td>    0.027</td> <td>    1.827</td> <td> 0.068</td> <td>   -0.004</td> <td>    0.102</td>\n",
              "</tr>\n",
              "</table>\n",
              "<table class=\"simpletable\">\n",
              "<tr>\n",
              "  <th>Omnibus:</th>       <td>82.971</td> <th>  Durbin-Watson:     </th> <td>   2.043</td>\n",
              "</tr>\n",
              "<tr>\n",
              "  <th>Prob(Omnibus):</th> <td> 0.000</td> <th>  Jarque-Bera (JB):  </th> <td> 233.033</td>\n",
              "</tr>\n",
              "<tr>\n",
              "  <th>Skew:</th>          <td>-0.787</td> <th>  Prob(JB):          </th> <td>2.50e-51</td>\n",
              "</tr>\n",
              "<tr>\n",
              "  <th>Kurtosis:</th>      <td> 5.914</td> <th>  Cond. No.          </th> <td>    27.5</td>\n",
              "</tr>\n",
              "</table><br/><br/>Notes:<br/>[1] Standard Errors assume that the covariance matrix of the errors is correctly specified."
            ]
          },
          "metadata": {},
          "execution_count": 541
        }
      ]
    },
    {
      "cell_type": "markdown",
      "source": [
        "* p_value of May variable is 0.186 which is higher than the standard 0.05, so let's drop this variable too and rebuild the model.\n",
        "\n",
        "* R_squared value is intact, 0.852.\n"
      ],
      "metadata": {
        "id": "SYgYh0pduAd2"
      }
    },
    {
      "cell_type": "code",
      "source": [
        "#dropping variable 'May'\n",
        "col_3 = X_train[col_2].drop(['May'],axis=1).columns\n",
        "X_train_sm3 = sm.add_constant(X_train[col_3])\n",
        "\n",
        "#create the model\n",
        "lr_model3 = sm.OLS(y_train,X_train_sm3)\n",
        "\n",
        "#fit the model\n",
        "lr3 = lr_model3.fit()"
      ],
      "metadata": {
        "id": "X91knPeKuoLI"
      },
      "execution_count": 542,
      "outputs": []
    },
    {
      "cell_type": "code",
      "source": [
        "lr3.summary()"
      ],
      "metadata": {
        "colab": {
          "base_uri": "https://localhost:8080/",
          "height": 814
        },
        "id": "eME6MbFfu9hs",
        "outputId": "4adeaffc-98c0-4950-c726-00b393c95b9d"
      },
      "execution_count": 543,
      "outputs": [
        {
          "output_type": "execute_result",
          "data": {
            "text/plain": [
              "<class 'statsmodels.iolib.summary.Summary'>\n",
              "\"\"\"\n",
              "                            OLS Regression Results                            \n",
              "==============================================================================\n",
              "Dep. Variable:                    cnt   R-squared:                       0.851\n",
              "Model:                            OLS   Adj. R-squared:                  0.846\n",
              "Method:                 Least Squares   F-statistic:                     155.9\n",
              "Date:                Wed, 14 Sep 2022   Prob (F-statistic):          9.80e-190\n",
              "Time:                        16:11:05   Log-Likelihood:                 524.48\n",
              "No. Observations:                 510   AIC:                            -1011.\n",
              "Df Residuals:                     491   BIC:                            -930.5\n",
              "Df Model:                          18                                         \n",
              "Covariance Type:            nonrobust                                         \n",
              "==============================================================================\n",
              "                 coef    std err          t      P>|t|      [0.025      0.975]\n",
              "------------------------------------------------------------------------------\n",
              "const          0.2368      0.045      5.315      0.000       0.149       0.324\n",
              "yr             0.2312      0.008     29.052      0.000       0.216       0.247\n",
              "workingday     0.0942      0.025      3.713      0.000       0.044       0.144\n",
              "temp           0.4616      0.038     12.262      0.000       0.388       0.536\n",
              "hum           -0.1477      0.037     -3.958      0.000      -0.221      -0.074\n",
              "windspeed     -0.1889      0.025     -7.441      0.000      -0.239      -0.139\n",
              "spring        -0.0515      0.022     -2.373      0.018      -0.094      -0.009\n",
              "summer         0.0393      0.015      2.586      0.010       0.009       0.069\n",
              "winter         0.1021      0.018      5.752      0.000       0.067       0.137\n",
              "lightrain     -0.2567      0.026     -9.849      0.000      -0.308      -0.206\n",
              "misty         -0.0585      0.010     -5.668      0.000      -0.079      -0.038\n",
              "December      -0.0474      0.018     -2.619      0.009      -0.083      -0.012\n",
              "February      -0.0334      0.021     -1.562      0.119      -0.075       0.009\n",
              "January       -0.0634      0.021     -2.991      0.003      -0.105      -0.022\n",
              "July          -0.0515      0.018     -2.868      0.004      -0.087      -0.016\n",
              "November      -0.0444      0.019     -2.371      0.018      -0.081      -0.008\n",
              "September      0.0723      0.017      4.346      0.000       0.040       0.105\n",
              "Monday         0.1040      0.027      3.875      0.000       0.051       0.157\n",
              "Tuesday        0.0500      0.027      1.855      0.064      -0.003       0.103\n",
              "==============================================================================\n",
              "Omnibus:                       80.597   Durbin-Watson:                   2.050\n",
              "Prob(Omnibus):                  0.000   Jarque-Bera (JB):              213.714\n",
              "Skew:                          -0.784   Prob(JB):                     3.91e-47\n",
              "Kurtosis:                       5.757   Cond. No.                         27.0\n",
              "==============================================================================\n",
              "\n",
              "Notes:\n",
              "[1] Standard Errors assume that the covariance matrix of the errors is correctly specified.\n",
              "\"\"\""
            ],
            "text/html": [
              "<table class=\"simpletable\">\n",
              "<caption>OLS Regression Results</caption>\n",
              "<tr>\n",
              "  <th>Dep. Variable:</th>           <td>cnt</td>       <th>  R-squared:         </th> <td>   0.851</td> \n",
              "</tr>\n",
              "<tr>\n",
              "  <th>Model:</th>                   <td>OLS</td>       <th>  Adj. R-squared:    </th> <td>   0.846</td> \n",
              "</tr>\n",
              "<tr>\n",
              "  <th>Method:</th>             <td>Least Squares</td>  <th>  F-statistic:       </th> <td>   155.9</td> \n",
              "</tr>\n",
              "<tr>\n",
              "  <th>Date:</th>             <td>Wed, 14 Sep 2022</td> <th>  Prob (F-statistic):</th> <td>9.80e-190</td>\n",
              "</tr>\n",
              "<tr>\n",
              "  <th>Time:</th>                 <td>16:11:05</td>     <th>  Log-Likelihood:    </th> <td>  524.48</td> \n",
              "</tr>\n",
              "<tr>\n",
              "  <th>No. Observations:</th>      <td>   510</td>      <th>  AIC:               </th> <td>  -1011.</td> \n",
              "</tr>\n",
              "<tr>\n",
              "  <th>Df Residuals:</th>          <td>   491</td>      <th>  BIC:               </th> <td>  -930.5</td> \n",
              "</tr>\n",
              "<tr>\n",
              "  <th>Df Model:</th>              <td>    18</td>      <th>                     </th>     <td> </td>    \n",
              "</tr>\n",
              "<tr>\n",
              "  <th>Covariance Type:</th>      <td>nonrobust</td>    <th>                     </th>     <td> </td>    \n",
              "</tr>\n",
              "</table>\n",
              "<table class=\"simpletable\">\n",
              "<tr>\n",
              "       <td></td>         <th>coef</th>     <th>std err</th>      <th>t</th>      <th>P>|t|</th>  <th>[0.025</th>    <th>0.975]</th>  \n",
              "</tr>\n",
              "<tr>\n",
              "  <th>const</th>      <td>    0.2368</td> <td>    0.045</td> <td>    5.315</td> <td> 0.000</td> <td>    0.149</td> <td>    0.324</td>\n",
              "</tr>\n",
              "<tr>\n",
              "  <th>yr</th>         <td>    0.2312</td> <td>    0.008</td> <td>   29.052</td> <td> 0.000</td> <td>    0.216</td> <td>    0.247</td>\n",
              "</tr>\n",
              "<tr>\n",
              "  <th>workingday</th> <td>    0.0942</td> <td>    0.025</td> <td>    3.713</td> <td> 0.000</td> <td>    0.044</td> <td>    0.144</td>\n",
              "</tr>\n",
              "<tr>\n",
              "  <th>temp</th>       <td>    0.4616</td> <td>    0.038</td> <td>   12.262</td> <td> 0.000</td> <td>    0.388</td> <td>    0.536</td>\n",
              "</tr>\n",
              "<tr>\n",
              "  <th>hum</th>        <td>   -0.1477</td> <td>    0.037</td> <td>   -3.958</td> <td> 0.000</td> <td>   -0.221</td> <td>   -0.074</td>\n",
              "</tr>\n",
              "<tr>\n",
              "  <th>windspeed</th>  <td>   -0.1889</td> <td>    0.025</td> <td>   -7.441</td> <td> 0.000</td> <td>   -0.239</td> <td>   -0.139</td>\n",
              "</tr>\n",
              "<tr>\n",
              "  <th>spring</th>     <td>   -0.0515</td> <td>    0.022</td> <td>   -2.373</td> <td> 0.018</td> <td>   -0.094</td> <td>   -0.009</td>\n",
              "</tr>\n",
              "<tr>\n",
              "  <th>summer</th>     <td>    0.0393</td> <td>    0.015</td> <td>    2.586</td> <td> 0.010</td> <td>    0.009</td> <td>    0.069</td>\n",
              "</tr>\n",
              "<tr>\n",
              "  <th>winter</th>     <td>    0.1021</td> <td>    0.018</td> <td>    5.752</td> <td> 0.000</td> <td>    0.067</td> <td>    0.137</td>\n",
              "</tr>\n",
              "<tr>\n",
              "  <th>lightrain</th>  <td>   -0.2567</td> <td>    0.026</td> <td>   -9.849</td> <td> 0.000</td> <td>   -0.308</td> <td>   -0.206</td>\n",
              "</tr>\n",
              "<tr>\n",
              "  <th>misty</th>      <td>   -0.0585</td> <td>    0.010</td> <td>   -5.668</td> <td> 0.000</td> <td>   -0.079</td> <td>   -0.038</td>\n",
              "</tr>\n",
              "<tr>\n",
              "  <th>December</th>   <td>   -0.0474</td> <td>    0.018</td> <td>   -2.619</td> <td> 0.009</td> <td>   -0.083</td> <td>   -0.012</td>\n",
              "</tr>\n",
              "<tr>\n",
              "  <th>February</th>   <td>   -0.0334</td> <td>    0.021</td> <td>   -1.562</td> <td> 0.119</td> <td>   -0.075</td> <td>    0.009</td>\n",
              "</tr>\n",
              "<tr>\n",
              "  <th>January</th>    <td>   -0.0634</td> <td>    0.021</td> <td>   -2.991</td> <td> 0.003</td> <td>   -0.105</td> <td>   -0.022</td>\n",
              "</tr>\n",
              "<tr>\n",
              "  <th>July</th>       <td>   -0.0515</td> <td>    0.018</td> <td>   -2.868</td> <td> 0.004</td> <td>   -0.087</td> <td>   -0.016</td>\n",
              "</tr>\n",
              "<tr>\n",
              "  <th>November</th>   <td>   -0.0444</td> <td>    0.019</td> <td>   -2.371</td> <td> 0.018</td> <td>   -0.081</td> <td>   -0.008</td>\n",
              "</tr>\n",
              "<tr>\n",
              "  <th>September</th>  <td>    0.0723</td> <td>    0.017</td> <td>    4.346</td> <td> 0.000</td> <td>    0.040</td> <td>    0.105</td>\n",
              "</tr>\n",
              "<tr>\n",
              "  <th>Monday</th>     <td>    0.1040</td> <td>    0.027</td> <td>    3.875</td> <td> 0.000</td> <td>    0.051</td> <td>    0.157</td>\n",
              "</tr>\n",
              "<tr>\n",
              "  <th>Tuesday</th>    <td>    0.0500</td> <td>    0.027</td> <td>    1.855</td> <td> 0.064</td> <td>   -0.003</td> <td>    0.103</td>\n",
              "</tr>\n",
              "</table>\n",
              "<table class=\"simpletable\">\n",
              "<tr>\n",
              "  <th>Omnibus:</th>       <td>80.597</td> <th>  Durbin-Watson:     </th> <td>   2.050</td>\n",
              "</tr>\n",
              "<tr>\n",
              "  <th>Prob(Omnibus):</th> <td> 0.000</td> <th>  Jarque-Bera (JB):  </th> <td> 213.714</td>\n",
              "</tr>\n",
              "<tr>\n",
              "  <th>Skew:</th>          <td>-0.784</td> <th>  Prob(JB):          </th> <td>3.91e-47</td>\n",
              "</tr>\n",
              "<tr>\n",
              "  <th>Kurtosis:</th>      <td> 5.757</td> <th>  Cond. No.          </th> <td>    27.0</td>\n",
              "</tr>\n",
              "</table><br/><br/>Notes:<br/>[1] Standard Errors assume that the covariance matrix of the errors is correctly specified."
            ]
          },
          "metadata": {},
          "execution_count": 543
        }
      ]
    },
    {
      "cell_type": "markdown",
      "source": [
        "* p_value of February variable is 0.119, so let's this variable as well."
      ],
      "metadata": {
        "id": "-eyYXMhlvE25"
      }
    },
    {
      "cell_type": "code",
      "source": [
        "#dropping variable 'February'\n",
        "col_4 = X_train[col_3].drop(['February'],axis=1).columns\n",
        "X_train_sm4 = sm.add_constant(X_train[col_4])\n",
        "\n",
        "#create the model\n",
        "lr_model4= sm.OLS(y_train,X_train_sm4)\n",
        "\n",
        "#fit the model\n",
        "lr4 = lr_model4.fit()"
      ],
      "metadata": {
        "id": "fdibhtBbuL9p"
      },
      "execution_count": 544,
      "outputs": []
    },
    {
      "cell_type": "code",
      "source": [
        "lr4.summary()"
      ],
      "metadata": {
        "colab": {
          "base_uri": "https://localhost:8080/",
          "height": 793
        },
        "id": "HSQorJhQuVVH",
        "outputId": "3f4276d6-6286-437c-ece9-b9676a199e7c"
      },
      "execution_count": 545,
      "outputs": [
        {
          "output_type": "execute_result",
          "data": {
            "text/plain": [
              "<class 'statsmodels.iolib.summary.Summary'>\n",
              "\"\"\"\n",
              "                            OLS Regression Results                            \n",
              "==============================================================================\n",
              "Dep. Variable:                    cnt   R-squared:                       0.850\n",
              "Model:                            OLS   Adj. R-squared:                  0.845\n",
              "Method:                 Least Squares   F-statistic:                     164.4\n",
              "Date:                Wed, 14 Sep 2022   Prob (F-statistic):          2.52e-190\n",
              "Time:                        16:11:05   Log-Likelihood:                 523.22\n",
              "No. Observations:                 510   AIC:                            -1010.\n",
              "Df Residuals:                     492   BIC:                            -934.2\n",
              "Df Model:                          17                                         \n",
              "Covariance Type:            nonrobust                                         \n",
              "==============================================================================\n",
              "                 coef    std err          t      P>|t|      [0.025      0.975]\n",
              "------------------------------------------------------------------------------\n",
              "const          0.2235      0.044      5.103      0.000       0.137       0.310\n",
              "yr             0.2309      0.008     28.978      0.000       0.215       0.247\n",
              "workingday     0.0964      0.025      3.801      0.000       0.047       0.146\n",
              "temp           0.4764      0.036     13.064      0.000       0.405       0.548\n",
              "hum           -0.1494      0.037     -4.001      0.000      -0.223      -0.076\n",
              "windspeed     -0.1879      0.025     -7.390      0.000      -0.238      -0.138\n",
              "spring        -0.0607      0.021     -2.899      0.004      -0.102      -0.020\n",
              "summer         0.0424      0.015      2.809      0.005       0.013       0.072\n",
              "winter         0.1038      0.018      5.845      0.000       0.069       0.139\n",
              "lightrain     -0.2555      0.026     -9.791      0.000      -0.307      -0.204\n",
              "misty         -0.0583      0.010     -5.637      0.000      -0.079      -0.038\n",
              "December      -0.0388      0.017     -2.248      0.025      -0.073      -0.005\n",
              "January       -0.0455      0.018     -2.548      0.011      -0.081      -0.010\n",
              "July          -0.0524      0.018     -2.916      0.004      -0.088      -0.017\n",
              "November      -0.0399      0.019     -2.152      0.032      -0.076      -0.003\n",
              "September      0.0737      0.017      4.430      0.000       0.041       0.106\n",
              "Monday         0.1068      0.027      3.984      0.000       0.054       0.160\n",
              "Tuesday        0.0520      0.027      1.931      0.054      -0.001       0.105\n",
              "==============================================================================\n",
              "Omnibus:                       76.194   Durbin-Watson:                   2.051\n",
              "Prob(Omnibus):                  0.000   Jarque-Bera (JB):              200.529\n",
              "Skew:                          -0.745   Prob(JB):                     2.85e-44\n",
              "Kurtosis:                       5.687   Cond. No.                         26.4\n",
              "==============================================================================\n",
              "\n",
              "Notes:\n",
              "[1] Standard Errors assume that the covariance matrix of the errors is correctly specified.\n",
              "\"\"\""
            ],
            "text/html": [
              "<table class=\"simpletable\">\n",
              "<caption>OLS Regression Results</caption>\n",
              "<tr>\n",
              "  <th>Dep. Variable:</th>           <td>cnt</td>       <th>  R-squared:         </th> <td>   0.850</td> \n",
              "</tr>\n",
              "<tr>\n",
              "  <th>Model:</th>                   <td>OLS</td>       <th>  Adj. R-squared:    </th> <td>   0.845</td> \n",
              "</tr>\n",
              "<tr>\n",
              "  <th>Method:</th>             <td>Least Squares</td>  <th>  F-statistic:       </th> <td>   164.4</td> \n",
              "</tr>\n",
              "<tr>\n",
              "  <th>Date:</th>             <td>Wed, 14 Sep 2022</td> <th>  Prob (F-statistic):</th> <td>2.52e-190</td>\n",
              "</tr>\n",
              "<tr>\n",
              "  <th>Time:</th>                 <td>16:11:05</td>     <th>  Log-Likelihood:    </th> <td>  523.22</td> \n",
              "</tr>\n",
              "<tr>\n",
              "  <th>No. Observations:</th>      <td>   510</td>      <th>  AIC:               </th> <td>  -1010.</td> \n",
              "</tr>\n",
              "<tr>\n",
              "  <th>Df Residuals:</th>          <td>   492</td>      <th>  BIC:               </th> <td>  -934.2</td> \n",
              "</tr>\n",
              "<tr>\n",
              "  <th>Df Model:</th>              <td>    17</td>      <th>                     </th>     <td> </td>    \n",
              "</tr>\n",
              "<tr>\n",
              "  <th>Covariance Type:</th>      <td>nonrobust</td>    <th>                     </th>     <td> </td>    \n",
              "</tr>\n",
              "</table>\n",
              "<table class=\"simpletable\">\n",
              "<tr>\n",
              "       <td></td>         <th>coef</th>     <th>std err</th>      <th>t</th>      <th>P>|t|</th>  <th>[0.025</th>    <th>0.975]</th>  \n",
              "</tr>\n",
              "<tr>\n",
              "  <th>const</th>      <td>    0.2235</td> <td>    0.044</td> <td>    5.103</td> <td> 0.000</td> <td>    0.137</td> <td>    0.310</td>\n",
              "</tr>\n",
              "<tr>\n",
              "  <th>yr</th>         <td>    0.2309</td> <td>    0.008</td> <td>   28.978</td> <td> 0.000</td> <td>    0.215</td> <td>    0.247</td>\n",
              "</tr>\n",
              "<tr>\n",
              "  <th>workingday</th> <td>    0.0964</td> <td>    0.025</td> <td>    3.801</td> <td> 0.000</td> <td>    0.047</td> <td>    0.146</td>\n",
              "</tr>\n",
              "<tr>\n",
              "  <th>temp</th>       <td>    0.4764</td> <td>    0.036</td> <td>   13.064</td> <td> 0.000</td> <td>    0.405</td> <td>    0.548</td>\n",
              "</tr>\n",
              "<tr>\n",
              "  <th>hum</th>        <td>   -0.1494</td> <td>    0.037</td> <td>   -4.001</td> <td> 0.000</td> <td>   -0.223</td> <td>   -0.076</td>\n",
              "</tr>\n",
              "<tr>\n",
              "  <th>windspeed</th>  <td>   -0.1879</td> <td>    0.025</td> <td>   -7.390</td> <td> 0.000</td> <td>   -0.238</td> <td>   -0.138</td>\n",
              "</tr>\n",
              "<tr>\n",
              "  <th>spring</th>     <td>   -0.0607</td> <td>    0.021</td> <td>   -2.899</td> <td> 0.004</td> <td>   -0.102</td> <td>   -0.020</td>\n",
              "</tr>\n",
              "<tr>\n",
              "  <th>summer</th>     <td>    0.0424</td> <td>    0.015</td> <td>    2.809</td> <td> 0.005</td> <td>    0.013</td> <td>    0.072</td>\n",
              "</tr>\n",
              "<tr>\n",
              "  <th>winter</th>     <td>    0.1038</td> <td>    0.018</td> <td>    5.845</td> <td> 0.000</td> <td>    0.069</td> <td>    0.139</td>\n",
              "</tr>\n",
              "<tr>\n",
              "  <th>lightrain</th>  <td>   -0.2555</td> <td>    0.026</td> <td>   -9.791</td> <td> 0.000</td> <td>   -0.307</td> <td>   -0.204</td>\n",
              "</tr>\n",
              "<tr>\n",
              "  <th>misty</th>      <td>   -0.0583</td> <td>    0.010</td> <td>   -5.637</td> <td> 0.000</td> <td>   -0.079</td> <td>   -0.038</td>\n",
              "</tr>\n",
              "<tr>\n",
              "  <th>December</th>   <td>   -0.0388</td> <td>    0.017</td> <td>   -2.248</td> <td> 0.025</td> <td>   -0.073</td> <td>   -0.005</td>\n",
              "</tr>\n",
              "<tr>\n",
              "  <th>January</th>    <td>   -0.0455</td> <td>    0.018</td> <td>   -2.548</td> <td> 0.011</td> <td>   -0.081</td> <td>   -0.010</td>\n",
              "</tr>\n",
              "<tr>\n",
              "  <th>July</th>       <td>   -0.0524</td> <td>    0.018</td> <td>   -2.916</td> <td> 0.004</td> <td>   -0.088</td> <td>   -0.017</td>\n",
              "</tr>\n",
              "<tr>\n",
              "  <th>November</th>   <td>   -0.0399</td> <td>    0.019</td> <td>   -2.152</td> <td> 0.032</td> <td>   -0.076</td> <td>   -0.003</td>\n",
              "</tr>\n",
              "<tr>\n",
              "  <th>September</th>  <td>    0.0737</td> <td>    0.017</td> <td>    4.430</td> <td> 0.000</td> <td>    0.041</td> <td>    0.106</td>\n",
              "</tr>\n",
              "<tr>\n",
              "  <th>Monday</th>     <td>    0.1068</td> <td>    0.027</td> <td>    3.984</td> <td> 0.000</td> <td>    0.054</td> <td>    0.160</td>\n",
              "</tr>\n",
              "<tr>\n",
              "  <th>Tuesday</th>    <td>    0.0520</td> <td>    0.027</td> <td>    1.931</td> <td> 0.054</td> <td>   -0.001</td> <td>    0.105</td>\n",
              "</tr>\n",
              "</table>\n",
              "<table class=\"simpletable\">\n",
              "<tr>\n",
              "  <th>Omnibus:</th>       <td>76.194</td> <th>  Durbin-Watson:     </th> <td>   2.051</td>\n",
              "</tr>\n",
              "<tr>\n",
              "  <th>Prob(Omnibus):</th> <td> 0.000</td> <th>  Jarque-Bera (JB):  </th> <td> 200.529</td>\n",
              "</tr>\n",
              "<tr>\n",
              "  <th>Skew:</th>          <td>-0.745</td> <th>  Prob(JB):          </th> <td>2.85e-44</td>\n",
              "</tr>\n",
              "<tr>\n",
              "  <th>Kurtosis:</th>      <td> 5.687</td> <th>  Cond. No.          </th> <td>    26.4</td>\n",
              "</tr>\n",
              "</table><br/><br/>Notes:<br/>[1] Standard Errors assume that the covariance matrix of the errors is correctly specified."
            ]
          },
          "metadata": {},
          "execution_count": 545
        }
      ]
    },
    {
      "cell_type": "markdown",
      "source": [
        "* p_value for Tuesday, though has reduced after dropping February column, is still greater than 0.05, so let's remove this variable as well and rebuild the model."
      ],
      "metadata": {
        "id": "sqXOvvo-ufvS"
      }
    },
    {
      "cell_type": "code",
      "source": [
        "#dropping variable 'Tuesday'\n",
        "col_5 = X_train[col_4].drop(['Tuesday'],axis=1).columns\n",
        "X_train_sm5 = sm.add_constant(X_train[col_5])\n",
        "\n",
        "#create the model\n",
        "lr_model5= sm.OLS(y_train,X_train_sm5)\n",
        "\n",
        "#fit the model\n",
        "lr5 = lr_model5.fit()"
      ],
      "metadata": {
        "id": "ooNWOIH_uyIo"
      },
      "execution_count": 546,
      "outputs": []
    },
    {
      "cell_type": "code",
      "source": [
        "lr5.summary()"
      ],
      "metadata": {
        "colab": {
          "base_uri": "https://localhost:8080/",
          "height": 772
        },
        "id": "_Jt9q2uau9Ok",
        "outputId": "f938b555-5923-4aca-da17-76fcbc6574fa"
      },
      "execution_count": 547,
      "outputs": [
        {
          "output_type": "execute_result",
          "data": {
            "text/plain": [
              "<class 'statsmodels.iolib.summary.Summary'>\n",
              "\"\"\"\n",
              "                            OLS Regression Results                            \n",
              "==============================================================================\n",
              "Dep. Variable:                    cnt   R-squared:                       0.849\n",
              "Model:                            OLS   Adj. R-squared:                  0.844\n",
              "Method:                 Least Squares   F-statistic:                     173.5\n",
              "Date:                Wed, 14 Sep 2022   Prob (F-statistic):          1.20e-190\n",
              "Time:                        16:11:05   Log-Likelihood:                 521.29\n",
              "No. Observations:                 510   AIC:                            -1009.\n",
              "Df Residuals:                     493   BIC:                            -936.6\n",
              "Df Model:                          16                                         \n",
              "Covariance Type:            nonrobust                                         \n",
              "==============================================================================\n",
              "                 coef    std err          t      P>|t|      [0.025      0.975]\n",
              "------------------------------------------------------------------------------\n",
              "const          0.2690      0.037      7.267      0.000       0.196       0.342\n",
              "yr             0.2311      0.008     28.929      0.000       0.215       0.247\n",
              "workingday     0.0521      0.011      4.826      0.000       0.031       0.073\n",
              "temp           0.4744      0.037     12.978      0.000       0.403       0.546\n",
              "hum           -0.1480      0.037     -3.952      0.000      -0.222      -0.074\n",
              "windspeed     -0.1883      0.025     -7.386      0.000      -0.238      -0.138\n",
              "spring        -0.0624      0.021     -2.974      0.003      -0.104      -0.021\n",
              "summer         0.0421      0.015      2.783      0.006       0.012       0.072\n",
              "winter         0.1038      0.018      5.832      0.000       0.069       0.139\n",
              "lightrain     -0.2552      0.026     -9.754      0.000      -0.307      -0.204\n",
              "misty         -0.0581      0.010     -5.607      0.000      -0.078      -0.038\n",
              "December      -0.0398      0.017     -2.302      0.022      -0.074      -0.006\n",
              "January       -0.0465      0.018     -2.596      0.010      -0.082      -0.011\n",
              "July          -0.0514      0.018     -2.854      0.004      -0.087      -0.016\n",
              "November      -0.0441      0.018     -2.390      0.017      -0.080      -0.008\n",
              "September      0.0714      0.017      4.289      0.000       0.039       0.104\n",
              "Monday         0.0625      0.014      4.493      0.000       0.035       0.090\n",
              "==============================================================================\n",
              "Omnibus:                       82.403   Durbin-Watson:                   2.030\n",
              "Prob(Omnibus):                  0.000   Jarque-Bera (JB):              227.435\n",
              "Skew:                          -0.787   Prob(JB):                     4.10e-50\n",
              "Kurtosis:                       5.867   Cond. No.                         23.0\n",
              "==============================================================================\n",
              "\n",
              "Notes:\n",
              "[1] Standard Errors assume that the covariance matrix of the errors is correctly specified.\n",
              "\"\"\""
            ],
            "text/html": [
              "<table class=\"simpletable\">\n",
              "<caption>OLS Regression Results</caption>\n",
              "<tr>\n",
              "  <th>Dep. Variable:</th>           <td>cnt</td>       <th>  R-squared:         </th> <td>   0.849</td> \n",
              "</tr>\n",
              "<tr>\n",
              "  <th>Model:</th>                   <td>OLS</td>       <th>  Adj. R-squared:    </th> <td>   0.844</td> \n",
              "</tr>\n",
              "<tr>\n",
              "  <th>Method:</th>             <td>Least Squares</td>  <th>  F-statistic:       </th> <td>   173.5</td> \n",
              "</tr>\n",
              "<tr>\n",
              "  <th>Date:</th>             <td>Wed, 14 Sep 2022</td> <th>  Prob (F-statistic):</th> <td>1.20e-190</td>\n",
              "</tr>\n",
              "<tr>\n",
              "  <th>Time:</th>                 <td>16:11:05</td>     <th>  Log-Likelihood:    </th> <td>  521.29</td> \n",
              "</tr>\n",
              "<tr>\n",
              "  <th>No. Observations:</th>      <td>   510</td>      <th>  AIC:               </th> <td>  -1009.</td> \n",
              "</tr>\n",
              "<tr>\n",
              "  <th>Df Residuals:</th>          <td>   493</td>      <th>  BIC:               </th> <td>  -936.6</td> \n",
              "</tr>\n",
              "<tr>\n",
              "  <th>Df Model:</th>              <td>    16</td>      <th>                     </th>     <td> </td>    \n",
              "</tr>\n",
              "<tr>\n",
              "  <th>Covariance Type:</th>      <td>nonrobust</td>    <th>                     </th>     <td> </td>    \n",
              "</tr>\n",
              "</table>\n",
              "<table class=\"simpletable\">\n",
              "<tr>\n",
              "       <td></td>         <th>coef</th>     <th>std err</th>      <th>t</th>      <th>P>|t|</th>  <th>[0.025</th>    <th>0.975]</th>  \n",
              "</tr>\n",
              "<tr>\n",
              "  <th>const</th>      <td>    0.2690</td> <td>    0.037</td> <td>    7.267</td> <td> 0.000</td> <td>    0.196</td> <td>    0.342</td>\n",
              "</tr>\n",
              "<tr>\n",
              "  <th>yr</th>         <td>    0.2311</td> <td>    0.008</td> <td>   28.929</td> <td> 0.000</td> <td>    0.215</td> <td>    0.247</td>\n",
              "</tr>\n",
              "<tr>\n",
              "  <th>workingday</th> <td>    0.0521</td> <td>    0.011</td> <td>    4.826</td> <td> 0.000</td> <td>    0.031</td> <td>    0.073</td>\n",
              "</tr>\n",
              "<tr>\n",
              "  <th>temp</th>       <td>    0.4744</td> <td>    0.037</td> <td>   12.978</td> <td> 0.000</td> <td>    0.403</td> <td>    0.546</td>\n",
              "</tr>\n",
              "<tr>\n",
              "  <th>hum</th>        <td>   -0.1480</td> <td>    0.037</td> <td>   -3.952</td> <td> 0.000</td> <td>   -0.222</td> <td>   -0.074</td>\n",
              "</tr>\n",
              "<tr>\n",
              "  <th>windspeed</th>  <td>   -0.1883</td> <td>    0.025</td> <td>   -7.386</td> <td> 0.000</td> <td>   -0.238</td> <td>   -0.138</td>\n",
              "</tr>\n",
              "<tr>\n",
              "  <th>spring</th>     <td>   -0.0624</td> <td>    0.021</td> <td>   -2.974</td> <td> 0.003</td> <td>   -0.104</td> <td>   -0.021</td>\n",
              "</tr>\n",
              "<tr>\n",
              "  <th>summer</th>     <td>    0.0421</td> <td>    0.015</td> <td>    2.783</td> <td> 0.006</td> <td>    0.012</td> <td>    0.072</td>\n",
              "</tr>\n",
              "<tr>\n",
              "  <th>winter</th>     <td>    0.1038</td> <td>    0.018</td> <td>    5.832</td> <td> 0.000</td> <td>    0.069</td> <td>    0.139</td>\n",
              "</tr>\n",
              "<tr>\n",
              "  <th>lightrain</th>  <td>   -0.2552</td> <td>    0.026</td> <td>   -9.754</td> <td> 0.000</td> <td>   -0.307</td> <td>   -0.204</td>\n",
              "</tr>\n",
              "<tr>\n",
              "  <th>misty</th>      <td>   -0.0581</td> <td>    0.010</td> <td>   -5.607</td> <td> 0.000</td> <td>   -0.078</td> <td>   -0.038</td>\n",
              "</tr>\n",
              "<tr>\n",
              "  <th>December</th>   <td>   -0.0398</td> <td>    0.017</td> <td>   -2.302</td> <td> 0.022</td> <td>   -0.074</td> <td>   -0.006</td>\n",
              "</tr>\n",
              "<tr>\n",
              "  <th>January</th>    <td>   -0.0465</td> <td>    0.018</td> <td>   -2.596</td> <td> 0.010</td> <td>   -0.082</td> <td>   -0.011</td>\n",
              "</tr>\n",
              "<tr>\n",
              "  <th>July</th>       <td>   -0.0514</td> <td>    0.018</td> <td>   -2.854</td> <td> 0.004</td> <td>   -0.087</td> <td>   -0.016</td>\n",
              "</tr>\n",
              "<tr>\n",
              "  <th>November</th>   <td>   -0.0441</td> <td>    0.018</td> <td>   -2.390</td> <td> 0.017</td> <td>   -0.080</td> <td>   -0.008</td>\n",
              "</tr>\n",
              "<tr>\n",
              "  <th>September</th>  <td>    0.0714</td> <td>    0.017</td> <td>    4.289</td> <td> 0.000</td> <td>    0.039</td> <td>    0.104</td>\n",
              "</tr>\n",
              "<tr>\n",
              "  <th>Monday</th>     <td>    0.0625</td> <td>    0.014</td> <td>    4.493</td> <td> 0.000</td> <td>    0.035</td> <td>    0.090</td>\n",
              "</tr>\n",
              "</table>\n",
              "<table class=\"simpletable\">\n",
              "<tr>\n",
              "  <th>Omnibus:</th>       <td>82.403</td> <th>  Durbin-Watson:     </th> <td>   2.030</td>\n",
              "</tr>\n",
              "<tr>\n",
              "  <th>Prob(Omnibus):</th> <td> 0.000</td> <th>  Jarque-Bera (JB):  </th> <td> 227.435</td>\n",
              "</tr>\n",
              "<tr>\n",
              "  <th>Skew:</th>          <td>-0.787</td> <th>  Prob(JB):          </th> <td>4.10e-50</td>\n",
              "</tr>\n",
              "<tr>\n",
              "  <th>Kurtosis:</th>      <td> 5.867</td> <th>  Cond. No.          </th> <td>    23.0</td>\n",
              "</tr>\n",
              "</table><br/><br/>Notes:<br/>[1] Standard Errors assume that the covariance matrix of the errors is correctly specified."
            ]
          },
          "metadata": {},
          "execution_count": 547
        }
      ]
    },
    {
      "cell_type": "code",
      "source": [
        "#import library for checking VIF\n",
        "\n",
        "from statsmodels.stats.outliers_influence import variance_inflation_factor"
      ],
      "metadata": {
        "id": "fOj1C5QvvSRi"
      },
      "execution_count": 548,
      "outputs": []
    },
    {
      "cell_type": "code",
      "source": [
        "# Create a dataframe that will contain the names of all the feature variables and their respective VIFs\n",
        "X_train_VIF = X_train[col_5]\n",
        "vif = pd.DataFrame()\n",
        "vif['Features'] = X_train_VIF.columns\n",
        "vif['VIF'] = [variance_inflation_factor(X_train_VIF.values, i) for i in range(X_train_VIF.shape[1])] # compute VIF for all columns of X_train given by size shape[1]\n",
        "vif['VIF'] = round(vif['VIF'], 2) #rounding off VIF value to 2 decimal points\n",
        "vif = vif.sort_values(by = \"VIF\", ascending = False)\n",
        "vif"
      ],
      "metadata": {
        "colab": {
          "base_uri": "https://localhost:8080/",
          "height": 551
        },
        "id": "Q1ZOsEJ8vXHd",
        "outputId": "d8ec357d-3fd1-45d7-939e-74b9d1add13f"
      },
      "execution_count": 549,
      "outputs": [
        {
          "output_type": "execute_result",
          "data": {
            "text/plain": [
              "      Features    VIF\n",
              "3          hum  31.08\n",
              "2         temp  18.94\n",
              "1   workingday   4.77\n",
              "4    windspeed   4.77\n",
              "5       spring   4.50\n",
              "7       winter   4.11\n",
              "6       summer   2.88\n",
              "9        misty   2.32\n",
              "0           yr   2.09\n",
              "15      Monday   1.86\n",
              "13    November   1.82\n",
              "11     January   1.76\n",
              "12        July   1.59\n",
              "10    December   1.57\n",
              "14   September   1.41\n",
              "8    lightrain   1.28"
            ],
            "text/html": [
              "\n",
              "  <div id=\"df-d05f266b-d7ee-4152-a0aa-7a23e5f0092a\">\n",
              "    <div class=\"colab-df-container\">\n",
              "      <div>\n",
              "<style scoped>\n",
              "    .dataframe tbody tr th:only-of-type {\n",
              "        vertical-align: middle;\n",
              "    }\n",
              "\n",
              "    .dataframe tbody tr th {\n",
              "        vertical-align: top;\n",
              "    }\n",
              "\n",
              "    .dataframe thead th {\n",
              "        text-align: right;\n",
              "    }\n",
              "</style>\n",
              "<table border=\"1\" class=\"dataframe\">\n",
              "  <thead>\n",
              "    <tr style=\"text-align: right;\">\n",
              "      <th></th>\n",
              "      <th>Features</th>\n",
              "      <th>VIF</th>\n",
              "    </tr>\n",
              "  </thead>\n",
              "  <tbody>\n",
              "    <tr>\n",
              "      <th>3</th>\n",
              "      <td>hum</td>\n",
              "      <td>31.08</td>\n",
              "    </tr>\n",
              "    <tr>\n",
              "      <th>2</th>\n",
              "      <td>temp</td>\n",
              "      <td>18.94</td>\n",
              "    </tr>\n",
              "    <tr>\n",
              "      <th>1</th>\n",
              "      <td>workingday</td>\n",
              "      <td>4.77</td>\n",
              "    </tr>\n",
              "    <tr>\n",
              "      <th>4</th>\n",
              "      <td>windspeed</td>\n",
              "      <td>4.77</td>\n",
              "    </tr>\n",
              "    <tr>\n",
              "      <th>5</th>\n",
              "      <td>spring</td>\n",
              "      <td>4.50</td>\n",
              "    </tr>\n",
              "    <tr>\n",
              "      <th>7</th>\n",
              "      <td>winter</td>\n",
              "      <td>4.11</td>\n",
              "    </tr>\n",
              "    <tr>\n",
              "      <th>6</th>\n",
              "      <td>summer</td>\n",
              "      <td>2.88</td>\n",
              "    </tr>\n",
              "    <tr>\n",
              "      <th>9</th>\n",
              "      <td>misty</td>\n",
              "      <td>2.32</td>\n",
              "    </tr>\n",
              "    <tr>\n",
              "      <th>0</th>\n",
              "      <td>yr</td>\n",
              "      <td>2.09</td>\n",
              "    </tr>\n",
              "    <tr>\n",
              "      <th>15</th>\n",
              "      <td>Monday</td>\n",
              "      <td>1.86</td>\n",
              "    </tr>\n",
              "    <tr>\n",
              "      <th>13</th>\n",
              "      <td>November</td>\n",
              "      <td>1.82</td>\n",
              "    </tr>\n",
              "    <tr>\n",
              "      <th>11</th>\n",
              "      <td>January</td>\n",
              "      <td>1.76</td>\n",
              "    </tr>\n",
              "    <tr>\n",
              "      <th>12</th>\n",
              "      <td>July</td>\n",
              "      <td>1.59</td>\n",
              "    </tr>\n",
              "    <tr>\n",
              "      <th>10</th>\n",
              "      <td>December</td>\n",
              "      <td>1.57</td>\n",
              "    </tr>\n",
              "    <tr>\n",
              "      <th>14</th>\n",
              "      <td>September</td>\n",
              "      <td>1.41</td>\n",
              "    </tr>\n",
              "    <tr>\n",
              "      <th>8</th>\n",
              "      <td>lightrain</td>\n",
              "      <td>1.28</td>\n",
              "    </tr>\n",
              "  </tbody>\n",
              "</table>\n",
              "</div>\n",
              "      <button class=\"colab-df-convert\" onclick=\"convertToInteractive('df-d05f266b-d7ee-4152-a0aa-7a23e5f0092a')\"\n",
              "              title=\"Convert this dataframe to an interactive table.\"\n",
              "              style=\"display:none;\">\n",
              "        \n",
              "  <svg xmlns=\"http://www.w3.org/2000/svg\" height=\"24px\"viewBox=\"0 0 24 24\"\n",
              "       width=\"24px\">\n",
              "    <path d=\"M0 0h24v24H0V0z\" fill=\"none\"/>\n",
              "    <path d=\"M18.56 5.44l.94 2.06.94-2.06 2.06-.94-2.06-.94-.94-2.06-.94 2.06-2.06.94zm-11 1L8.5 8.5l.94-2.06 2.06-.94-2.06-.94L8.5 2.5l-.94 2.06-2.06.94zm10 10l.94 2.06.94-2.06 2.06-.94-2.06-.94-.94-2.06-.94 2.06-2.06.94z\"/><path d=\"M17.41 7.96l-1.37-1.37c-.4-.4-.92-.59-1.43-.59-.52 0-1.04.2-1.43.59L10.3 9.45l-7.72 7.72c-.78.78-.78 2.05 0 2.83L4 21.41c.39.39.9.59 1.41.59.51 0 1.02-.2 1.41-.59l7.78-7.78 2.81-2.81c.8-.78.8-2.07 0-2.86zM5.41 20L4 18.59l7.72-7.72 1.47 1.35L5.41 20z\"/>\n",
              "  </svg>\n",
              "      </button>\n",
              "      \n",
              "  <style>\n",
              "    .colab-df-container {\n",
              "      display:flex;\n",
              "      flex-wrap:wrap;\n",
              "      gap: 12px;\n",
              "    }\n",
              "\n",
              "    .colab-df-convert {\n",
              "      background-color: #E8F0FE;\n",
              "      border: none;\n",
              "      border-radius: 50%;\n",
              "      cursor: pointer;\n",
              "      display: none;\n",
              "      fill: #1967D2;\n",
              "      height: 32px;\n",
              "      padding: 0 0 0 0;\n",
              "      width: 32px;\n",
              "    }\n",
              "\n",
              "    .colab-df-convert:hover {\n",
              "      background-color: #E2EBFA;\n",
              "      box-shadow: 0px 1px 2px rgba(60, 64, 67, 0.3), 0px 1px 3px 1px rgba(60, 64, 67, 0.15);\n",
              "      fill: #174EA6;\n",
              "    }\n",
              "\n",
              "    [theme=dark] .colab-df-convert {\n",
              "      background-color: #3B4455;\n",
              "      fill: #D2E3FC;\n",
              "    }\n",
              "\n",
              "    [theme=dark] .colab-df-convert:hover {\n",
              "      background-color: #434B5C;\n",
              "      box-shadow: 0px 1px 3px 1px rgba(0, 0, 0, 0.15);\n",
              "      filter: drop-shadow(0px 1px 2px rgba(0, 0, 0, 0.3));\n",
              "      fill: #FFFFFF;\n",
              "    }\n",
              "  </style>\n",
              "\n",
              "      <script>\n",
              "        const buttonEl =\n",
              "          document.querySelector('#df-d05f266b-d7ee-4152-a0aa-7a23e5f0092a button.colab-df-convert');\n",
              "        buttonEl.style.display =\n",
              "          google.colab.kernel.accessAllowed ? 'block' : 'none';\n",
              "\n",
              "        async function convertToInteractive(key) {\n",
              "          const element = document.querySelector('#df-d05f266b-d7ee-4152-a0aa-7a23e5f0092a');\n",
              "          const dataTable =\n",
              "            await google.colab.kernel.invokeFunction('convertToInteractive',\n",
              "                                                     [key], {});\n",
              "          if (!dataTable) return;\n",
              "\n",
              "          const docLinkHtml = 'Like what you see? Visit the ' +\n",
              "            '<a target=\"_blank\" href=https://colab.research.google.com/notebooks/data_table.ipynb>data table notebook</a>'\n",
              "            + ' to learn more about interactive tables.';\n",
              "          element.innerHTML = '';\n",
              "          dataTable['output_type'] = 'display_data';\n",
              "          await google.colab.output.renderOutput(dataTable, element);\n",
              "          const docLink = document.createElement('div');\n",
              "          docLink.innerHTML = docLinkHtml;\n",
              "          element.appendChild(docLink);\n",
              "        }\n",
              "      </script>\n",
              "    </div>\n",
              "  </div>\n",
              "  "
            ]
          },
          "metadata": {},
          "execution_count": 549
        }
      ]
    },
    {
      "cell_type": "markdown",
      "source": [
        "* hum variable seems to have very high VIF value. Let's drop the variable and build another model."
      ],
      "metadata": {
        "id": "SMfzlzd2v3OA"
      }
    },
    {
      "cell_type": "code",
      "source": [
        "#dropping variable 'hum'\n",
        "col_6 = X_train[col_5].drop(['hum'],axis=1).columns\n",
        "X_train_sm6 = sm.add_constant(X_train[col_6])\n",
        "\n",
        "#create the model\n",
        "lr_model6 = sm.OLS(y_train,X_train_sm6)\n",
        "\n",
        "#fit the model\n",
        "lr6 = lr_model6.fit()"
      ],
      "metadata": {
        "id": "nyjetdti_1OU"
      },
      "execution_count": 550,
      "outputs": []
    },
    {
      "cell_type": "code",
      "source": [
        "lr6.summary()"
      ],
      "metadata": {
        "colab": {
          "base_uri": "https://localhost:8080/",
          "height": 750
        },
        "id": "fwvKeOz3AAo1",
        "outputId": "fa28469b-0a68-4daa-b8c3-d854c468bda5"
      },
      "execution_count": 551,
      "outputs": [
        {
          "output_type": "execute_result",
          "data": {
            "text/plain": [
              "<class 'statsmodels.iolib.summary.Summary'>\n",
              "\"\"\"\n",
              "                            OLS Regression Results                            \n",
              "==============================================================================\n",
              "Dep. Variable:                    cnt   R-squared:                       0.844\n",
              "Model:                            OLS   Adj. R-squared:                  0.840\n",
              "Method:                 Least Squares   F-statistic:                     178.7\n",
              "Date:                Wed, 14 Sep 2022   Prob (F-statistic):          1.84e-188\n",
              "Time:                        16:11:05   Log-Likelihood:                 513.34\n",
              "No. Observations:                 510   AIC:                            -994.7\n",
              "Df Residuals:                     494   BIC:                            -926.9\n",
              "Df Model:                          15                                         \n",
              "Covariance Type:            nonrobust                                         \n",
              "==============================================================================\n",
              "                 coef    std err          t      P>|t|      [0.025      0.975]\n",
              "------------------------------------------------------------------------------\n",
              "const          0.1985      0.033      6.031      0.000       0.134       0.263\n",
              "yr             0.2348      0.008     29.173      0.000       0.219       0.251\n",
              "workingday     0.0547      0.011      5.009      0.000       0.033       0.076\n",
              "temp           0.4354      0.036     12.191      0.000       0.365       0.506\n",
              "windspeed     -0.1609      0.025     -6.464      0.000      -0.210      -0.112\n",
              "spring        -0.0713      0.021     -3.371      0.001      -0.113      -0.030\n",
              "summer         0.0354      0.015      2.320      0.021       0.005       0.065\n",
              "winter         0.0903      0.018      5.093      0.000       0.055       0.125\n",
              "lightrain     -0.2969      0.024    -12.222      0.000      -0.345      -0.249\n",
              "misty         -0.0818      0.009     -9.526      0.000      -0.099      -0.065\n",
              "December      -0.0467      0.017     -2.675      0.008      -0.081      -0.012\n",
              "January       -0.0526      0.018     -2.905      0.004      -0.088      -0.017\n",
              "July          -0.0466      0.018     -2.554      0.011      -0.082      -0.011\n",
              "November      -0.0447      0.019     -2.389      0.017      -0.081      -0.008\n",
              "September      0.0652      0.017      3.880      0.000       0.032       0.098\n",
              "Monday         0.0670      0.014      4.758      0.000       0.039       0.095\n",
              "==============================================================================\n",
              "Omnibus:                       85.035   Durbin-Watson:                   2.025\n",
              "Prob(Omnibus):                  0.000   Jarque-Bera (JB):              239.570\n",
              "Skew:                          -0.805   Prob(JB):                     9.50e-53\n",
              "Kurtosis:                       5.946   Cond. No.                         21.2\n",
              "==============================================================================\n",
              "\n",
              "Notes:\n",
              "[1] Standard Errors assume that the covariance matrix of the errors is correctly specified.\n",
              "\"\"\""
            ],
            "text/html": [
              "<table class=\"simpletable\">\n",
              "<caption>OLS Regression Results</caption>\n",
              "<tr>\n",
              "  <th>Dep. Variable:</th>           <td>cnt</td>       <th>  R-squared:         </th> <td>   0.844</td> \n",
              "</tr>\n",
              "<tr>\n",
              "  <th>Model:</th>                   <td>OLS</td>       <th>  Adj. R-squared:    </th> <td>   0.840</td> \n",
              "</tr>\n",
              "<tr>\n",
              "  <th>Method:</th>             <td>Least Squares</td>  <th>  F-statistic:       </th> <td>   178.7</td> \n",
              "</tr>\n",
              "<tr>\n",
              "  <th>Date:</th>             <td>Wed, 14 Sep 2022</td> <th>  Prob (F-statistic):</th> <td>1.84e-188</td>\n",
              "</tr>\n",
              "<tr>\n",
              "  <th>Time:</th>                 <td>16:11:05</td>     <th>  Log-Likelihood:    </th> <td>  513.34</td> \n",
              "</tr>\n",
              "<tr>\n",
              "  <th>No. Observations:</th>      <td>   510</td>      <th>  AIC:               </th> <td>  -994.7</td> \n",
              "</tr>\n",
              "<tr>\n",
              "  <th>Df Residuals:</th>          <td>   494</td>      <th>  BIC:               </th> <td>  -926.9</td> \n",
              "</tr>\n",
              "<tr>\n",
              "  <th>Df Model:</th>              <td>    15</td>      <th>                     </th>     <td> </td>    \n",
              "</tr>\n",
              "<tr>\n",
              "  <th>Covariance Type:</th>      <td>nonrobust</td>    <th>                     </th>     <td> </td>    \n",
              "</tr>\n",
              "</table>\n",
              "<table class=\"simpletable\">\n",
              "<tr>\n",
              "       <td></td>         <th>coef</th>     <th>std err</th>      <th>t</th>      <th>P>|t|</th>  <th>[0.025</th>    <th>0.975]</th>  \n",
              "</tr>\n",
              "<tr>\n",
              "  <th>const</th>      <td>    0.1985</td> <td>    0.033</td> <td>    6.031</td> <td> 0.000</td> <td>    0.134</td> <td>    0.263</td>\n",
              "</tr>\n",
              "<tr>\n",
              "  <th>yr</th>         <td>    0.2348</td> <td>    0.008</td> <td>   29.173</td> <td> 0.000</td> <td>    0.219</td> <td>    0.251</td>\n",
              "</tr>\n",
              "<tr>\n",
              "  <th>workingday</th> <td>    0.0547</td> <td>    0.011</td> <td>    5.009</td> <td> 0.000</td> <td>    0.033</td> <td>    0.076</td>\n",
              "</tr>\n",
              "<tr>\n",
              "  <th>temp</th>       <td>    0.4354</td> <td>    0.036</td> <td>   12.191</td> <td> 0.000</td> <td>    0.365</td> <td>    0.506</td>\n",
              "</tr>\n",
              "<tr>\n",
              "  <th>windspeed</th>  <td>   -0.1609</td> <td>    0.025</td> <td>   -6.464</td> <td> 0.000</td> <td>   -0.210</td> <td>   -0.112</td>\n",
              "</tr>\n",
              "<tr>\n",
              "  <th>spring</th>     <td>   -0.0713</td> <td>    0.021</td> <td>   -3.371</td> <td> 0.001</td> <td>   -0.113</td> <td>   -0.030</td>\n",
              "</tr>\n",
              "<tr>\n",
              "  <th>summer</th>     <td>    0.0354</td> <td>    0.015</td> <td>    2.320</td> <td> 0.021</td> <td>    0.005</td> <td>    0.065</td>\n",
              "</tr>\n",
              "<tr>\n",
              "  <th>winter</th>     <td>    0.0903</td> <td>    0.018</td> <td>    5.093</td> <td> 0.000</td> <td>    0.055</td> <td>    0.125</td>\n",
              "</tr>\n",
              "<tr>\n",
              "  <th>lightrain</th>  <td>   -0.2969</td> <td>    0.024</td> <td>  -12.222</td> <td> 0.000</td> <td>   -0.345</td> <td>   -0.249</td>\n",
              "</tr>\n",
              "<tr>\n",
              "  <th>misty</th>      <td>   -0.0818</td> <td>    0.009</td> <td>   -9.526</td> <td> 0.000</td> <td>   -0.099</td> <td>   -0.065</td>\n",
              "</tr>\n",
              "<tr>\n",
              "  <th>December</th>   <td>   -0.0467</td> <td>    0.017</td> <td>   -2.675</td> <td> 0.008</td> <td>   -0.081</td> <td>   -0.012</td>\n",
              "</tr>\n",
              "<tr>\n",
              "  <th>January</th>    <td>   -0.0526</td> <td>    0.018</td> <td>   -2.905</td> <td> 0.004</td> <td>   -0.088</td> <td>   -0.017</td>\n",
              "</tr>\n",
              "<tr>\n",
              "  <th>July</th>       <td>   -0.0466</td> <td>    0.018</td> <td>   -2.554</td> <td> 0.011</td> <td>   -0.082</td> <td>   -0.011</td>\n",
              "</tr>\n",
              "<tr>\n",
              "  <th>November</th>   <td>   -0.0447</td> <td>    0.019</td> <td>   -2.389</td> <td> 0.017</td> <td>   -0.081</td> <td>   -0.008</td>\n",
              "</tr>\n",
              "<tr>\n",
              "  <th>September</th>  <td>    0.0652</td> <td>    0.017</td> <td>    3.880</td> <td> 0.000</td> <td>    0.032</td> <td>    0.098</td>\n",
              "</tr>\n",
              "<tr>\n",
              "  <th>Monday</th>     <td>    0.0670</td> <td>    0.014</td> <td>    4.758</td> <td> 0.000</td> <td>    0.039</td> <td>    0.095</td>\n",
              "</tr>\n",
              "</table>\n",
              "<table class=\"simpletable\">\n",
              "<tr>\n",
              "  <th>Omnibus:</th>       <td>85.035</td> <th>  Durbin-Watson:     </th> <td>   2.025</td>\n",
              "</tr>\n",
              "<tr>\n",
              "  <th>Prob(Omnibus):</th> <td> 0.000</td> <th>  Jarque-Bera (JB):  </th> <td> 239.570</td>\n",
              "</tr>\n",
              "<tr>\n",
              "  <th>Skew:</th>          <td>-0.805</td> <th>  Prob(JB):          </th> <td>9.50e-53</td>\n",
              "</tr>\n",
              "<tr>\n",
              "  <th>Kurtosis:</th>      <td> 5.946</td> <th>  Cond. No.          </th> <td>    21.2</td>\n",
              "</tr>\n",
              "</table><br/><br/>Notes:<br/>[1] Standard Errors assume that the covariance matrix of the errors is correctly specified."
            ]
          },
          "metadata": {},
          "execution_count": 551
        }
      ]
    },
    {
      "cell_type": "code",
      "source": [
        "# Let's check for multicollinearity again after dropping 'hum' variable\n",
        "X_train_VIF2 = X_train[col_6]\n",
        "vif = pd.DataFrame()\n",
        "vif['Features'] = X_train_VIF2.columns\n",
        "vif['VIF'] = [variance_inflation_factor(X_train_VIF2.values, i) for i in range(X_train_VIF2.shape[1])] # compute VIF for all columns of X_train given by size shape[1]\n",
        "vif['VIF'] = round(vif['VIF'], 2) #rounding off VIF value to 2 decimal points\n",
        "vif = vif.sort_values(by = \"VIF\", ascending = False)\n",
        "vif"
      ],
      "metadata": {
        "colab": {
          "base_uri": "https://localhost:8080/",
          "height": 520
        },
        "id": "Qnb-hTqGAUk7",
        "outputId": "1b957538-85bf-40f1-a4e6-cf0c810d37c2"
      },
      "execution_count": 552,
      "outputs": [
        {
          "output_type": "execute_result",
          "data": {
            "text/plain": [
              "      Features   VIF\n",
              "2         temp  6.92\n",
              "1   workingday  4.74\n",
              "3    windspeed  4.71\n",
              "4       spring  3.09\n",
              "6       winter  3.03\n",
              "5       summer  2.33\n",
              "0           yr  2.08\n",
              "14      Monday  1.86\n",
              "12    November  1.79\n",
              "10     January  1.67\n",
              "11        July  1.59\n",
              "8        misty  1.58\n",
              "9     December  1.49\n",
              "13   September  1.35\n",
              "7    lightrain  1.09"
            ],
            "text/html": [
              "\n",
              "  <div id=\"df-27365313-836b-4be6-92fd-9ae1d599f2ac\">\n",
              "    <div class=\"colab-df-container\">\n",
              "      <div>\n",
              "<style scoped>\n",
              "    .dataframe tbody tr th:only-of-type {\n",
              "        vertical-align: middle;\n",
              "    }\n",
              "\n",
              "    .dataframe tbody tr th {\n",
              "        vertical-align: top;\n",
              "    }\n",
              "\n",
              "    .dataframe thead th {\n",
              "        text-align: right;\n",
              "    }\n",
              "</style>\n",
              "<table border=\"1\" class=\"dataframe\">\n",
              "  <thead>\n",
              "    <tr style=\"text-align: right;\">\n",
              "      <th></th>\n",
              "      <th>Features</th>\n",
              "      <th>VIF</th>\n",
              "    </tr>\n",
              "  </thead>\n",
              "  <tbody>\n",
              "    <tr>\n",
              "      <th>2</th>\n",
              "      <td>temp</td>\n",
              "      <td>6.92</td>\n",
              "    </tr>\n",
              "    <tr>\n",
              "      <th>1</th>\n",
              "      <td>workingday</td>\n",
              "      <td>4.74</td>\n",
              "    </tr>\n",
              "    <tr>\n",
              "      <th>3</th>\n",
              "      <td>windspeed</td>\n",
              "      <td>4.71</td>\n",
              "    </tr>\n",
              "    <tr>\n",
              "      <th>4</th>\n",
              "      <td>spring</td>\n",
              "      <td>3.09</td>\n",
              "    </tr>\n",
              "    <tr>\n",
              "      <th>6</th>\n",
              "      <td>winter</td>\n",
              "      <td>3.03</td>\n",
              "    </tr>\n",
              "    <tr>\n",
              "      <th>5</th>\n",
              "      <td>summer</td>\n",
              "      <td>2.33</td>\n",
              "    </tr>\n",
              "    <tr>\n",
              "      <th>0</th>\n",
              "      <td>yr</td>\n",
              "      <td>2.08</td>\n",
              "    </tr>\n",
              "    <tr>\n",
              "      <th>14</th>\n",
              "      <td>Monday</td>\n",
              "      <td>1.86</td>\n",
              "    </tr>\n",
              "    <tr>\n",
              "      <th>12</th>\n",
              "      <td>November</td>\n",
              "      <td>1.79</td>\n",
              "    </tr>\n",
              "    <tr>\n",
              "      <th>10</th>\n",
              "      <td>January</td>\n",
              "      <td>1.67</td>\n",
              "    </tr>\n",
              "    <tr>\n",
              "      <th>11</th>\n",
              "      <td>July</td>\n",
              "      <td>1.59</td>\n",
              "    </tr>\n",
              "    <tr>\n",
              "      <th>8</th>\n",
              "      <td>misty</td>\n",
              "      <td>1.58</td>\n",
              "    </tr>\n",
              "    <tr>\n",
              "      <th>9</th>\n",
              "      <td>December</td>\n",
              "      <td>1.49</td>\n",
              "    </tr>\n",
              "    <tr>\n",
              "      <th>13</th>\n",
              "      <td>September</td>\n",
              "      <td>1.35</td>\n",
              "    </tr>\n",
              "    <tr>\n",
              "      <th>7</th>\n",
              "      <td>lightrain</td>\n",
              "      <td>1.09</td>\n",
              "    </tr>\n",
              "  </tbody>\n",
              "</table>\n",
              "</div>\n",
              "      <button class=\"colab-df-convert\" onclick=\"convertToInteractive('df-27365313-836b-4be6-92fd-9ae1d599f2ac')\"\n",
              "              title=\"Convert this dataframe to an interactive table.\"\n",
              "              style=\"display:none;\">\n",
              "        \n",
              "  <svg xmlns=\"http://www.w3.org/2000/svg\" height=\"24px\"viewBox=\"0 0 24 24\"\n",
              "       width=\"24px\">\n",
              "    <path d=\"M0 0h24v24H0V0z\" fill=\"none\"/>\n",
              "    <path d=\"M18.56 5.44l.94 2.06.94-2.06 2.06-.94-2.06-.94-.94-2.06-.94 2.06-2.06.94zm-11 1L8.5 8.5l.94-2.06 2.06-.94-2.06-.94L8.5 2.5l-.94 2.06-2.06.94zm10 10l.94 2.06.94-2.06 2.06-.94-2.06-.94-.94-2.06-.94 2.06-2.06.94z\"/><path d=\"M17.41 7.96l-1.37-1.37c-.4-.4-.92-.59-1.43-.59-.52 0-1.04.2-1.43.59L10.3 9.45l-7.72 7.72c-.78.78-.78 2.05 0 2.83L4 21.41c.39.39.9.59 1.41.59.51 0 1.02-.2 1.41-.59l7.78-7.78 2.81-2.81c.8-.78.8-2.07 0-2.86zM5.41 20L4 18.59l7.72-7.72 1.47 1.35L5.41 20z\"/>\n",
              "  </svg>\n",
              "      </button>\n",
              "      \n",
              "  <style>\n",
              "    .colab-df-container {\n",
              "      display:flex;\n",
              "      flex-wrap:wrap;\n",
              "      gap: 12px;\n",
              "    }\n",
              "\n",
              "    .colab-df-convert {\n",
              "      background-color: #E8F0FE;\n",
              "      border: none;\n",
              "      border-radius: 50%;\n",
              "      cursor: pointer;\n",
              "      display: none;\n",
              "      fill: #1967D2;\n",
              "      height: 32px;\n",
              "      padding: 0 0 0 0;\n",
              "      width: 32px;\n",
              "    }\n",
              "\n",
              "    .colab-df-convert:hover {\n",
              "      background-color: #E2EBFA;\n",
              "      box-shadow: 0px 1px 2px rgba(60, 64, 67, 0.3), 0px 1px 3px 1px rgba(60, 64, 67, 0.15);\n",
              "      fill: #174EA6;\n",
              "    }\n",
              "\n",
              "    [theme=dark] .colab-df-convert {\n",
              "      background-color: #3B4455;\n",
              "      fill: #D2E3FC;\n",
              "    }\n",
              "\n",
              "    [theme=dark] .colab-df-convert:hover {\n",
              "      background-color: #434B5C;\n",
              "      box-shadow: 0px 1px 3px 1px rgba(0, 0, 0, 0.15);\n",
              "      filter: drop-shadow(0px 1px 2px rgba(0, 0, 0, 0.3));\n",
              "      fill: #FFFFFF;\n",
              "    }\n",
              "  </style>\n",
              "\n",
              "      <script>\n",
              "        const buttonEl =\n",
              "          document.querySelector('#df-27365313-836b-4be6-92fd-9ae1d599f2ac button.colab-df-convert');\n",
              "        buttonEl.style.display =\n",
              "          google.colab.kernel.accessAllowed ? 'block' : 'none';\n",
              "\n",
              "        async function convertToInteractive(key) {\n",
              "          const element = document.querySelector('#df-27365313-836b-4be6-92fd-9ae1d599f2ac');\n",
              "          const dataTable =\n",
              "            await google.colab.kernel.invokeFunction('convertToInteractive',\n",
              "                                                     [key], {});\n",
              "          if (!dataTable) return;\n",
              "\n",
              "          const docLinkHtml = 'Like what you see? Visit the ' +\n",
              "            '<a target=\"_blank\" href=https://colab.research.google.com/notebooks/data_table.ipynb>data table notebook</a>'\n",
              "            + ' to learn more about interactive tables.';\n",
              "          element.innerHTML = '';\n",
              "          dataTable['output_type'] = 'display_data';\n",
              "          await google.colab.output.renderOutput(dataTable, element);\n",
              "          const docLink = document.createElement('div');\n",
              "          docLink.innerHTML = docLinkHtml;\n",
              "          element.appendChild(docLink);\n",
              "        }\n",
              "      </script>\n",
              "    </div>\n",
              "  </div>\n",
              "  "
            ]
          },
          "metadata": {},
          "execution_count": 552
        }
      ]
    },
    {
      "cell_type": "markdown",
      "source": [
        "##### **The parameters of this model looks good for with p_value for all variables less than 0.05 and also VIF less than 5. Except for temp variable, but let's keep it as it shows strong linear collinearity with target variable.** \n",
        "\n",
        "- R_squared is 0.844, so 84.4% variance of the train dataset is explained by this model.\n",
        "- p_value of F-statistic is nearly 0, meaning the fit is not just by chance, which is good."
      ],
      "metadata": {
        "id": "Bd9SDe0XC5a6"
      }
    },
    {
      "cell_type": "markdown",
      "source": [
        "# **Step 6: Residual Analysis**"
      ],
      "metadata": {
        "id": "0UG0DyxxD7Tz"
      }
    },
    {
      "cell_type": "code",
      "source": [
        "y_train_pred = lr6.predict(X_train_sm6) #predicts the y values for train dataset for given X values\n",
        "\n",
        "res = y_train - y_train_pred \n",
        "\n",
        "#plotting the residuals pattern\n",
        "sns.distplot(res)"
      ],
      "metadata": {
        "colab": {
          "base_uri": "https://localhost:8080/",
          "height": 282
        },
        "id": "xXNjshgTEV2f",
        "outputId": "c8d41a65-26c3-45ce-9f12-34af16614fd4"
      },
      "execution_count": 553,
      "outputs": [
        {
          "output_type": "execute_result",
          "data": {
            "text/plain": [
              "<matplotlib.axes._subplots.AxesSubplot at 0x7fb17d711190>"
            ]
          },
          "metadata": {},
          "execution_count": 553
        },
        {
          "output_type": "display_data",
          "data": {
            "text/plain": [
              "<Figure size 432x288 with 1 Axes>"
            ],
            "image/png": "[encoded data removed]"
          },
          "metadata": {
            "needs_background": "light"
          }
        }
      ]
    },
    {
      "cell_type": "markdown",
      "source": [
        "The distribution of residuals is centered around 0 with normal distribution, so assumptions are validated."
      ],
      "metadata": {
        "id": "SsQ_AbytExHn"
      }
    },
    {
      "cell_type": "markdown",
      "source": [
        "# **Step 7: Predictions and Model Evaluation**"
      ],
      "metadata": {
        "id": "Yx6qbR7bF-dI"
      }
    },
    {
      "cell_type": "markdown",
      "source": [
        "#### **Predictions**"
      ],
      "metadata": {
        "id": "qzm_4mPeI3XD"
      }
    },
    {
      "cell_type": "code",
      "source": [
        "num_var = ['temp','hum','windspeed','cnt']\n",
        "\n",
        "#we only need to transform here as it is on test dataset. So there is no to fit, which is why we don't use fit_transform()\n",
        "df_test[num_var] = scaler.transform(df_test[num_var])"
      ],
      "metadata": {
        "id": "3nC7k8qQGJXE"
      },
      "execution_count": 554,
      "outputs": []
    },
    {
      "cell_type": "code",
      "source": [
        "#create X_test and y_test\n",
        "\n",
        "y_test = df_test.pop('cnt')\n",
        "X_test = df_test"
      ],
      "metadata": {
        "id": "Bp1XIdbdHajq"
      },
      "execution_count": 555,
      "outputs": []
    },
    {
      "cell_type": "code",
      "source": [
        "#keeping only the variables that the model was trained\n",
        "X_test = X_test[col_6]\n",
        "X_test.head()"
      ],
      "metadata": {
        "colab": {
          "base_uri": "https://localhost:8080/",
          "height": 206
        },
        "id": "5nB0DRW-HxnY",
        "outputId": "e8f29974-7c17-45e8-aa75-d3856983c1dc"
      },
      "execution_count": 556,
      "outputs": [
        {
          "output_type": "execute_result",
          "data": {
            "text/plain": [
              "     yr  workingday      temp  windspeed  spring  summer  winter  lightrain  \\\n",
              "184   0           0  0.831783   0.084219       0       0       0          0   \n",
              "535   1           1  0.901354   0.153728       0       1       0          0   \n",
              "299   0           1  0.511964   0.334206       0       0       1          0   \n",
              "221   0           1  0.881625   0.339570       0       0       0          0   \n",
              "152   0           1  0.817246   0.537414       0       1       0          0   \n",
              "\n",
              "     misty  December  January  July  November  September  Monday  \n",
              "184      1         0        0     1         0          0       0  \n",
              "535      0         0        0     0         0          0       0  \n",
              "299      1         0        0     0         0          0       0  \n",
              "221      0         0        0     0         0          0       0  \n",
              "152      0         0        0     0         0          0       0  "
            ],
            "text/html": [
              "\n",
              "  <div id=\"df-c775895e-a25c-4b0a-bc5f-c084b5e91da6\">\n",
              "    <div class=\"colab-df-container\">\n",
              "      <div>\n",
              "<style scoped>\n",
              "    .dataframe tbody tr th:only-of-type {\n",
              "        vertical-align: middle;\n",
              "    }\n",
              "\n",
              "    .dataframe tbody tr th {\n",
              "        vertical-align: top;\n",
              "    }\n",
              "\n",
              "    .dataframe thead th {\n",
              "        text-align: right;\n",
              "    }\n",
              "</style>\n",
              "<table border=\"1\" class=\"dataframe\">\n",
              "  <thead>\n",
              "    <tr style=\"text-align: right;\">\n",
              "      <th></th>\n",
              "      <th>yr</th>\n",
              "      <th>workingday</th>\n",
              "      <th>temp</th>\n",
              "      <th>windspeed</th>\n",
              "      <th>spring</th>\n",
              "      <th>summer</th>\n",
              "      <th>winter</th>\n",
              "      <th>lightrain</th>\n",
              "      <th>misty</th>\n",
              "      <th>December</th>\n",
              "      <th>January</th>\n",
              "      <th>July</th>\n",
              "      <th>November</th>\n",
              "      <th>September</th>\n",
              "      <th>Monday</th>\n",
              "    </tr>\n",
              "  </thead>\n",
              "  <tbody>\n",
              "    <tr>\n",
              "      <th>184</th>\n",
              "      <td>0</td>\n",
              "      <td>0</td>\n",
              "      <td>0.831783</td>\n",
              "      <td>0.084219</td>\n",
              "      <td>0</td>\n",
              "      <td>0</td>\n",
              "      <td>0</td>\n",
              "      <td>0</td>\n",
              "      <td>1</td>\n",
              "      <td>0</td>\n",
              "      <td>0</td>\n",
              "      <td>1</td>\n",
              "      <td>0</td>\n",
              "      <td>0</td>\n",
              "      <td>0</td>\n",
              "    </tr>\n",
              "    <tr>\n",
              "      <th>535</th>\n",
              "      <td>1</td>\n",
              "      <td>1</td>\n",
              "      <td>0.901354</td>\n",
              "      <td>0.153728</td>\n",
              "      <td>0</td>\n",
              "      <td>1</td>\n",
              "      <td>0</td>\n",
              "      <td>0</td>\n",
              "      <td>0</td>\n",
              "      <td>0</td>\n",
              "      <td>0</td>\n",
              "      <td>0</td>\n",
              "      <td>0</td>\n",
              "      <td>0</td>\n",
              "      <td>0</td>\n",
              "    </tr>\n",
              "    <tr>\n",
              "      <th>299</th>\n",
              "      <td>0</td>\n",
              "      <td>1</td>\n",
              "      <td>0.511964</td>\n",
              "      <td>0.334206</td>\n",
              "      <td>0</td>\n",
              "      <td>0</td>\n",
              "      <td>1</td>\n",
              "      <td>0</td>\n",
              "      <td>1</td>\n",
              "      <td>0</td>\n",
              "      <td>0</td>\n",
              "      <td>0</td>\n",
              "      <td>0</td>\n",
              "      <td>0</td>\n",
              "      <td>0</td>\n",
              "    </tr>\n",
              "    <tr>\n",
              "      <th>221</th>\n",
              "      <td>0</td>\n",
              "      <td>1</td>\n",
              "      <td>0.881625</td>\n",
              "      <td>0.339570</td>\n",
              "      <td>0</td>\n",
              "      <td>0</td>\n",
              "      <td>0</td>\n",
              "      <td>0</td>\n",
              "      <td>0</td>\n",
              "      <td>0</td>\n",
              "      <td>0</td>\n",
              "      <td>0</td>\n",
              "      <td>0</td>\n",
              "      <td>0</td>\n",
              "      <td>0</td>\n",
              "    </tr>\n",
              "    <tr>\n",
              "      <th>152</th>\n",
              "      <td>0</td>\n",
              "      <td>1</td>\n",
              "      <td>0.817246</td>\n",
              "      <td>0.537414</td>\n",
              "      <td>0</td>\n",
              "      <td>1</td>\n",
              "      <td>0</td>\n",
              "      <td>0</td>\n",
              "      <td>0</td>\n",
              "      <td>0</td>\n",
              "      <td>0</td>\n",
              "      <td>0</td>\n",
              "      <td>0</td>\n",
              "      <td>0</td>\n",
              "      <td>0</td>\n",
              "    </tr>\n",
              "  </tbody>\n",
              "</table>\n",
              "</div>\n",
              "      <button class=\"colab-df-convert\" onclick=\"convertToInteractive('df-c775895e-a25c-4b0a-bc5f-c084b5e91da6')\"\n",
              "              title=\"Convert this dataframe to an interactive table.\"\n",
              "              style=\"display:none;\">\n",
              "        \n",
              "  <svg xmlns=\"http://www.w3.org/2000/svg\" height=\"24px\"viewBox=\"0 0 24 24\"\n",
              "       width=\"24px\">\n",
              "    <path d=\"M0 0h24v24H0V0z\" fill=\"none\"/>\n",
              "    <path d=\"M18.56 5.44l.94 2.06.94-2.06 2.06-.94-2.06-.94-.94-2.06-.94 2.06-2.06.94zm-11 1L8.5 8.5l.94-2.06 2.06-.94-2.06-.94L8.5 2.5l-.94 2.06-2.06.94zm10 10l.94 2.06.94-2.06 2.06-.94-2.06-.94-.94-2.06-.94 2.06-2.06.94z\"/><path d=\"M17.41 7.96l-1.37-1.37c-.4-.4-.92-.59-1.43-.59-.52 0-1.04.2-1.43.59L10.3 9.45l-7.72 7.72c-.78.78-.78 2.05 0 2.83L4 21.41c.39.39.9.59 1.41.59.51 0 1.02-.2 1.41-.59l7.78-7.78 2.81-2.81c.8-.78.8-2.07 0-2.86zM5.41 20L4 18.59l7.72-7.72 1.47 1.35L5.41 20z\"/>\n",
              "  </svg>\n",
              "      </button>\n",
              "      \n",
              "  <style>\n",
              "    .colab-df-container {\n",
              "      display:flex;\n",
              "      flex-wrap:wrap;\n",
              "      gap: 12px;\n",
              "    }\n",
              "\n",
              "    .colab-df-convert {\n",
              "      background-color: #E8F0FE;\n",
              "      border: none;\n",
              "      border-radius: 50%;\n",
              "      cursor: pointer;\n",
              "      display: none;\n",
              "      fill: #1967D2;\n",
              "      height: 32px;\n",
              "      padding: 0 0 0 0;\n",
              "      width: 32px;\n",
              "    }\n",
              "\n",
              "    .colab-df-convert:hover {\n",
              "      background-color: #E2EBFA;\n",
              "      box-shadow: 0px 1px 2px rgba(60, 64, 67, 0.3), 0px 1px 3px 1px rgba(60, 64, 67, 0.15);\n",
              "      fill: #174EA6;\n",
              "    }\n",
              "\n",
              "    [theme=dark] .colab-df-convert {\n",
              "      background-color: #3B4455;\n",
              "      fill: #D2E3FC;\n",
              "    }\n",
              "\n",
              "    [theme=dark] .colab-df-convert:hover {\n",
              "      background-color: #434B5C;\n",
              "      box-shadow: 0px 1px 3px 1px rgba(0, 0, 0, 0.15);\n",
              "      filter: drop-shadow(0px 1px 2px rgba(0, 0, 0, 0.3));\n",
              "      fill: #FFFFFF;\n",
              "    }\n",
              "  </style>\n",
              "\n",
              "      <script>\n",
              "        const buttonEl =\n",
              "          document.querySelector('#df-c775895e-a25c-4b0a-bc5f-c084b5e91da6 button.colab-df-convert');\n",
              "        buttonEl.style.display =\n",
              "          google.colab.kernel.accessAllowed ? 'block' : 'none';\n",
              "\n",
              "        async function convertToInteractive(key) {\n",
              "          const element = document.querySelector('#df-c775895e-a25c-4b0a-bc5f-c084b5e91da6');\n",
              "          const dataTable =\n",
              "            await google.colab.kernel.invokeFunction('convertToInteractive',\n",
              "                                                     [key], {});\n",
              "          if (!dataTable) return;\n",
              "\n",
              "          const docLinkHtml = 'Like what you see? Visit the ' +\n",
              "            '<a target=\"_blank\" href=https://colab.research.google.com/notebooks/data_table.ipynb>data table notebook</a>'\n",
              "            + ' to learn more about interactive tables.';\n",
              "          element.innerHTML = '';\n",
              "          dataTable['output_type'] = 'display_data';\n",
              "          await google.colab.output.renderOutput(dataTable, element);\n",
              "          const docLink = document.createElement('div');\n",
              "          docLink.innerHTML = docLinkHtml;\n",
              "          element.appendChild(docLink);\n",
              "        }\n",
              "      </script>\n",
              "    </div>\n",
              "  </div>\n",
              "  "
            ]
          },
          "metadata": {},
          "execution_count": 556
        }
      ]
    },
    {
      "cell_type": "code",
      "source": [
        "X_test_sm = sm.add_constant(X_test)\n",
        "\n",
        "#make predictions\n",
        "y_test_pred = lr6.predict(X_test_sm)"
      ],
      "metadata": {
        "id": "4UAB9knaIFcg"
      },
      "execution_count": 557,
      "outputs": []
    },
    {
      "cell_type": "markdown",
      "source": [
        "#### **Evaluation**"
      ],
      "metadata": {
        "id": "BzEveOouI8XF"
      }
    },
    {
      "cell_type": "code",
      "source": [
        "#import library\n",
        "from sklearn.metrics import r2_score\n",
        "\n",
        "r2_score(y_true=y_test,y_pred=y_test_pred)"
      ],
      "metadata": {
        "colab": {
          "base_uri": "https://localhost:8080/"
        },
        "id": "SoTk1Q68I-ju",
        "outputId": "fa95d3e9-e578-4db3-dcb8-968fb59feca3"
      },
      "execution_count": 558,
      "outputs": [
        {
          "output_type": "execute_result",
          "data": {
            "text/plain": [
              "0.8168681962672555"
            ]
          },
          "metadata": {},
          "execution_count": 558
        }
      ]
    },
    {
      "cell_type": "code",
      "source": [
        "# Plotting y_test and y_pred to understand the spread.\n",
        "fig = plt.figure()\n",
        "plt.scatter(y_test,y_test_pred)\n",
        "#add labels\n",
        "fig.suptitle('y_test vs y_test_pred', fontsize=16, color='red')               \n",
        "plt.xlabel('y_test', fontsize=14)                          \n",
        "plt.ylabel('y_test_pred', fontsize=14)    \n",
        "plt.show()"
      ],
      "metadata": {
        "colab": {
          "base_uri": "https://localhost:8080/",
          "height": 312
        },
        "id": "LbID5XehJiJC",
        "outputId": "19576638-2e84-4d45-e460-5d90b509e30b"
      },
      "execution_count": 559,
      "outputs": [
        {
          "output_type": "display_data",
          "data": {
            "text/plain": [
              "<Figure size 432x288 with 1 Axes>"
            ],
            "image/png": "[encoded data removed]"
          },
          "metadata": {
            "needs_background": "light"
          }
        }
      ]
    },
    {
      "cell_type": "markdown",
      "source": [
        "**R2 score for the test dataset is 0.817 and that for train dataset from above is 0.844, which means the model has a good predictive power.**\n",
        "\n",
        "**Also, from the plot, we can see that the predictions are very similar to that of test dataset.**"
      ],
      "metadata": {
        "id": "IAWdCpYPKdMx"
      }
    },
    {
      "cell_type": "markdown",
      "source": [
        "**Equation of the model:**\n",
        "\n",
        "cnt = 0.1985 + 0.2348×yr + 0.4354×temp + 0.0547xworkingday - 0.1609xwindspeed  - 0.0713×spring  + 0.0354×summer + 0.0903×winter  - 0.2969×lightrain - 0.0818×misty  - 0.0467×december - 0.0526×january -  0.0466×july - 0.0447×november + 0.0652×september + 0.0670×monday\n",
        "\n"
      ],
      "metadata": {
        "id": "oa5nqJNzLaPY"
      }
    },
    {
      "cell_type": "markdown",
      "source": [
        "### **Model Interpretation**"
      ],
      "metadata": {
        "id": "a-Ou9pvpNzjY"
      }
    },
    {
      "cell_type": "markdown",
      "source": [
        "- The variables of the final model seems has p_value<0.05, so coefficients of all variables are statistically significant.\n",
        "\n",
        "- R2 and Adjusted R2 are of similar values after removing the redundant and less significant variables.\n",
        "\n",
        "- F-statistic p_value is nearly 0, so the fit is not just by chance."
      ],
      "metadata": {
        "id": "TaoGStoSN9eE"
      }
    }
  ]
}